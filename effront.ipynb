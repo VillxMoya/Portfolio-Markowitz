{
 "cells": [
  {
   "cell_type": "code",
   "execution_count": 1,
   "metadata": {},
   "outputs": [],
   "source": [
    "import pandas as pd\n",
    "import numpy as np\n",
    "\n",
    "from tqdm import tqdm\n",
    "import kaleido\n",
    "\n",
    "import plotly\n",
    "import plotly.graph_objects as go\n",
    "from plotly.subplots import make_subplots\n",
    "import plotly.express as px\n",
    "import plotly.figure_factory as ff\n",
    "\n",
    "from utils import *\n",
    "\n",
    "path\n"
   ]
  },
  {
   "cell_type": "code",
   "execution_count": 7,
   "metadata": {},
   "outputs": [],
   "source": [
    "# Rets treatment and cleaning\n",
    "corto = pd.read_csv(path+'CP BUENO.csv', sep= ';', parse_dates=['Fecha'], dayfirst=True)\n",
    "medio = pd.read_csv(path+'MP BUENARDO.csv', sep= ';', parse_dates=['Fecha'], dayfirst=True)\n",
    "largo = pd.read_csv(path+'LP BUENARDO.csv', sep= ';', parse_dates=['Fecha'], dayfirst=True)\n",
    "rets_c = corto.drop(['Fecha'], axis=1).dropna(axis = 0)\n",
    "rets_m = medio.drop('Fecha', axis=1).dropna(axis = 0)\n",
    "rets_l = largo.drop(['Fecha'], axis=1).dropna(axis = 0)\n",
    "\n",
    "for i, k , v in zip(rets_c.columns, rets_m.columns, rets_l.columns): \n",
    "    rets_c[i]= rets_c[i].astype(float)\n",
    "    rets_m[k]= rets_m[k].astype(float)\n",
    "    rets_l[v]= rets_l[v].astype(float)"
   ]
  },
  {
   "cell_type": "code",
   "execution_count": 8,
   "metadata": {},
   "outputs": [
    {
     "name": "stderr",
     "output_type": "stream",
     "text": [
      "100%|██████████| 10000/10000 [00:01<00:00, 7037.46it/s]\n"
     ]
    },
    {
     "data": {
      "text/html": [
       "<table border=\"1\" class=\"dataframe\">\n",
       "  <thead>\n",
       "    <tr style=\"text-align: right;\">\n",
       "      <th></th>\n",
       "      <th>comp_0</th>\n",
       "      <th>comp_1</th>\n",
       "      <th>comp_2</th>\n",
       "      <th>comp_3</th>\n",
       "      <th>comp_4</th>\n",
       "      <th>peso_0</th>\n",
       "      <th>peso_1</th>\n",
       "      <th>peso_2</th>\n",
       "      <th>peso_3</th>\n",
       "      <th>peso_4</th>\n",
       "      <th>Rentabilidad</th>\n",
       "      <th>Volatilidad</th>\n",
       "      <th>sharpe</th>\n",
       "    </tr>\n",
       "    <tr>\n",
       "      <th>instrument</th>\n",
       "      <th></th>\n",
       "      <th></th>\n",
       "      <th></th>\n",
       "      <th></th>\n",
       "      <th></th>\n",
       "      <th></th>\n",
       "      <th></th>\n",
       "      <th></th>\n",
       "      <th></th>\n",
       "      <th></th>\n",
       "      <th></th>\n",
       "      <th></th>\n",
       "      <th></th>\n",
       "    </tr>\n",
       "  </thead>\n",
       "  <tbody>\n",
       "    <tr>\n",
       "      <th>portfolio_1</th>\n",
       "      <td>Rend PELLEGRINI RENTA PESOS</td>\n",
       "      <td>Rend FIMA AHORRO PESOS</td>\n",
       "      <td>Rend FBA Renta Pesos</td>\n",
       "      <td>Rend PELLEGRINI CRECIMIENTO</td>\n",
       "      <td>Rend SUPERAHORRO $</td>\n",
       "      <td>0.069943</td>\n",
       "      <td>0.235759</td>\n",
       "      <td>0.270590</td>\n",
       "      <td>0.230181</td>\n",
       "      <td>0.193526</td>\n",
       "      <td>-0.091764</td>\n",
       "      <td>0.051785</td>\n",
       "      <td>-1.650344</td>\n",
       "    </tr>\n",
       "    <tr>\n",
       "      <th>portfolio_2</th>\n",
       "      <td>Rend FIMA PREMIUM</td>\n",
       "      <td>PF DEFLACT</td>\n",
       "      <td>Rend SUPERAHORRO $</td>\n",
       "      <td>Rend HF PESOS</td>\n",
       "      <td>Rend PELLEGRINI RENTA FIJA</td>\n",
       "      <td>0.131507</td>\n",
       "      <td>0.244971</td>\n",
       "      <td>0.149393</td>\n",
       "      <td>0.268332</td>\n",
       "      <td>0.205796</td>\n",
       "      <td>-0.085870</td>\n",
       "      <td>0.053487</td>\n",
       "      <td>-1.487652</td>\n",
       "    </tr>\n",
       "    <tr>\n",
       "      <th>portfolio_3</th>\n",
       "      <td>Rend PELLEGRINI RENTA FIJA</td>\n",
       "      <td>Rend SUPERGESTION MIX VI</td>\n",
       "      <td>PF DEFLACT</td>\n",
       "      <td>Rend HF PESOS</td>\n",
       "      <td>Rend PELLEGRINI CRECIMIENTO</td>\n",
       "      <td>0.360567</td>\n",
       "      <td>0.061124</td>\n",
       "      <td>0.014258</td>\n",
       "      <td>0.216917</td>\n",
       "      <td>0.347135</td>\n",
       "      <td>-0.074603</td>\n",
       "      <td>0.089989</td>\n",
       "      <td>-0.759016</td>\n",
       "    </tr>\n",
       "    <tr>\n",
       "      <th>portfolio_4</th>\n",
       "      <td>Rendimiento Deflact Dólar MEP</td>\n",
       "      <td>Rend SUPERAHORRO $</td>\n",
       "      <td>Rend FIMA PREMIUM</td>\n",
       "      <td>Rend FIMA AHORRO PESOS</td>\n",
       "      <td>Rend PELLEGRINI CRECIMIENTO</td>\n",
       "      <td>0.014691</td>\n",
       "      <td>0.162252</td>\n",
       "      <td>0.367479</td>\n",
       "      <td>0.253415</td>\n",
       "      <td>0.202163</td>\n",
       "      <td>-0.090847</td>\n",
       "      <td>0.049614</td>\n",
       "      <td>-1.704095</td>\n",
       "    </tr>\n",
       "    <tr>\n",
       "      <th>portfolio_5</th>\n",
       "      <td>Rend SUPERAHORRO $</td>\n",
       "      <td>Rend FIMA AHORRO PESOS</td>\n",
       "      <td>Rend SUPERGESTION MIX VI</td>\n",
       "      <td>Rend FBA Renta Pesos</td>\n",
       "      <td>Rendimiento Deflact Dólar MEP</td>\n",
       "      <td>0.260500</td>\n",
       "      <td>0.040688</td>\n",
       "      <td>0.220577</td>\n",
       "      <td>0.257466</td>\n",
       "      <td>0.220769</td>\n",
       "      <td>-0.048133</td>\n",
       "      <td>0.105315</td>\n",
       "      <td>-0.397223</td>\n",
       "    </tr>\n",
       "  </tbody>\n",
       "</table>"
      ],
      "text/plain": [
       "<IPython.core.display.HTML object>"
      ]
     },
     "metadata": {},
     "output_type": "display_data"
    },
    {
     "data": {
      "application/vnd.plotly.v1+json": {
       "config": {
        "plotlyServerURL": "https://plot.ly"
       },
       "data": [
        {
         "marker": {
          "color": [
           -1.6503441760509203,
           -1.487651593542561,
           -0.7590159099182466,
           -1.7040949551615192,
           -0.3972232113935524,
           -0.050911063090076925,
           -1.8363116710993996,
           -0.26004206770356403,
           -1.1607828764980832,
           -1.9492076175052315,
           -1.3949644671845542,
           -0.4666780225399605,
           -1.2600004058122858,
           0.027451715094739502,
           -2.2919190589025464,
           -0.22187962473707995,
           -1.924153880723317,
           -0.12083402309139094,
           -1.5344811387886106,
           0.002777216374929384,
           -1.4076207087278851,
           0.0691823222150512,
           -0.36405946209708206,
           -0.05824265902039467,
           0.006890908087994196,
           -1.4829564695061344,
           0.19132591502081683,
           0.06760506548816195,
           0.19245814923863233,
           0.2200067113171602,
           -1.6619411958491144,
           -0.2958896925371562,
           -1.425356557604659,
           -0.8788502114930585,
           0.15397805340835613,
           -0.7333314711613619,
           -0.2728718181515649,
           -1.2459991797006102,
           -0.6074726378819162,
           0.14541188635449678,
           0.09953392209126032,
           -0.5365277707098792,
           0.506506673290416,
           -0.6938715249361331,
           0.22795802639239057,
           0.12018896535883364,
           -0.04444498821453295,
           0.28234715834194446,
           0.0184998853313432,
           0.16538541435562487,
           0.3093127176331616,
           -0.08292745184066486,
           -1.589589278468585,
           -1.752513943506778,
           0.2100090112593389,
           0.25377426827704264,
           0.27594494815995546,
           -0.32654700896657235,
           -1.4998730481712894,
           -1.820692359707589,
           -0.522789876057435,
           0.34951062938728267,
           -1.8517126825922565,
           -1.32570999926559,
           -1.122589297891546,
           -0.9729317608447904,
           0.2941885622552269,
           -1.7169221204600689,
           -1.6749085654181695,
           -0.8386399069547252,
           -1.8282833869030701,
           0.21472747074985366,
           -1.732031800423815,
           0.3146510288474485,
           0.20306818130891058,
           -1.607064025668394,
           -1.055278926780253,
           0.32941301106433846,
           0.23983783471876371,
           0.1252966706728229,
           0.3459867780096414,
           -0.9716040628451216,
           0.25819110043978905,
           -1.7374616853503326,
           -2.0927820790107723,
           0.12353396682217087,
           -1.322851546036318,
           -1.7352078146777496,
           0.41324753139007786,
           -0.9153602763998494,
           0.35617363067649294,
           -1.4979656022982921,
           0.30142233360000587,
           0.035813974218845725,
           -0.3531170848355708,
           0.36274823603231954,
           0.3858904889159698,
           -1.8437325340225856,
           0.2927505613801562,
           -0.5273825352987078,
           0.13264934831258818,
           0.35819926730527685,
           -1.3811310769907634,
           -1.8838301720842123,
           -1.2604300982101286,
           -0.21254125802241888,
           -0.016595759315074413,
           0.3434680514697097,
           0.47073194240948923,
           0.35477142543382134,
           -0.8256761111275127,
           -0.8706914263592076,
           -1.1850333575685978,
           0.2162924796154273,
           0.35641801909291587,
           -0.5884952413467804,
           -0.005141879957723234,
           -0.03554280136926853,
           -1.5423737554829324,
           0.38997832663510784,
           -1.5222561404858925,
           0.36168310985141877,
           -1.8615228617917166,
           -0.48407903654643336,
           -1.443685057972545,
           -1.6602499499631314,
           -0.7502923805144499,
           0.2609168318757201,
           0.42302925381704265,
           0.25312428061429004,
           0.12869352249531205,
           -1.3586133929497868,
           -0.33735148361488815,
           0.19570126233358584,
           -0.43368588293405663,
           -0.630970602644173,
           -1.4005058050551007,
           -0.7326008515062362,
           -1.8031378643219933,
           0.13115762030733635,
           0.43946230150134996,
           -0.5335283929989765,
           -0.4116117294381885,
           0.13364938229883302,
           0.04054319918589637,
           0.07324413962765602,
           0.35947193517490517,
           -1.4764209920992508,
           -1.5751358606130126,
           -0.36808791540099156,
           -0.07432151480571002,
           0.47135459601045515,
           0.3499928110138713,
           -1.1316346096273255,
           0.28196658175728934,
           -0.7917870274823479,
           0.3457515557268227,
           0.1495427774392586,
           -1.497868555191663,
           -0.4226887552181535,
           -0.665824777381485,
           0.4992519000159943,
           -0.03826102439809784,
           -1.0878747369092285,
           -0.3077804578762952,
           -0.13362738613759143,
           0.2854012214990064,
           -1.188111561576,
           -0.0029515253832337433,
           -1.7393923125710975,
           0.14148074833049737,
           0.4405450578501706,
           0.3662545509052805,
           -1.4293279636146587,
           0.3264886671649547,
           0.2805145827036085,
           -0.06339483810182327,
           0.28326367238354916,
           -1.3378534972588862,
           0.17002040508166033,
           -0.6091194823960597,
           -0.3348219869804474,
           -1.4123348999165544,
           0.22689601954088925,
           0.22766259049804405,
           -0.18831645420757953,
           -0.3986636093836019,
           -0.0871740747738236,
           0.19910000287270252,
           -1.3678246081578644,
           0.40822134021646483,
           -0.5150964350672904,
           0.46331762115689906,
           -1.5764924668798448
          ],
          "colorbar": {
           "title": {
            "text": "Sharpe<br>Ratio"
           }
          },
          "colorscale": [
           [
            0,
            "rgb(103,0,31)"
           ],
           [
            0.1,
            "rgb(178,24,43)"
           ],
           [
            0.2,
            "rgb(214,96,77)"
           ],
           [
            0.3,
            "rgb(244,165,130)"
           ],
           [
            0.4,
            "rgb(253,219,199)"
           ],
           [
            0.5,
            "rgb(247,247,247)"
           ],
           [
            0.6,
            "rgb(209,229,240)"
           ],
           [
            0.7,
            "rgb(146,197,222)"
           ],
           [
            0.8,
            "rgb(67,147,195)"
           ],
           [
            0.9,
            "rgb(33,102,172)"
           ],
           [
            1,
            "rgb(5,48,97)"
           ]
          ],
          "line": {
           "width": 1
          },
          "showscale": true,
          "size": 7
         },
         "mode": "markers",
         "text": [
          "['Rend PELLEGRINI RENTA PESOS' 'Rend FIMA AHORRO PESOS'\n 'Rend FBA Renta Pesos' 'Rend PELLEGRINI CRECIMIENTO' 'Rend SUPERAHORRO $']<br>[0.07 0.24 0.27 0.23 0.19]",
          "['Rend FIMA PREMIUM' 'PF DEFLACT' 'Rend SUPERAHORRO $' 'Rend HF PESOS'\n 'Rend PELLEGRINI RENTA FIJA']<br>[0.13 0.24 0.15 0.27 0.21]",
          "['Rend PELLEGRINI RENTA FIJA' 'Rend SUPERGESTION MIX VI' 'PF DEFLACT'\n 'Rend HF PESOS' 'Rend PELLEGRINI CRECIMIENTO']<br>[0.36 0.06 0.01 0.22 0.35]",
          "['Rendimiento Deflact Dólar MEP' 'Rend SUPERAHORRO $' 'Rend FIMA PREMIUM'\n 'Rend FIMA AHORRO PESOS' 'Rend PELLEGRINI CRECIMIENTO']<br>[0.01 0.16 0.37 0.25 0.2 ]",
          "['Rend SUPERAHORRO $' 'Rend FIMA AHORRO PESOS' 'Rend SUPERGESTION MIX VI'\n 'Rend FBA Renta Pesos' 'Rendimiento Deflact Dólar MEP']<br>[0.26 0.04 0.22 0.26 0.22]",
          "['Rend FBA Renta Pesos' 'PF DEFLACT' 'Rend SUPERGESTION MIX VI'\n 'Rendimiento Deflact Dólar MEP' 'Rend FIMA AHORRO PESOS']<br>[0.2  0.28 0.08 0.27 0.16]",
          "['PF DEFLACT' 'Rend FBA Renta Pesos' 'Rend HF PESOS'\n 'Rend PELLEGRINI RENTA PESOS' 'Rendimiento Deflact Dólar MEP']<br>[0.11 0.29 0.18 0.38 0.04]",
          "['Rendimiento Deflact Dólar MEP' 'Rend HF PESOS'\n 'Rend PELLEGRINI CRECIMIENTO' 'Rend FIMA AHORRO PESOS'\n 'Rend FBA Renta Pesos']<br>[0.21 0.18 0.21 0.2  0.19]",
          "['Rend PELLEGRINI RENTA PESOS' 'Rend SUPERGESTION MIX VI' 'Rend HF PESOS'\n 'Rend FBA Renta Pesos' 'Rendimiento Deflact Dólar MEP']<br>[0.4  0.15 0.15 0.21 0.1 ]",
          "['Rend FIMA PREMIUM' 'PF DEFLACT' 'Rend FIMA AHORRO PESOS' 'Rend HF PESOS'\n 'Rendimiento Deflact Dólar MEP']<br>[0.31 0.15 0.21 0.31 0.02]",
          "['Rend PELLEGRINI RENTA FIJA' 'Rend PELLEGRINI RENTA PESOS' 'PF DEFLACT'\n 'Rend FIMA AHORRO PESOS' 'Rend FIMA PREMIUM']<br>[0.18 0.22 0.34 0.17 0.08]",
          "['Rendimiento Deflact Dólar MEP' 'Rend PELLEGRINI CRECIMIENTO'\n 'Rend FIMA AHORRO PESOS' 'Rend PELLEGRINI RENTA PESOS'\n 'Rend SUPERGESTION MIX VI']<br>[0.14 0.39 0.36 0.09 0.02]",
          "['Rend FBA Renta Pesos' 'PF DEFLACT' 'Rend PELLEGRINI CRECIMIENTO'\n 'Rend PELLEGRINI RENTA PESOS' 'Rend FIMA PREMIUM']<br>[0.01 0.48 0.31 0.07 0.12]",
          "['PF DEFLACT' 'Rend FBA Renta Pesos' 'Rend HF PESOS'\n 'Rendimiento Deflact Dólar MEP' 'Rend PELLEGRINI RENTA FIJA']<br>[0.11 0.3  0.25 0.32 0.02]",
          "['Rend PELLEGRINI RENTA PESOS' 'Rend FIMA PREMIUM'\n 'Rend SUPERGESTION MIX VI' 'Rend HF PESOS' 'PF DEFLACT']<br>[0.11 0.47 0.   0.24 0.17]",
          "['Rend PELLEGRINI CRECIMIENTO' 'Rendimiento Deflact Dólar MEP'\n 'Rend SUPERAHORRO $' 'Rend HF PESOS' 'Rend FIMA PREMIUM']<br>[0.13 0.24 0.29 0.19 0.16]",
          "['Rend FIMA AHORRO PESOS' 'Rend PELLEGRINI RENTA PESOS'\n 'Rend FBA Renta Pesos' 'PF DEFLACT' 'Rend HF PESOS']<br>[0.01 0.12 0.06 0.46 0.34]",
          "['Rend PELLEGRINI RENTA PESOS' 'Rend FIMA AHORRO PESOS'\n 'Rendimiento Deflact Dólar MEP' 'PF DEFLACT'\n 'Rend PELLEGRINI CRECIMIENTO']<br>[0.11 0.28 0.22 0.19 0.2 ]",
          "['Rend PELLEGRINI RENTA PESOS' 'Rend HF PESOS' 'PF DEFLACT'\n 'Rend FIMA PREMIUM' 'Rendimiento Deflact Dólar MEP']<br>[0.27 0.16 0.21 0.3  0.06]",
          "['Rend FIMA AHORRO PESOS' 'Rendimiento Deflact Dólar MEP'\n 'Rend PELLEGRINI RENTA FIJA' 'Rend SUPERAHORRO $' 'Rend FBA Renta Pesos']<br>[0.21 0.31 0.03 0.13 0.32]",
          "['PF DEFLACT' 'Rend PELLEGRINI CRECIMIENTO' 'Rend SUPERAHORRO $'\n 'Rend FIMA AHORRO PESOS' 'Rend PELLEGRINI RENTA FIJA']<br>[0.31 0.15 0.3  0.13 0.11]",
          "['PF DEFLACT' 'Rend PELLEGRINI RENTA PESOS'\n 'Rendimiento Deflact Dólar MEP' 'Rend HF PESOS'\n 'Rend PELLEGRINI CRECIMIENTO']<br>[0.21 0.28 0.29 0.04 0.18]",
          "['Rendimiento Deflact Dólar MEP' 'Rend FIMA AHORRO PESOS'\n 'Rend PELLEGRINI RENTA PESOS' 'PF DEFLACT' 'Rend PELLEGRINI CRECIMIENTO']<br>[0.16 0.41 0.03 0.04 0.37]",
          "['PF DEFLACT' 'Rend PELLEGRINI RENTA PESOS' 'Rend FBA Renta Pesos'\n 'Rend PELLEGRINI CRECIMIENTO' 'Rendimiento Deflact Dólar MEP']<br>[0.13 0.31 0.2  0.09 0.27]",
          "['PF DEFLACT' 'Rend PELLEGRINI CRECIMIENTO' 'Rend SUPERAHORRO $'\n 'Rend PELLEGRINI RENTA PESOS' 'Rendimiento Deflact Dólar MEP']<br>[0.23 0.16 0.19 0.15 0.27]",
          "['Rend FIMA AHORRO PESOS' 'PF DEFLACT' 'Rend PELLEGRINI RENTA PESOS'\n 'Rendimiento Deflact Dólar MEP' 'Rend SUPERGESTION MIX VI']<br>[0.43 0.11 0.37 0.05 0.03]",
          "['Rend FIMA AHORRO PESOS' 'Rend SUPERAHORRO $' 'Rend SUPERGESTION MIX VI'\n 'Rendimiento Deflact Dólar MEP' 'Rend PELLEGRINI RENTA FIJA']<br>[0.16 0.16 0.14 0.42 0.12]",
          "['Rendimiento Deflact Dólar MEP' 'Rend FIMA AHORRO PESOS'\n 'Rend PELLEGRINI CRECIMIENTO' 'Rend FBA Renta Pesos' 'Rend HF PESOS']<br>[0.32 0.32 0.09 0.2  0.08]",
          "['Rend SUPERGESTION MIX VI' 'Rend PELLEGRINI RENTA PESOS'\n 'Rend FIMA AHORRO PESOS' 'Rendimiento Deflact Dólar MEP'\n 'Rend PELLEGRINI RENTA FIJA']<br>[0.03 0.2  0.28 0.39 0.09]",
          "['Rendimiento Deflact Dólar MEP' 'Rend PELLEGRINI RENTA FIJA'\n 'Rend HF PESOS' 'Rend FIMA PREMIUM' 'Rend FIMA AHORRO PESOS']<br>[0.4  0.18 0.08 0.18 0.16]",
          "['PF DEFLACT' 'Rend FBA Renta Pesos' 'Rend SUPERAHORRO $'\n 'Rend PELLEGRINI RENTA FIJA' 'Rend FIMA AHORRO PESOS']<br>[0.38 0.23 0.06 0.06 0.26]",
          "['Rend PELLEGRINI RENTA PESOS' 'Rend HF PESOS'\n 'Rendimiento Deflact Dólar MEP' 'Rend FIMA AHORRO PESOS'\n 'Rend PELLEGRINI CRECIMIENTO']<br>[0.04 0.06 0.18 0.34 0.39]",
          "['Rend PELLEGRINI CRECIMIENTO' 'Rend SUPERAHORRO $' 'Rend HF PESOS'\n 'Rendimiento Deflact Dólar MEP' 'Rend PELLEGRINI RENTA PESOS']<br>[0.21 0.21 0.41 0.07 0.1 ]",
          "['Rendimiento Deflact Dólar MEP' 'Rend FIMA AHORRO PESOS' 'Rend HF PESOS'\n 'Rend PELLEGRINI CRECIMIENTO' 'Rend FIMA PREMIUM']<br>[0.14 0.04 0.32 0.07 0.43]",
          "['Rendimiento Deflact Dólar MEP' 'Rend FIMA PREMIUM' 'PF DEFLACT'\n 'Rend HF PESOS' 'Rend PELLEGRINI CRECIMIENTO']<br>[0.34 0.17 0.15 0.13 0.22]",
          "['Rendimiento Deflact Dólar MEP' 'Rend SUPERAHORRO $'\n 'Rend PELLEGRINI CRECIMIENTO' 'Rend FBA Renta Pesos' 'Rend HF PESOS']<br>[0.15 0.27 0.16 0.23 0.2 ]",
          "['Rend HF PESOS' 'Rendimiento Deflact Dólar MEP' 'Rend FIMA AHORRO PESOS'\n 'Rend PELLEGRINI CRECIMIENTO' 'Rend FIMA PREMIUM']<br>[0.   0.19 0.41 0.31 0.09]",
          "['Rend PELLEGRINI CRECIMIENTO' 'Rendimiento Deflact Dólar MEP'\n 'Rend HF PESOS' 'Rend FIMA AHORRO PESOS' 'Rend FBA Renta Pesos']<br>[0.12 0.09 0.34 0.26 0.2 ]",
          "['Rend PELLEGRINI CRECIMIENTO' 'PF DEFLACT' 'Rend SUPERAHORRO $'\n 'Rend FIMA PREMIUM' 'Rendimiento Deflact Dólar MEP']<br>[0.36 0.08 0.23 0.19 0.14]",
          "['Rendimiento Deflact Dólar MEP' 'Rend FIMA AHORRO PESOS' 'Rend HF PESOS'\n 'PF DEFLACT' 'Rend PELLEGRINI RENTA PESOS']<br>[0.35 0.2  0.27 0.17 0.01]",
          "['Rend PELLEGRINI RENTA FIJA' 'Rend HF PESOS'\n 'Rend PELLEGRINI RENTA PESOS' 'Rend PELLEGRINI CRECIMIENTO'\n 'Rendimiento Deflact Dólar MEP']<br>[0.05 0.27 0.15 0.2  0.33]",
          "['Rend FIMA PREMIUM' 'Rend FIMA AHORRO PESOS'\n 'Rend PELLEGRINI RENTA PESOS' 'Rendimiento Deflact Dólar MEP'\n 'PF DEFLACT']<br>[0.09 0.29 0.17 0.15 0.31]",
          "['Rendimiento Deflact Dólar MEP' 'Rend PELLEGRINI CRECIMIENTO'\n 'Rend FIMA PREMIUM' 'Rend FBA Renta Pesos' 'PF DEFLACT']<br>[0.7  0.13 0.   0.05 0.13]",
          "['Rend FIMA AHORRO PESOS' 'Rend FIMA PREMIUM'\n 'Rend PELLEGRINI CRECIMIENTO' 'PF DEFLACT'\n 'Rendimiento Deflact Dólar MEP']<br>[0.34 0.1  0.01 0.45 0.11]",
          "['Rend FBA Renta Pesos' 'Rend PELLEGRINI CRECIMIENTO'\n 'Rendimiento Deflact Dólar MEP' 'Rend PELLEGRINI RENTA FIJA'\n 'Rend FIMA AHORRO PESOS']<br>[0.15 0.07 0.39 0.13 0.27]",
          "['PF DEFLACT' 'Rend PELLEGRINI CRECIMIENTO' 'Rend PELLEGRINI RENTA FIJA'\n 'Rend FIMA AHORRO PESOS' 'Rendimiento Deflact Dólar MEP']<br>[0.3  0.32 0.06 0.06 0.26]",
          "['Rend FIMA AHORRO PESOS' 'Rend PELLEGRINI CRECIMIENTO'\n 'Rendimiento Deflact Dólar MEP' 'PF DEFLACT' 'Rend PELLEGRINI RENTA FIJA']<br>[0.13 0.37 0.21 0.17 0.12]",
          "['Rendimiento Deflact Dólar MEP' 'Rend PELLEGRINI CRECIMIENTO'\n 'Rend FIMA PREMIUM' 'Rend HF PESOS' 'Rend PELLEGRINI RENTA FIJA']<br>[0.4  0.31 0.   0.22 0.06]",
          "['Rend FIMA PREMIUM' 'Rendimiento Deflact Dólar MEP' 'Rend SUPERAHORRO $'\n 'Rend PELLEGRINI CRECIMIENTO' 'PF DEFLACT']<br>[0.01 0.27 0.26 0.29 0.17]",
          "['PF DEFLACT' 'Rendimiento Deflact Dólar MEP'\n 'Rend PELLEGRINI CRECIMIENTO' 'Rend PELLEGRINI RENTA FIJA'\n 'Rend FIMA AHORRO PESOS']<br>[0.34 0.29 0.09 0.2  0.08]",
          "['Rend FBA Renta Pesos' 'Rend FIMA PREMIUM' 'PF DEFLACT'\n 'Rendimiento Deflact Dólar MEP' 'Rend PELLEGRINI RENTA FIJA']<br>[0.17 0.23 0.06 0.51 0.03]",
          "['Rendimiento Deflact Dólar MEP' 'PF DEFLACT'\n 'Rend PELLEGRINI CRECIMIENTO' 'Rend SUPERAHORRO $'\n 'Rend FIMA AHORRO PESOS']<br>[0.23 0.31 0.12 0.12 0.22]",
          "['Rendimiento Deflact Dólar MEP' 'Rend FBA Renta Pesos' 'Rend HF PESOS'\n 'Rend PELLEGRINI CRECIMIENTO' 'Rend FIMA AHORRO PESOS']<br>[0.06 0.29 0.35 0.08 0.22]",
          "['Rend FBA Renta Pesos' 'Rend PELLEGRINI RENTA PESOS'\n 'Rendimiento Deflact Dólar MEP' 'Rend HF PESOS' 'PF DEFLACT']<br>[0.33 0.01 0.03 0.27 0.37]",
          "['Rend HF PESOS' 'PF DEFLACT' 'Rend PELLEGRINI CRECIMIENTO'\n 'Rend FIMA AHORRO PESOS' 'Rendimiento Deflact Dólar MEP']<br>[0.04 0.34 0.01 0.27 0.35]",
          "['Rendimiento Deflact Dólar MEP' 'Rend FIMA AHORRO PESOS'\n 'Rend FBA Renta Pesos' 'Rend PELLEGRINI CRECIMIENTO'\n 'Rend PELLEGRINI RENTA PESOS']<br>[0.37 0.3  0.02 0.29 0.02]",
          "['Rend FIMA AHORRO PESOS' 'Rendimiento Deflact Dólar MEP'\n 'Rend FBA Renta Pesos' 'Rend PELLEGRINI CRECIMIENTO' 'Rend HF PESOS']<br>[0.17 0.42 0.11 0.18 0.11]",
          "['Rend FIMA AHORRO PESOS' 'Rend HF PESOS' 'Rend PELLEGRINI CRECIMIENTO'\n 'Rendimiento Deflact Dólar MEP' 'PF DEFLACT']<br>[0.13 0.27 0.08 0.18 0.35]",
          "['PF DEFLACT' 'Rend PELLEGRINI RENTA PESOS'\n 'Rendimiento Deflact Dólar MEP' 'Rend HF PESOS' 'Rend FIMA PREMIUM']<br>[0.36 0.12 0.05 0.21 0.25]",
          "['Rend FIMA AHORRO PESOS' 'Rend PELLEGRINI CRECIMIENTO' 'PF DEFLACT'\n 'Rend FIMA PREMIUM' 'Rend PELLEGRINI RENTA PESOS']<br>[0.09 0.12 0.38 0.2  0.21]",
          "['PF DEFLACT' 'Rend PELLEGRINI CRECIMIENTO' 'Rend HF PESOS'\n 'Rendimiento Deflact Dólar MEP' 'Rend FIMA AHORRO PESOS']<br>[0.17 0.19 0.24 0.15 0.24]",
          "['Rend SUPERGESTION MIX VI' 'PF DEFLACT' 'Rend PELLEGRINI RENTA FIJA'\n 'Rend FIMA AHORRO PESOS' 'Rendimiento Deflact Dólar MEP']<br>[0.01 0.38 0.01 0.15 0.45]",
          "['Rend SUPERAHORRO $' 'Rend HF PESOS' 'Rend FIMA AHORRO PESOS'\n 'PF DEFLACT' 'Rend PELLEGRINI CRECIMIENTO']<br>[0.1  0.28 0.24 0.38 0.01]",
          "['PF DEFLACT' 'Rend FIMA PREMIUM' 'Rendimiento Deflact Dólar MEP'\n 'Rend SUPERAHORRO $' 'Rend PELLEGRINI RENTA PESOS']<br>[0.35 0.29 0.07 0.29 0.  ]",
          "['Rend FIMA AHORRO PESOS' 'Rend FBA Renta Pesos' 'PF DEFLACT'\n 'Rend PELLEGRINI CRECIMIENTO' 'Rendimiento Deflact Dólar MEP']<br>[0.29 0.26 0.14 0.25 0.06]",
          "['Rendimiento Deflact Dólar MEP' 'Rend FIMA AHORRO PESOS'\n 'Rend PELLEGRINI CRECIMIENTO' 'Rend PELLEGRINI RENTA PESOS' 'PF DEFLACT']<br>[0.1  0.47 0.15 0.22 0.06]",
          "['Rend HF PESOS' 'Rend PELLEGRINI CRECIMIENTO' 'Rend SUPERGESTION MIX VI'\n 'Rend PELLEGRINI RENTA PESOS' 'Rendimiento Deflact Dólar MEP']<br>[0.24 0.27 0.01 0.04 0.43]",
          "['PF DEFLACT' 'Rend FIMA AHORRO PESOS' 'Rend FBA Renta Pesos'\n 'Rend HF PESOS' 'Rend SUPERAHORRO $']<br>[0.4  0.38 0.05 0.04 0.13]",
          "['Rendimiento Deflact Dólar MEP' 'Rend FIMA AHORRO PESOS' 'PF DEFLACT'\n 'Rend HF PESOS' 'Rend FBA Renta Pesos']<br>[0.03 0.35 0.27 0.23 0.12]",
          "['Rend FIMA AHORRO PESOS' 'Rend PELLEGRINI CRECIMIENTO' 'PF DEFLACT'\n 'Rendimiento Deflact Dólar MEP' 'Rend FBA Renta Pesos']<br>[0.19 0.32 0.29 0.07 0.13]",
          "['Rend FIMA AHORRO PESOS' 'PF DEFLACT' 'Rend PELLEGRINI RENTA FIJA'\n 'Rend FBA Renta Pesos' 'Rend PELLEGRINI CRECIMIENTO']<br>[0.01 0.51 0.02 0.43 0.02]",
          "['Rend FIMA AHORRO PESOS' 'Rendimiento Deflact Dólar MEP'\n 'Rend PELLEGRINI CRECIMIENTO' 'PF DEFLACT' 'Rend HF PESOS']<br>[0.32 0.35 0.11 0.17 0.05]",
          "['PF DEFLACT' 'Rend PELLEGRINI RENTA PESOS' 'Rend SUPERAHORRO $'\n 'Rend FIMA PREMIUM' 'Rend PELLEGRINI RENTA FIJA']<br>[0.51 0.27 0.15 0.01 0.07]",
          "['Rend FIMA AHORRO PESOS' 'Rendimiento Deflact Dólar MEP'\n 'Rend PELLEGRINI CRECIMIENTO' 'PF DEFLACT' 'Rend SUPERAHORRO $']<br>[0.05 0.43 0.01 0.37 0.13]",
          "['Rend PELLEGRINI CRECIMIENTO' 'Rend PELLEGRINI RENTA PESOS' 'PF DEFLACT'\n 'Rend HF PESOS' 'Rendimiento Deflact Dólar MEP']<br>[0.31 0.01 0.26 0.11 0.32]",
          "['PF DEFLACT' 'Rend PELLEGRINI RENTA FIJA' 'Rend SUPERAHORRO $'\n 'Rend FBA Renta Pesos' 'Rend FIMA AHORRO PESOS']<br>[0.52 0.08 0.08 0.21 0.11]",
          "['Rend PELLEGRINI CRECIMIENTO' 'Rend HF PESOS'\n 'Rendimiento Deflact Dólar MEP' 'Rend SUPERAHORRO $' 'PF DEFLACT']<br>[0.27 0.02 0.07 0.39 0.24]",
          "['Rend SUPERGESTION MIX VI' 'Rendimiento Deflact Dólar MEP'\n 'Rend PELLEGRINI RENTA FIJA' 'Rend PELLEGRINI CRECIMIENTO'\n 'Rend FIMA PREMIUM']<br>[0.04 0.49 0.27 0.04 0.16]",
          "['Rend PELLEGRINI CRECIMIENTO' 'Rend SUPERAHORRO $'\n 'Rendimiento Deflact Dólar MEP' 'Rend HF PESOS' 'PF DEFLACT']<br>[0.22 0.1  0.38 0.17 0.13]",
          "['Rend PELLEGRINI RENTA FIJA' 'Rend HF PESOS'\n 'Rend PELLEGRINI CRECIMIENTO' 'Rendimiento Deflact Dólar MEP'\n 'PF DEFLACT']<br>[0.09 0.03 0.35 0.26 0.27]",
          "['Rend PELLEGRINI RENTA FIJA' 'Rend PELLEGRINI CRECIMIENTO'\n 'Rend HF PESOS' 'Rendimiento Deflact Dólar MEP'\n 'Rend SUPERGESTION MIX VI']<br>[0.04 0.14 0.19 0.53 0.1 ]",
          "['Rend PELLEGRINI CRECIMIENTO' 'Rendimiento Deflact Dólar MEP'\n 'Rend FBA Renta Pesos' 'Rend FIMA AHORRO PESOS' 'PF DEFLACT']<br>[0.22 0.08 0.32 0.03 0.35]",
          "['PF DEFLACT' 'Rend PELLEGRINI CRECIMIENTO' 'Rend PELLEGRINI RENTA PESOS'\n 'Rendimiento Deflact Dólar MEP' 'Rend SUPERAHORRO $']<br>[0.32 0.15 0.13 0.37 0.03]",
          "['Rend PELLEGRINI RENTA FIJA' 'PF DEFLACT' 'Rend FIMA PREMIUM'\n 'Rend SUPERAHORRO $' 'Rend SUPERGESTION MIX VI']<br>[0.02 0.62 0.13 0.19 0.03]",
          "['Rend FIMA PREMIUM' 'PF DEFLACT' 'Rend SUPERAHORRO $'\n 'Rend PELLEGRINI RENTA PESOS' 'Rend PELLEGRINI CRECIMIENTO']<br>[0.17 0.31 0.25 0.22 0.05]",
          "['PF DEFLACT' 'Rend PELLEGRINI RENTA FIJA' 'Rend PELLEGRINI CRECIMIENTO'\n 'Rendimiento Deflact Dólar MEP' 'Rend FIMA AHORRO PESOS']<br>[0.11 0.17 0.2  0.28 0.24]",
          "['Rendimiento Deflact Dólar MEP' 'PF DEFLACT'\n 'Rend PELLEGRINI CRECIMIENTO' 'Rend SUPERAHORRO $'\n 'Rend PELLEGRINI RENTA PESOS']<br>[0.04 0.27 0.25 0.19 0.24]",
          "['Rend SUPERAHORRO $' 'PF DEFLACT' 'Rend PELLEGRINI RENTA PESOS'\n 'Rend PELLEGRINI CRECIMIENTO' 'Rendimiento Deflact Dólar MEP']<br>[0.29 0.37 0.22 0.1  0.02]",
          "['Rend FIMA AHORRO PESOS' 'Rendimiento Deflact Dólar MEP'\n 'Rend SUPERGESTION MIX VI' 'PF DEFLACT' 'Rend FIMA PREMIUM']<br>[0.08 0.55 0.03 0.3  0.03]",
          "['Rendimiento Deflact Dólar MEP' 'Rend SUPERAHORRO $'\n 'Rend PELLEGRINI CRECIMIENTO' 'Rend FIMA AHORRO PESOS' 'PF DEFLACT']<br>[0.1  0.31 0.2  0.14 0.26]",
          "['Rend SUPERGESTION MIX VI' 'Rend PELLEGRINI CRECIMIENTO'\n 'Rend FIMA AHORRO PESOS' 'Rendimiento Deflact Dólar MEP'\n 'Rend FBA Renta Pesos']<br>[0.02 0.08 0.02 0.55 0.34]",
          "['Rend PELLEGRINI CRECIMIENTO' 'Rend FBA Renta Pesos' 'Rend FIMA PREMIUM'\n 'PF DEFLACT' 'Rend SUPERAHORRO $']<br>[0.23 0.05 0.16 0.48 0.08]",
          "['Rend FIMA PREMIUM' 'Rend SUPERGESTION MIX VI'\n 'Rend PELLEGRINI CRECIMIENTO' 'Rendimiento Deflact Dólar MEP'\n 'Rend FIMA AHORRO PESOS']<br>[0.11 0.02 0.18 0.44 0.25]",
          "['PF DEFLACT' 'Rend FBA Renta Pesos' 'Rendimiento Deflact Dólar MEP'\n 'Rend FIMA AHORRO PESOS' 'Rend PELLEGRINI CRECIMIENTO']<br>[0.14 0.09 0.27 0.26 0.24]",
          "['Rend PELLEGRINI CRECIMIENTO' 'Rend FIMA AHORRO PESOS'\n 'Rendimiento Deflact Dólar MEP' 'PF DEFLACT'\n 'Rend PELLEGRINI RENTA PESOS']<br>[0.14 0.04 0.18 0.29 0.35]",
          "['Rend FBA Renta Pesos' 'Rendimiento Deflact Dólar MEP' 'PF DEFLACT'\n 'Rend FIMA AHORRO PESOS' 'Rend SUPERAHORRO $']<br>[0.08 0.46 0.45 0.   0.  ]",
          "['Rend SUPERAHORRO $' 'Rendimiento Deflact Dólar MEP' 'Rend FIMA PREMIUM'\n 'Rend SUPERGESTION MIX VI' 'Rend FIMA AHORRO PESOS']<br>[0.18 0.61 0.08 0.05 0.07]",
          "['Rend FBA Renta Pesos' 'PF DEFLACT' 'Rend FIMA PREMIUM'\n 'Rend PELLEGRINI RENTA FIJA' 'Rend SUPERAHORRO $']<br>[0.1  0.56 0.02 0.   0.33]",
          "['PF DEFLACT' 'Rend PELLEGRINI RENTA FIJA' 'Rend PELLEGRINI CRECIMIENTO'\n 'Rendimiento Deflact Dólar MEP' 'Rend FBA Renta Pesos']<br>[0.43 0.04 0.14 0.36 0.03]",
          "['Rendimiento Deflact Dólar MEP' 'Rend PELLEGRINI CRECIMIENTO'\n 'Rend FIMA AHORRO PESOS' 'PF DEFLACT' 'Rend HF PESOS']<br>[0.14 0.28 0.27 0.14 0.18]",
          "['PF DEFLACT' 'Rendimiento Deflact Dólar MEP' 'Rend PELLEGRINI RENTA FIJA'\n 'Rend FIMA AHORRO PESOS' 'Rend PELLEGRINI CRECIMIENTO']<br>[0.13 0.27 0.11 0.13 0.36]",
          "['Rend FIMA AHORRO PESOS' 'Rend SUPERAHORRO $'\n 'Rendimiento Deflact Dólar MEP' 'Rend PELLEGRINI RENTA FIJA' 'PF DEFLACT']<br>[0.11 0.17 0.5  0.   0.21]",
          "['Rendimiento Deflact Dólar MEP' 'Rend SUPERAHORRO $'\n 'Rend FIMA AHORRO PESOS' 'Rend SUPERGESTION MIX VI' 'PF DEFLACT']<br>[0.05 0.36 0.09 0.05 0.45]",
          "['Rend PELLEGRINI RENTA PESOS' 'Rend FBA Renta Pesos' 'Rend SUPERAHORRO $'\n 'PF DEFLACT' 'Rend HF PESOS']<br>[0.28 0.03 0.16 0.53 0.  ]",
          "['Rend HF PESOS' 'Rend FIMA PREMIUM' 'PF DEFLACT'\n 'Rendimiento Deflact Dólar MEP' 'Rend SUPERGESTION MIX VI']<br>[0.26 0.22 0.43 0.07 0.02]",
          "['PF DEFLACT' 'Rendimiento Deflact Dólar MEP' 'Rend PELLEGRINI RENTA FIJA'\n 'Rend PELLEGRINI CRECIMIENTO' 'Rend PELLEGRINI RENTA PESOS']<br>[0.28 0.17 0.   0.4  0.14]",
          "['Rend PELLEGRINI CRECIMIENTO' 'Rend FIMA PREMIUM' 'PF DEFLACT'\n 'Rendimiento Deflact Dólar MEP' 'Rend FIMA AHORRO PESOS']<br>[0.13 0.09 0.22 0.25 0.31]",
          "['Rendimiento Deflact Dólar MEP' 'Rend SUPERAHORRO $'\n 'Rend FBA Renta Pesos' 'PF DEFLACT' 'Rend HF PESOS']<br>[0.45 0.02 0.   0.44 0.09]",
          "['Rend PELLEGRINI CRECIMIENTO' 'Rend FIMA AHORRO PESOS'\n 'Rend SUPERAHORRO $' 'Rendimiento Deflact Dólar MEP' 'PF DEFLACT']<br>[0.01 0.16 0.1  0.68 0.05]",
          "['Rendimiento Deflact Dólar MEP' 'Rend FIMA PREMIUM'\n 'Rend SUPERGESTION MIX VI' 'Rend PELLEGRINI CRECIMIENTO' 'PF DEFLACT']<br>[0.44 0.08 0.02 0.28 0.19]",
          "['Rend FBA Renta Pesos' 'PF DEFLACT' 'Rendimiento Deflact Dólar MEP'\n 'Rend HF PESOS' 'Rend PELLEGRINI CRECIMIENTO']<br>[0.18 0.21 0.1  0.19 0.32]",
          "['Rendimiento Deflact Dólar MEP' 'PF DEFLACT' 'Rend SUPERAHORRO $'\n 'Rend HF PESOS' 'Rend PELLEGRINI CRECIMIENTO']<br>[0.09 0.46 0.26 0.05 0.14]",
          "['Rendimiento Deflact Dólar MEP' 'PF DEFLACT'\n 'Rend PELLEGRINI RENTA PESOS' 'Rend HF PESOS'\n 'Rend PELLEGRINI CRECIMIENTO']<br>[0.07 0.31 0.14 0.3  0.19]",
          "['Rend SUPERGESTION MIX VI' 'Rend HF PESOS'\n 'Rendimiento Deflact Dólar MEP' 'Rend PELLEGRINI CRECIMIENTO'\n 'Rend FBA Renta Pesos']<br>[0.   0.14 0.34 0.48 0.03]",
          "['Rend PELLEGRINI RENTA PESOS' 'PF DEFLACT' 'Rend PELLEGRINI CRECIMIENTO'\n 'Rend SUPERGESTION MIX VI' 'Rendimiento Deflact Dólar MEP']<br>[0.02 0.35 0.16 0.03 0.44]",
          "['Rend SUPERGESTION MIX VI' 'Rend SUPERAHORRO $'\n 'Rend PELLEGRINI CRECIMIENTO' 'Rendimiento Deflact Dólar MEP'\n 'PF DEFLACT']<br>[0.06 0.25 0.28 0.13 0.27]",
          "['Rend SUPERAHORRO $' 'Rendimiento Deflact Dólar MEP'\n 'Rend FIMA AHORRO PESOS' 'Rend PELLEGRINI RENTA PESOS'\n 'Rend PELLEGRINI CRECIMIENTO']<br>[0.04 0.25 0.31 0.04 0.35]",
          "['Rend SUPERAHORRO $' 'Rend FIMA AHORRO PESOS'\n 'Rend PELLEGRINI RENTA FIJA' 'Rendimiento Deflact Dólar MEP'\n 'Rend PELLEGRINI CRECIMIENTO']<br>[0.01 0.3  0.05 0.23 0.41]",
          "['Rend PELLEGRINI CRECIMIENTO' 'Rend HF PESOS' 'Rend FIMA AHORRO PESOS'\n 'PF DEFLACT' 'Rend SUPERAHORRO $']<br>[0.11 0.02 0.3  0.43 0.15]",
          "['Rendimiento Deflact Dólar MEP' 'Rend FBA Renta Pesos'\n 'Rend PELLEGRINI RENTA PESOS' 'Rend PELLEGRINI RENTA FIJA'\n 'Rend FIMA AHORRO PESOS']<br>[0.55 0.09 0.02 0.11 0.22]",
          "['Rend FBA Renta Pesos' 'PF DEFLACT' 'Rendimiento Deflact Dólar MEP'\n 'Rend SUPERAHORRO $' 'Rend FIMA PREMIUM']<br>[0.03 0.46 0.04 0.17 0.3 ]",
          "['Rend FIMA AHORRO PESOS' 'Rend PELLEGRINI RENTA PESOS'\n 'Rend PELLEGRINI RENTA FIJA' 'Rend PELLEGRINI CRECIMIENTO'\n 'Rendimiento Deflact Dólar MEP']<br>[0.02 0.02 0.16 0.38 0.42]",
          "['Rend SUPERAHORRO $' 'Rend FIMA AHORRO PESOS' 'Rend HF PESOS'\n 'Rend FIMA PREMIUM' 'PF DEFLACT']<br>[0.25 0.07 0.1  0.06 0.52]",
          "['PF DEFLACT' 'Rend PELLEGRINI CRECIMIENTO' 'Rend FIMA AHORRO PESOS'\n 'Rendimiento Deflact Dólar MEP' 'Rend FBA Renta Pesos']<br>[0.09 0.18 0.25 0.17 0.31]",
          "['PF DEFLACT' 'Rend PELLEGRINI RENTA PESOS' 'Rend HF PESOS'\n 'Rendimiento Deflact Dólar MEP' 'Rend FIMA PREMIUM']<br>[0.35 0.11 0.31 0.06 0.18]",
          "['Rend PELLEGRINI CRECIMIENTO' 'Rend FBA Renta Pesos' 'Rend FIMA PREMIUM'\n 'Rend PELLEGRINI RENTA FIJA' 'PF DEFLACT']<br>[0.08 0.17 0.14 0.04 0.57]",
          "['Rendimiento Deflact Dólar MEP' 'Rend HF PESOS' 'Rend FIMA AHORRO PESOS'\n 'PF DEFLACT' 'Rend PELLEGRINI CRECIMIENTO']<br>[0.1  0.21 0.07 0.35 0.27]",
          "['Rend SUPERAHORRO $' 'Rend FIMA PREMIUM' 'Rend PELLEGRINI CRECIMIENTO'\n 'Rendimiento Deflact Dólar MEP' 'Rend PELLEGRINI RENTA PESOS']<br>[0.03 0.04 0.54 0.35 0.03]",
          "['Rend FIMA PREMIUM' 'Rend PELLEGRINI RENTA FIJA'\n 'Rend PELLEGRINI CRECIMIENTO' 'PF DEFLACT'\n 'Rendimiento Deflact Dólar MEP']<br>[0.13 0.11 0.11 0.08 0.57]",
          "['Rend PELLEGRINI CRECIMIENTO' 'Rend PELLEGRINI RENTA PESOS'\n 'Rend FIMA AHORRO PESOS' 'Rendimiento Deflact Dólar MEP'\n 'Rend SUPERGESTION MIX VI']<br>[0.38 0.12 0.07 0.38 0.05]",
          "['Rend PELLEGRINI CRECIMIENTO' 'Rendimiento Deflact Dólar MEP'\n 'Rend SUPERAHORRO $' 'Rend SUPERGESTION MIX VI' 'PF DEFLACT']<br>[0.42 0.29 0.01 0.09 0.19]",
          "['Rend SUPERAHORRO $' 'PF DEFLACT' 'Rend FBA Renta Pesos'\n 'Rend FIMA AHORRO PESOS' 'Rendimiento Deflact Dólar MEP']<br>[0.29 0.39 0.09 0.17 0.06]",
          "['Rend HF PESOS' 'PF DEFLACT' 'Rendimiento Deflact Dólar MEP'\n 'Rend FBA Renta Pesos' 'Rend PELLEGRINI CRECIMIENTO']<br>[0.21 0.11 0.18 0.14 0.36]",
          "['Rendimiento Deflact Dólar MEP' 'PF DEFLACT' 'Rend PELLEGRINI RENTA FIJA'\n 'Rend PELLEGRINI CRECIMIENTO' 'Rend FBA Renta Pesos']<br>[0.31 0.33 0.11 0.18 0.07]",
          "['Rend HF PESOS' 'Rend SUPERAHORRO $' 'Rend PELLEGRINI CRECIMIENTO'\n 'PF DEFLACT' 'Rendimiento Deflact Dólar MEP']<br>[0.06 0.2  0.41 0.19 0.14]",
          "['Rend FIMA PREMIUM' 'Rendimiento Deflact Dólar MEP'\n 'Rend PELLEGRINI CRECIMIENTO' 'Rend HF PESOS' 'PF DEFLACT']<br>[0.15 0.12 0.22 0.14 0.36]",
          "['Rend FBA Renta Pesos' 'PF DEFLACT' 'Rendimiento Deflact Dólar MEP'\n 'Rend PELLEGRINI CRECIMIENTO' 'Rend HF PESOS']<br>[0.23 0.35 0.05 0.09 0.27]",
          "['Rend PELLEGRINI CRECIMIENTO' 'Rend FIMA AHORRO PESOS'\n 'Rendimiento Deflact Dólar MEP' 'PF DEFLACT'\n 'Rend PELLEGRINI RENTA PESOS']<br>[0.14 0.24 0.1  0.41 0.1 ]",
          "['Rend PELLEGRINI CRECIMIENTO' 'Rend FIMA AHORRO PESOS'\n 'Rend FIMA PREMIUM' 'Rend PELLEGRINI RENTA PESOS' 'PF DEFLACT']<br>[0.01 0.08 0.22 0.08 0.61]",
          "['Rendimiento Deflact Dólar MEP' 'Rend SUPERAHORRO $'\n 'Rend PELLEGRINI CRECIMIENTO' 'Rend FIMA AHORRO PESOS'\n 'Rend PELLEGRINI RENTA PESOS']<br>[0.31 0.16 0.33 0.18 0.02]",
          "['Rend FIMA AHORRO PESOS' 'Rend SUPERAHORRO $' 'Rend HF PESOS'\n 'PF DEFLACT' 'Rendimiento Deflact Dólar MEP']<br>[0.01 0.05 0.13 0.18 0.63]",
          "['Rendimiento Deflact Dólar MEP' 'Rend PELLEGRINI CRECIMIENTO'\n 'PF DEFLACT' 'Rend FIMA AHORRO PESOS' 'Rend SUPERAHORRO $']<br>[0.14 0.21 0.26 0.15 0.24]",
          "['Rend SUPERAHORRO $' 'Rend PELLEGRINI CRECIMIENTO'\n 'Rendimiento Deflact Dólar MEP' 'PF DEFLACT' 'Rend FIMA AHORRO PESOS']<br>[0.07 0.3  0.16 0.1  0.38]",
          "['Rend PELLEGRINI RENTA FIJA' 'Rendimiento Deflact Dólar MEP' 'PF DEFLACT'\n 'Rend FIMA PREMIUM' 'Rend PELLEGRINI CRECIMIENTO']<br>[0.21 0.28 0.26 0.06 0.2 ]",
          "['Rend FIMA AHORRO PESOS' 'PF DEFLACT' 'Rend PELLEGRINI CRECIMIENTO'\n 'Rendimiento Deflact Dólar MEP' 'Rend PELLEGRINI RENTA FIJA']<br>[0.02 0.4  0.24 0.22 0.11]",
          "['PF DEFLACT' 'Rend PELLEGRINI CRECIMIENTO'\n 'Rendimiento Deflact Dólar MEP' 'Rend FIMA AHORRO PESOS'\n 'Rend PELLEGRINI RENTA FIJA']<br>[0.26 0.24 0.25 0.17 0.08]",
          "['Rend FIMA AHORRO PESOS' 'Rendimiento Deflact Dólar MEP'\n 'Rend PELLEGRINI RENTA FIJA' 'PF DEFLACT' 'Rend PELLEGRINI CRECIMIENTO']<br>[0.12 0.44 0.19 0.03 0.22]",
          "['Rendimiento Deflact Dólar MEP' 'PF DEFLACT'\n 'Rend PELLEGRINI CRECIMIENTO' 'Rend FIMA PREMIUM' 'Rend FBA Renta Pesos']<br>[0.04 0.4  0.16 0.24 0.16]",
          "['Rendimiento Deflact Dólar MEP' 'PF DEFLACT' 'Rend FIMA AHORRO PESOS'\n 'Rend HF PESOS' 'Rend FIMA PREMIUM']<br>[0.03 0.38 0.27 0.13 0.18]",
          "['Rend PELLEGRINI CRECIMIENTO' 'Rend FIMA PREMIUM'\n 'Rend FIMA AHORRO PESOS' 'Rendimiento Deflact Dólar MEP' 'PF DEFLACT']<br>[0.3  0.05 0.28 0.16 0.21]",
          "['PF DEFLACT' 'Rend HF PESOS' 'Rend PELLEGRINI CRECIMIENTO'\n 'Rend FIMA AHORRO PESOS' 'Rendimiento Deflact Dólar MEP']<br>[0.33 0.11 0.22 0.12 0.22]",
          "['Rend HF PESOS' 'Rendimiento Deflact Dólar MEP' 'Rend SUPERAHORRO $'\n 'Rend FBA Renta Pesos' 'Rend PELLEGRINI CRECIMIENTO']<br>[0.03 0.74 0.22 0.01 0.  ]",
          "['Rend FIMA AHORRO PESOS' 'Rendimiento Deflact Dólar MEP'\n 'Rend FIMA PREMIUM' 'PF DEFLACT' 'Rend PELLEGRINI RENTA PESOS']<br>[0.13 0.54 0.17 0.04 0.12]",
          "['Rend PELLEGRINI CRECIMIENTO' 'PF DEFLACT' 'Rend SUPERAHORRO $'\n 'Rend FIMA PREMIUM' 'Rendimiento Deflact Dólar MEP']<br>[0.09 0.35 0.28 0.19 0.08]",
          "['Rend FIMA AHORRO PESOS' 'Rend PELLEGRINI RENTA FIJA' 'Rend HF PESOS'\n 'Rend PELLEGRINI CRECIMIENTO' 'Rendimiento Deflact Dólar MEP']<br>[0.03 0.01 0.13 0.47 0.37]",
          "['Rend PELLEGRINI RENTA PESOS' 'Rend FIMA AHORRO PESOS' 'PF DEFLACT'\n 'Rendimiento Deflact Dólar MEP' 'Rend PELLEGRINI CRECIMIENTO']<br>[0.06 0.3  0.39 0.09 0.16]",
          "['Rend FIMA AHORRO PESOS' 'Rend PELLEGRINI CRECIMIENTO'\n 'Rendimiento Deflact Dólar MEP' 'Rend FBA Renta Pesos'\n 'Rend FIMA PREMIUM']<br>[0.1  0.38 0.43 0.08 0.01]",
          "['Rend FBA Renta Pesos' 'Rendimiento Deflact Dólar MEP'\n 'Rend PELLEGRINI CRECIMIENTO' 'PF DEFLACT' 'Rend FIMA AHORRO PESOS']<br>[0.01 0.3  0.26 0.17 0.25]",
          "['Rend FBA Renta Pesos' 'Rend FIMA AHORRO PESOS'\n 'Rend SUPERGESTION MIX VI' 'Rendimiento Deflact Dólar MEP' 'PF DEFLACT']<br>[0.25 0.24 0.01 0.03 0.48]",
          "['PF DEFLACT' 'Rend FBA Renta Pesos' 'Rend PELLEGRINI CRECIMIENTO'\n 'Rendimiento Deflact Dólar MEP' 'Rend PELLEGRINI RENTA PESOS']<br>[0.24 0.06 0.29 0.16 0.26]",
          "['Rendimiento Deflact Dólar MEP' 'Rend FIMA PREMIUM' 'PF DEFLACT'\n 'Rend FBA Renta Pesos' 'Rend PELLEGRINI CRECIMIENTO']<br>[0.12 0.06 0.37 0.23 0.22]",
          "['Rendimiento Deflact Dólar MEP' 'PF DEFLACT'\n 'Rend PELLEGRINI RENTA PESOS' 'Rend HF PESOS' 'Rend FIMA AHORRO PESOS']<br>[0.73 0.17 0.04 0.02 0.04]",
          "['Rend HF PESOS' 'Rend PELLEGRINI CRECIMIENTO' 'PF DEFLACT'\n 'Rend PELLEGRINI RENTA PESOS' 'Rendimiento Deflact Dólar MEP']<br>[0.17 0.27 0.31 0.02 0.23]",
          "['PF DEFLACT' 'Rend SUPERGESTION MIX VI' 'Rend PELLEGRINI CRECIMIENTO'\n 'Rendimiento Deflact Dólar MEP' 'Rend FBA Renta Pesos']<br>[0.47 0.04 0.27 0.05 0.18]",
          "['Rend PELLEGRINI CRECIMIENTO' 'Rendimiento Deflact Dólar MEP'\n 'Rend FIMA AHORRO PESOS' 'PF DEFLACT' 'Rend HF PESOS']<br>[0.34 0.16 0.17 0.25 0.07]",
          "['Rendimiento Deflact Dólar MEP' 'PF DEFLACT'\n 'Rend PELLEGRINI CRECIMIENTO' 'Rend SUPERAHORRO $' 'Rend HF PESOS']<br>[0.2  0.28 0.31 0.06 0.15]",
          "['Rend PELLEGRINI RENTA PESOS' 'Rend FBA Renta Pesos'\n 'Rend PELLEGRINI CRECIMIENTO' 'Rendimiento Deflact Dólar MEP'\n 'PF DEFLACT']<br>[0.05 0.03 0.32 0.36 0.23]",
          "['Rend FIMA PREMIUM' 'Rend SUPERAHORRO $' 'PF DEFLACT'\n 'Rend FIMA AHORRO PESOS' 'Rendimiento Deflact Dólar MEP']<br>[0.06 0.01 0.42 0.45 0.06]",
          "['Rend PELLEGRINI CRECIMIENTO' 'PF DEFLACT' 'Rend PELLEGRINI RENTA FIJA'\n 'Rend FIMA AHORRO PESOS' 'Rendimiento Deflact Dólar MEP']<br>[0.14 0.29 0.01 0.32 0.24]",
          "['Rend PELLEGRINI RENTA PESOS' 'Rend SUPERAHORRO $'\n 'Rend PELLEGRINI CRECIMIENTO' 'Rend FIMA AHORRO PESOS' 'PF DEFLACT']<br>[0.31 0.03 0.1  0.01 0.55]",
          "['Rend SUPERAHORRO $' 'PF DEFLACT' 'Rend FBA Renta Pesos'\n 'Rendimiento Deflact Dólar MEP' 'Rend PELLEGRINI CRECIMIENTO']<br>[0.05 0.44 0.02 0.28 0.22]",
          "['Rendimiento Deflact Dólar MEP' 'Rend PELLEGRINI CRECIMIENTO'\n 'Rend PELLEGRINI RENTA PESOS' 'Rend FIMA AHORRO PESOS'\n 'Rend SUPERAHORRO $']<br>[0.61 0.13 0.14 0.1  0.02]",
          "['Rend PELLEGRINI RENTA PESOS' 'Rend PELLEGRINI CRECIMIENTO'\n 'Rend HF PESOS' 'PF DEFLACT' 'Rendimiento Deflact Dólar MEP']<br>[0.05 0.14 0.08 0.27 0.46]",
          "['Rendimiento Deflact Dólar MEP' 'PF DEFLACT'\n 'Rend PELLEGRINI RENTA PESOS' 'Rend FIMA AHORRO PESOS'\n 'Rend FIMA PREMIUM']<br>[0.04 0.37 0.12 0.41 0.06]",
          "['Rendimiento Deflact Dólar MEP' 'Rend PELLEGRINI RENTA FIJA'\n 'Rend FBA Renta Pesos' 'Rend PELLEGRINI CRECIMIENTO'\n 'Rend FIMA AHORRO PESOS']<br>[0.41 0.1  0.06 0.32 0.1 ]",
          "['Rend PELLEGRINI CRECIMIENTO' 'Rend SUPERAHORRO $'\n 'Rendimiento Deflact Dólar MEP' 'Rend SUPERGESTION MIX VI' 'PF DEFLACT']<br>[0.31 0.01 0.41 0.12 0.15]",
          "['Rend HF PESOS' 'Rend PELLEGRINI CRECIMIENTO'\n 'Rendimiento Deflact Dólar MEP' 'Rend FIMA AHORRO PESOS' 'PF DEFLACT']<br>[0.06 0.28 0.21 0.12 0.32]",
          "['Rendimiento Deflact Dólar MEP' 'Rend PELLEGRINI CRECIMIENTO'\n 'Rend HF PESOS' 'Rend FIMA AHORRO PESOS' 'PF DEFLACT']<br>[0.37 0.26 0.08 0.07 0.22]",
          "['Rend PELLEGRINI CRECIMIENTO' 'Rendimiento Deflact Dólar MEP'\n 'Rend FBA Renta Pesos' 'PF DEFLACT' 'Rend PELLEGRINI RENTA PESOS']<br>[0.19 0.05 0.17 0.34 0.25]",
          "['Rendimiento Deflact Dólar MEP' 'Rend FBA Renta Pesos' 'Rend HF PESOS'\n 'Rend PELLEGRINI CRECIMIENTO' 'PF DEFLACT']<br>[0.31 0.06 0.1  0.28 0.25]",
          "['Rend PELLEGRINI RENTA PESOS' 'Rend FIMA AHORRO PESOS' 'PF DEFLACT'\n 'Rend PELLEGRINI CRECIMIENTO' 'Rendimiento Deflact Dólar MEP']<br>[0.25 0.02 0.4  0.21 0.12]",
          "['PF DEFLACT' 'Rend PELLEGRINI CRECIMIENTO' 'Rend PELLEGRINI RENTA PESOS'\n 'Rend SUPERAHORRO $' 'Rendimiento Deflact Dólar MEP']<br>[0.41 0.21 0.06 0.15 0.16]",
          "['Rend FIMA PREMIUM' 'Rend PELLEGRINI CRECIMIENTO'\n 'Rend FIMA AHORRO PESOS' 'Rendimiento Deflact Dólar MEP' 'PF DEFLACT']<br>[0.14 0.11 0.29 0.03 0.43]",
          "['Rend PELLEGRINI RENTA PESOS' 'Rendimiento Deflact Dólar MEP'\n 'Rend PELLEGRINI CRECIMIENTO' 'PF DEFLACT' 'Rend FBA Renta Pesos']<br>[0.04 0.32 0.33 0.26 0.04]",
          "['PF DEFLACT' 'Rend FBA Renta Pesos' 'Rend SUPERAHORRO $'\n 'Rendimiento Deflact Dólar MEP' 'Rend PELLEGRINI CRECIMIENTO']<br>[0.31 0.02 0.04 0.32 0.31]",
          "['Rend PELLEGRINI CRECIMIENTO' 'PF DEFLACT'\n 'Rendimiento Deflact Dólar MEP' 'Rend FIMA AHORRO PESOS'\n 'Rend SUPERAHORRO $']<br>[0.24 0.31 0.19 0.13 0.13]",
          "['PF DEFLACT' 'Rend FBA Renta Pesos' 'Rend PELLEGRINI CRECIMIENTO'\n 'Rendimiento Deflact Dólar MEP' 'Rend SUPERAHORRO $']<br>[0.37 0.22 0.23 0.15 0.02]",
          "['Rend PELLEGRINI CRECIMIENTO' 'Rend HF PESOS' 'Rend SUPERGESTION MIX VI'\n 'PF DEFLACT' 'Rendimiento Deflact Dólar MEP']<br>[0.4  0.01 0.02 0.39 0.19]",
          "['Rend FBA Renta Pesos' 'Rend HF PESOS' 'Rend PELLEGRINI CRECIMIENTO'\n 'Rendimiento Deflact Dólar MEP' 'PF DEFLACT']<br>[0.06 0.03 0.41 0.31 0.2 ]",
          "['Rend PELLEGRINI RENTA PESOS' 'Rendimiento Deflact Dólar MEP'\n 'Rend FIMA AHORRO PESOS' 'Rend SUPERAHORRO $' 'PF DEFLACT']<br>[0.13 0.05 0.28 0.12 0.42]",
          "['Rend SUPERGESTION MIX VI' 'Rend HF PESOS' 'Rend PELLEGRINI RENTA FIJA'\n 'Rendimiento Deflact Dólar MEP' 'Rend PELLEGRINI CRECIMIENTO']<br>[0.03 0.04 0.21 0.53 0.2 ]",
          "['Rend FIMA AHORRO PESOS' 'Rend PELLEGRINI CRECIMIENTO'\n 'Rend SUPERAHORRO $' 'Rendimiento Deflact Dólar MEP' 'PF DEFLACT']<br>[0.11 0.03 0.17 0.13 0.56]",
          "['Rend PELLEGRINI RENTA FIJA' 'Rendimiento Deflact Dólar MEP'\n 'Rend PELLEGRINI RENTA PESOS' 'Rend PELLEGRINI CRECIMIENTO'\n 'Rend FIMA PREMIUM']<br>[0.16 0.6  0.03 0.18 0.02]",
          "['Rend FBA Renta Pesos' 'Rendimiento Deflact Dólar MEP' 'PF DEFLACT'\n 'Rend HF PESOS' 'Rend PELLEGRINI RENTA PESOS']<br>[0.16 0.03 0.55 0.03 0.23]"
         ],
         "type": "scatter",
         "x": [
          0.05178535052456092,
          0.05348701990449684,
          0.08998917089488219,
          0.04961374485436286,
          0.10531466779689554,
          0.10665040098758588,
          0.045199598208184574,
          0.08067108123606943,
          0.06651179893825085,
          0.04317470732972062,
          0.05231399199180584,
          0.06984984536865904,
          0.051554781410646545,
          0.12385898789137544,
          0.04177816948253219,
          0.09398927090538589,
          0.04080356216297131,
          0.08140353117142493,
          0.04825756492096208,
          0.11787707839745784,
          0.05083459411295504,
          0.107314355875514,
          0.07080704448202656,
          0.10467057635306322,
          0.10137053749766078,
          0.04881789274799969,
          0.16546085101312974,
          0.11476261305379602,
          0.14631732446848733,
          0.1554136565451143,
          0.04501428728438123,
          0.07449226469457673,
          0.04893861509288319,
          0.06425274278333339,
          0.12113179694828274,
          0.06521167562080239,
          0.07531014034394344,
          0.050793032994703065,
          0.06465803193232056,
          0.12997809848694694,
          0.11960268253946511,
          0.06590841451744629,
          0.24620311606650794,
          0.056210268807462514,
          0.14273755658737416,
          0.09662522883588531,
          0.0874257375165831,
          0.14171444551703727,
          0.09655087346278061,
          0.11689788274712926,
          0.189014183106122,
          0.08524071590419224,
          0.04669127323569064,
          0.04307308176218239,
          0.12646256745268186,
          0.12514217160024285,
          0.14710471843892797,
          0.07315662853810047,
          0.046463622442616696,
          0.04237230042273532,
          0.06341586718780744,
          0.16334448182575653,
          0.041956169979594574,
          0.049582734700399984,
          0.05260270000426257,
          0.05404493034323087,
          0.15071134221785515,
          0.04368464127576845,
          0.04365706755325209,
          0.05520388417655741,
          0.04097998231404249,
          0.12437286712887739,
          0.042797997742022115,
          0.15970907909124135,
          0.11220301254380735,
          0.04393900332373399,
          0.051338212706168874,
          0.1920054026099755,
          0.1350402627067831,
          0.09938136867677191,
          0.19278907177459947,
          0.05028786989782972,
          0.13352245982933558,
          0.04203480219053683,
          0.040771158496350435,
          0.10985307152157833,
          0.04757047474100344,
          0.04164176900846489,
          0.20165746869379866,
          0.05245175073031666,
          0.1969348027537705,
          0.04615768330848917,
          0.15252377411871426,
          0.09446756152241613,
          0.07208852753759369,
          0.1723790577541423,
          0.22254548813799935,
          0.04073911079435575,
          0.13328396964663256,
          0.06307612339817124,
          0.10342556988307121,
          0.1836856749859096,
          0.04745558854733667,
          0.040386296178657376,
          0.04970969270362671,
          0.0729270172978661,
          0.09213269222372802,
          0.16734623963480041,
          0.24354647698013895,
          0.152385380204544,
          0.05599072534560436,
          0.05135214119126865,
          0.04767954330786048,
          0.11787128646449749,
          0.1558190211275894,
          0.06303574569828586,
          0.09133775134974505,
          0.0890586162705155,
          0.04553577794607324,
          0.20108231227579085,
          0.04492515876545986,
          0.15219356388316518,
          0.040650787137681194,
          0.06745175936440886,
          0.047265152004195995,
          0.04207251953521672,
          0.05430347910574114,
          0.12175133842350233,
          0.20576280929296975,
          0.13156382270222378,
          0.10669391790697799,
          0.04589553628510892,
          0.07255287077408178,
          0.11679472171678346,
          0.06719044945637113,
          0.05827308337198549,
          0.045239414862687496,
          0.05294777965013936,
          0.04012102654903013,
          0.10905655233769315,
          0.2275793431699021,
          0.0616411484662902,
          0.06729663702725412,
          0.11194717700754284,
          0.08993890026524587,
          0.09553263613030928,
          0.16088186644399227,
          0.043743869044000835,
          0.04333133074277581,
          0.06664251928738005,
          0.08188482983241814,
          0.2661420643363713,
          0.1961002984752866,
          0.04992318872831312,
          0.12807986687155185,
          0.0517683463115131,
          0.14542695381356294,
          0.10387095788952751,
          0.04296169145041725,
          0.0664581128255287,
          0.056878040358864235,
          0.26169577280621587,
          0.0859941609657059,
          0.04934509383753413,
          0.06817068083410023,
          0.07891564796284065,
          0.1265140477204944,
          0.046565784544420306,
          0.08842914329397139,
          0.04052743742010005,
          0.10117902227934981,
          0.21463692295034023,
          0.16583501787953628,
          0.04460535676088559,
          0.14522744677804525,
          0.14483499385021167,
          0.08023098487787007,
          0.12929317831716938,
          0.0454372497183774,
          0.1105459499363371,
          0.05731908675151754,
          0.06721988391728223,
          0.04466325204415955,
          0.11400511532216501,
          0.11233687792377474,
          0.07448506893766893,
          0.0652335420483181,
          0.07668587344950259,
          0.10841098232296047,
          0.04459349409723748,
          0.1930614983258302,
          0.061268695748911944,
          0.21752464549834177,
          0.04239100953508237
         ],
         "y": [
          -0.09176365164296459,
          -0.0858700503947674,
          -0.0746032124295676,
          -0.09084653231299053,
          -0.04813343054912798,
          -0.011729685293260987,
          -0.08930054971869285,
          -0.02727787476850968,
          -0.08350575729260498,
          -0.09045646841065039,
          -0.07927615996514648,
          -0.03889738771136782,
          -0.07125904549897834,
          -0.002899858352483172,
          -0.10205218288307627,
          -0.027154304157798768,
          -0.08481233248321635,
          -0.01613631616528872,
          -0.0803503231750832,
          -0.005972629847645745,
          -0.07785582739317215,
          0.001124256346480482,
          -0.03207797452681075,
          -0.012396292687999647,
          -0.00560146494327305,
          -0.07869480987830274,
          0.025356948720210097,
          0.0014585339710944684,
          0.021859961468753523,
          0.02789204747026525,
          -0.08111109843970012,
          -0.028341493296874763,
          -0.07605497594273139,
          -0.06276853658414164,
          0.012351638299952832,
          -0.05412177401990054,
          -0.026850014920901367,
          -0.06958807744590605,
          -0.04557798521817994,
          0.012600360485757519,
          0.005604524085788862,
          -0.0416616947120681,
          0.1184035212725811,
          -0.04530270493450397,
          0.02623817169172998,
          0.005313286281345593,
          -0.010185635873571387,
          0.033712670987739786,
          -0.0045138199122975314,
          0.013033204775429224,
          0.05216449064776661,
          -0.013368795363008697,
          -0.08051994733350104,
          -0.08178617637803215,
          0.020258278752055173,
          0.025457863028451735,
          0.03429280390371482,
          -0.030189078235195295,
          -0.07598953502208744,
          -0.08344692364290884,
          -0.039453173347188605,
          0.05079063264985972,
          -0.08399077206421177,
          -0.07203232718325321,
          -0.06535122806498474,
          -0.05888202924357366,
          0.03803755308262628,
          -0.08130312693072982,
          -0.07942159638598158,
          -0.052596180289367536,
          -0.08122302086034552,
          0.020406271188491455,
          -0.08042749308364894,
          0.043952626052337615,
          0.01648486169465184,
          -0.07691279156529689,
          -0.060476134007382235,
          0.056949077814372626,
          0.026087764207447878,
          0.0061521546221078895,
          0.060402469778763165,
          -0.055159898704558244,
          0.028174310836763677,
          -0.07933385825733798,
          -0.09162514984166997,
          0.00727058569266022,
          -0.06922867605681801,
          -0.078557123000494,
          0.0770344511240842,
          -0.05431224904615866,
          0.06384298370336944,
          -0.0754426218778948,
          0.03967407192434303,
          -0.0029167411871189666,
          -0.031755690694163854,
          0.056230199129228456,
          0.07957818722361572,
          -0.0814120239787044,
          0.03271895693702738,
          -0.039565245874541695,
          0.007419334443847441,
          0.05949607419442804,
          -0.07184238811961363,
          -0.08238092328008409,
          -0.06895559285642754,
          -0.021800000000311164,
          -0.007829011985194818,
          0.051178086848148,
          0.10834510617584876,
          0.0477619785504409,
          -0.05253020436256727,
          -0.05101186906042512,
          -0.06280184929345127,
          0.019194672824866515,
          0.04923670684729262,
          -0.043396236378187014,
          -0.006769647753048762,
          -0.00946539270832484,
          -0.07653318883952187,
          0.07211774365723111,
          -0.07468759879302489,
          0.048745841484633755,
          -0.0819723696066222,
          -0.03895198268648491,
          -0.07453599371125885,
          -0.07615089845316643,
          -0.04704348660846321,
          0.02546697349808886,
          0.08074368767850344,
          0.027001997976366397,
          0.007430816124274649,
          -0.06865429027356189,
          -0.030775818596155746,
          0.016556874473874394,
          -0.03543954939722242,
          -0.04306860253315582,
          -0.06965806313248984,
          -0.04508958845705666,
          -0.07864374212602418,
          0.008003597883534315,
          0.09371254192361071,
          -0.039187302883831134,
          -0.0340000851521621,
          0.008661671057156223,
          -0.002653589251985669,
          0.0006972057397264296,
          0.05153251586517254,
          -0.07088436653220342,
          -0.07455273294102926,
          -0.030830306001562096,
          -0.01238580459275311,
          0.11914728521665885,
          0.062333694704024736,
          -0.06279480818791591,
          0.029814242253700156,
          -0.04728950504366972,
          0.04398159552565217,
          0.009233151538076214,
          -0.07065096670142651,
          -0.03439109698437033,
          -0.0441708085598359,
          0.12435211179965726,
          -0.009590224690802826,
          -0.05998128097626863,
          -0.02728160336085815,
          -0.016845291762628736,
          0.029807263756212683,
          -0.06162534699108278,
          -0.0065610008610497705,
          -0.07679311309672826,
          0.008014883787430477,
          0.08825723563794025,
          0.05443782999783872,
          -0.07005568374534195,
          0.04111511553433339,
          0.034328327860771835,
          -0.011386230297082404,
          0.030324060504262472,
          -0.06708838344155654,
          0.012495067188312975,
          -0.04121417245349921,
          -0.02880669509777946,
          -0.06937946960573592,
          0.019567306873899286,
          0.019274904636589093,
          -0.020326764073748935,
          -0.03230623932585946,
          -0.012985020066182913,
          0.015284626891933934,
          -0.0672960785899439,
          0.07251182359076919,
          -0.03785928676148699,
          0.09448300129528948,
          -0.07312910719548903
         ]
        }
       ],
       "layout": {
        "coloraxis": {
         "colorbar": {
          "title": {
           "text": "Sharpe Ratio"
          }
         }
        },
        "height": 500,
        "template": {
         "data": {
          "bar": [
           {
            "error_x": {
             "color": "#2a3f5f"
            },
            "error_y": {
             "color": "#2a3f5f"
            },
            "marker": {
             "line": {
              "color": "white",
              "width": 0.5
             },
             "pattern": {
              "fillmode": "overlay",
              "size": 10,
              "solidity": 0.2
             }
            },
            "type": "bar"
           }
          ],
          "barpolar": [
           {
            "marker": {
             "line": {
              "color": "white",
              "width": 0.5
             },
             "pattern": {
              "fillmode": "overlay",
              "size": 10,
              "solidity": 0.2
             }
            },
            "type": "barpolar"
           }
          ],
          "carpet": [
           {
            "aaxis": {
             "endlinecolor": "#2a3f5f",
             "gridcolor": "#C8D4E3",
             "linecolor": "#C8D4E3",
             "minorgridcolor": "#C8D4E3",
             "startlinecolor": "#2a3f5f"
            },
            "baxis": {
             "endlinecolor": "#2a3f5f",
             "gridcolor": "#C8D4E3",
             "linecolor": "#C8D4E3",
             "minorgridcolor": "#C8D4E3",
             "startlinecolor": "#2a3f5f"
            },
            "type": "carpet"
           }
          ],
          "choropleth": [
           {
            "colorbar": {
             "outlinewidth": 0,
             "ticks": ""
            },
            "type": "choropleth"
           }
          ],
          "contour": [
           {
            "colorbar": {
             "outlinewidth": 0,
             "ticks": ""
            },
            "colorscale": [
             [
              0,
              "#0d0887"
             ],
             [
              0.1111111111111111,
              "#46039f"
             ],
             [
              0.2222222222222222,
              "#7201a8"
             ],
             [
              0.3333333333333333,
              "#9c179e"
             ],
             [
              0.4444444444444444,
              "#bd3786"
             ],
             [
              0.5555555555555556,
              "#d8576b"
             ],
             [
              0.6666666666666666,
              "#ed7953"
             ],
             [
              0.7777777777777778,
              "#fb9f3a"
             ],
             [
              0.8888888888888888,
              "#fdca26"
             ],
             [
              1,
              "#f0f921"
             ]
            ],
            "type": "contour"
           }
          ],
          "contourcarpet": [
           {
            "colorbar": {
             "outlinewidth": 0,
             "ticks": ""
            },
            "type": "contourcarpet"
           }
          ],
          "heatmap": [
           {
            "colorbar": {
             "outlinewidth": 0,
             "ticks": ""
            },
            "colorscale": [
             [
              0,
              "#0d0887"
             ],
             [
              0.1111111111111111,
              "#46039f"
             ],
             [
              0.2222222222222222,
              "#7201a8"
             ],
             [
              0.3333333333333333,
              "#9c179e"
             ],
             [
              0.4444444444444444,
              "#bd3786"
             ],
             [
              0.5555555555555556,
              "#d8576b"
             ],
             [
              0.6666666666666666,
              "#ed7953"
             ],
             [
              0.7777777777777778,
              "#fb9f3a"
             ],
             [
              0.8888888888888888,
              "#fdca26"
             ],
             [
              1,
              "#f0f921"
             ]
            ],
            "type": "heatmap"
           }
          ],
          "heatmapgl": [
           {
            "colorbar": {
             "outlinewidth": 0,
             "ticks": ""
            },
            "colorscale": [
             [
              0,
              "#0d0887"
             ],
             [
              0.1111111111111111,
              "#46039f"
             ],
             [
              0.2222222222222222,
              "#7201a8"
             ],
             [
              0.3333333333333333,
              "#9c179e"
             ],
             [
              0.4444444444444444,
              "#bd3786"
             ],
             [
              0.5555555555555556,
              "#d8576b"
             ],
             [
              0.6666666666666666,
              "#ed7953"
             ],
             [
              0.7777777777777778,
              "#fb9f3a"
             ],
             [
              0.8888888888888888,
              "#fdca26"
             ],
             [
              1,
              "#f0f921"
             ]
            ],
            "type": "heatmapgl"
           }
          ],
          "histogram": [
           {
            "marker": {
             "pattern": {
              "fillmode": "overlay",
              "size": 10,
              "solidity": 0.2
             }
            },
            "type": "histogram"
           }
          ],
          "histogram2d": [
           {
            "colorbar": {
             "outlinewidth": 0,
             "ticks": ""
            },
            "colorscale": [
             [
              0,
              "#0d0887"
             ],
             [
              0.1111111111111111,
              "#46039f"
             ],
             [
              0.2222222222222222,
              "#7201a8"
             ],
             [
              0.3333333333333333,
              "#9c179e"
             ],
             [
              0.4444444444444444,
              "#bd3786"
             ],
             [
              0.5555555555555556,
              "#d8576b"
             ],
             [
              0.6666666666666666,
              "#ed7953"
             ],
             [
              0.7777777777777778,
              "#fb9f3a"
             ],
             [
              0.8888888888888888,
              "#fdca26"
             ],
             [
              1,
              "#f0f921"
             ]
            ],
            "type": "histogram2d"
           }
          ],
          "histogram2dcontour": [
           {
            "colorbar": {
             "outlinewidth": 0,
             "ticks": ""
            },
            "colorscale": [
             [
              0,
              "#0d0887"
             ],
             [
              0.1111111111111111,
              "#46039f"
             ],
             [
              0.2222222222222222,
              "#7201a8"
             ],
             [
              0.3333333333333333,
              "#9c179e"
             ],
             [
              0.4444444444444444,
              "#bd3786"
             ],
             [
              0.5555555555555556,
              "#d8576b"
             ],
             [
              0.6666666666666666,
              "#ed7953"
             ],
             [
              0.7777777777777778,
              "#fb9f3a"
             ],
             [
              0.8888888888888888,
              "#fdca26"
             ],
             [
              1,
              "#f0f921"
             ]
            ],
            "type": "histogram2dcontour"
           }
          ],
          "mesh3d": [
           {
            "colorbar": {
             "outlinewidth": 0,
             "ticks": ""
            },
            "type": "mesh3d"
           }
          ],
          "parcoords": [
           {
            "line": {
             "colorbar": {
              "outlinewidth": 0,
              "ticks": ""
             }
            },
            "type": "parcoords"
           }
          ],
          "pie": [
           {
            "automargin": true,
            "type": "pie"
           }
          ],
          "scatter": [
           {
            "fillpattern": {
             "fillmode": "overlay",
             "size": 10,
             "solidity": 0.2
            },
            "type": "scatter"
           }
          ],
          "scatter3d": [
           {
            "line": {
             "colorbar": {
              "outlinewidth": 0,
              "ticks": ""
             }
            },
            "marker": {
             "colorbar": {
              "outlinewidth": 0,
              "ticks": ""
             }
            },
            "type": "scatter3d"
           }
          ],
          "scattercarpet": [
           {
            "marker": {
             "colorbar": {
              "outlinewidth": 0,
              "ticks": ""
             }
            },
            "type": "scattercarpet"
           }
          ],
          "scattergeo": [
           {
            "marker": {
             "colorbar": {
              "outlinewidth": 0,
              "ticks": ""
             }
            },
            "type": "scattergeo"
           }
          ],
          "scattergl": [
           {
            "marker": {
             "colorbar": {
              "outlinewidth": 0,
              "ticks": ""
             }
            },
            "type": "scattergl"
           }
          ],
          "scattermapbox": [
           {
            "marker": {
             "colorbar": {
              "outlinewidth": 0,
              "ticks": ""
             }
            },
            "type": "scattermapbox"
           }
          ],
          "scatterpolar": [
           {
            "marker": {
             "colorbar": {
              "outlinewidth": 0,
              "ticks": ""
             }
            },
            "type": "scatterpolar"
           }
          ],
          "scatterpolargl": [
           {
            "marker": {
             "colorbar": {
              "outlinewidth": 0,
              "ticks": ""
             }
            },
            "type": "scatterpolargl"
           }
          ],
          "scatterternary": [
           {
            "marker": {
             "colorbar": {
              "outlinewidth": 0,
              "ticks": ""
             }
            },
            "type": "scatterternary"
           }
          ],
          "surface": [
           {
            "colorbar": {
             "outlinewidth": 0,
             "ticks": ""
            },
            "colorscale": [
             [
              0,
              "#0d0887"
             ],
             [
              0.1111111111111111,
              "#46039f"
             ],
             [
              0.2222222222222222,
              "#7201a8"
             ],
             [
              0.3333333333333333,
              "#9c179e"
             ],
             [
              0.4444444444444444,
              "#bd3786"
             ],
             [
              0.5555555555555556,
              "#d8576b"
             ],
             [
              0.6666666666666666,
              "#ed7953"
             ],
             [
              0.7777777777777778,
              "#fb9f3a"
             ],
             [
              0.8888888888888888,
              "#fdca26"
             ],
             [
              1,
              "#f0f921"
             ]
            ],
            "type": "surface"
           }
          ],
          "table": [
           {
            "cells": {
             "fill": {
              "color": "#EBF0F8"
             },
             "line": {
              "color": "white"
             }
            },
            "header": {
             "fill": {
              "color": "#C8D4E3"
             },
             "line": {
              "color": "white"
             }
            },
            "type": "table"
           }
          ]
         },
         "layout": {
          "annotationdefaults": {
           "arrowcolor": "#2a3f5f",
           "arrowhead": 0,
           "arrowwidth": 1
          },
          "autotypenumbers": "strict",
          "coloraxis": {
           "colorbar": {
            "outlinewidth": 0,
            "ticks": ""
           }
          },
          "colorscale": {
           "diverging": [
            [
             0,
             "#8e0152"
            ],
            [
             0.1,
             "#c51b7d"
            ],
            [
             0.2,
             "#de77ae"
            ],
            [
             0.3,
             "#f1b6da"
            ],
            [
             0.4,
             "#fde0ef"
            ],
            [
             0.5,
             "#f7f7f7"
            ],
            [
             0.6,
             "#e6f5d0"
            ],
            [
             0.7,
             "#b8e186"
            ],
            [
             0.8,
             "#7fbc41"
            ],
            [
             0.9,
             "#4d9221"
            ],
            [
             1,
             "#276419"
            ]
           ],
           "sequential": [
            [
             0,
             "#0d0887"
            ],
            [
             0.1111111111111111,
             "#46039f"
            ],
            [
             0.2222222222222222,
             "#7201a8"
            ],
            [
             0.3333333333333333,
             "#9c179e"
            ],
            [
             0.4444444444444444,
             "#bd3786"
            ],
            [
             0.5555555555555556,
             "#d8576b"
            ],
            [
             0.6666666666666666,
             "#ed7953"
            ],
            [
             0.7777777777777778,
             "#fb9f3a"
            ],
            [
             0.8888888888888888,
             "#fdca26"
            ],
            [
             1,
             "#f0f921"
            ]
           ],
           "sequentialminus": [
            [
             0,
             "#0d0887"
            ],
            [
             0.1111111111111111,
             "#46039f"
            ],
            [
             0.2222222222222222,
             "#7201a8"
            ],
            [
             0.3333333333333333,
             "#9c179e"
            ],
            [
             0.4444444444444444,
             "#bd3786"
            ],
            [
             0.5555555555555556,
             "#d8576b"
            ],
            [
             0.6666666666666666,
             "#ed7953"
            ],
            [
             0.7777777777777778,
             "#fb9f3a"
            ],
            [
             0.8888888888888888,
             "#fdca26"
            ],
            [
             1,
             "#f0f921"
            ]
           ]
          },
          "colorway": [
           "#636efa",
           "#EF553B",
           "#00cc96",
           "#ab63fa",
           "#FFA15A",
           "#19d3f3",
           "#FF6692",
           "#B6E880",
           "#FF97FF",
           "#FECB52"
          ],
          "font": {
           "color": "#2a3f5f"
          },
          "geo": {
           "bgcolor": "white",
           "lakecolor": "white",
           "landcolor": "white",
           "showlakes": true,
           "showland": true,
           "subunitcolor": "#C8D4E3"
          },
          "hoverlabel": {
           "align": "left"
          },
          "hovermode": "closest",
          "mapbox": {
           "style": "light"
          },
          "paper_bgcolor": "white",
          "plot_bgcolor": "white",
          "polar": {
           "angularaxis": {
            "gridcolor": "#EBF0F8",
            "linecolor": "#EBF0F8",
            "ticks": ""
           },
           "bgcolor": "white",
           "radialaxis": {
            "gridcolor": "#EBF0F8",
            "linecolor": "#EBF0F8",
            "ticks": ""
           }
          },
          "scene": {
           "xaxis": {
            "backgroundcolor": "white",
            "gridcolor": "#DFE8F3",
            "gridwidth": 2,
            "linecolor": "#EBF0F8",
            "showbackground": true,
            "ticks": "",
            "zerolinecolor": "#EBF0F8"
           },
           "yaxis": {
            "backgroundcolor": "white",
            "gridcolor": "#DFE8F3",
            "gridwidth": 2,
            "linecolor": "#EBF0F8",
            "showbackground": true,
            "ticks": "",
            "zerolinecolor": "#EBF0F8"
           },
           "zaxis": {
            "backgroundcolor": "white",
            "gridcolor": "#DFE8F3",
            "gridwidth": 2,
            "linecolor": "#EBF0F8",
            "showbackground": true,
            "ticks": "",
            "zerolinecolor": "#EBF0F8"
           }
          },
          "shapedefaults": {
           "line": {
            "color": "#2a3f5f"
           }
          },
          "ternary": {
           "aaxis": {
            "gridcolor": "#DFE8F3",
            "linecolor": "#A2B1C6",
            "ticks": ""
           },
           "baxis": {
            "gridcolor": "#DFE8F3",
            "linecolor": "#A2B1C6",
            "ticks": ""
           },
           "bgcolor": "white",
           "caxis": {
            "gridcolor": "#DFE8F3",
            "linecolor": "#A2B1C6",
            "ticks": ""
           }
          },
          "title": {
           "x": 0.05
          },
          "xaxis": {
           "automargin": true,
           "gridcolor": "#EBF0F8",
           "linecolor": "#EBF0F8",
           "ticks": "",
           "title": {
            "standoff": 15
           },
           "zerolinecolor": "#EBF0F8",
           "zerolinewidth": 2
          },
          "yaxis": {
           "automargin": true,
           "gridcolor": "#EBF0F8",
           "linecolor": "#EBF0F8",
           "ticks": "",
           "title": {
            "standoff": 15
           },
           "zerolinecolor": "#EBF0F8",
           "zerolinewidth": 2
          }
         }
        },
        "title": {
         "text": "Frontera de Eficiencia"
        },
        "width": 850,
        "xaxis": {
         "range": [
          0,
          0.26
         ],
         "title": {
          "text": "Volatilidad Anualizada"
         }
        },
        "yaxis": {
         "range": [
          -0.2,
          0.29
         ],
         "title": {
          "text": "Retorno Anualizado"
         }
        }
       }
      }
     },
     "metadata": {},
     "output_type": "display_data"
    }
   ],
   "source": [
    "# Efficiency Frontier for Short-Term Funds\n",
    "rfr_c = -0.0063\n",
    "short, fig_c = EfficiencyFrontier(rets_c, True,12, 5, 10000, rfr_c)"
   ]
  },
  {
   "cell_type": "code",
   "execution_count": 9,
   "metadata": {},
   "outputs": [
    {
     "data": {
      "text/html": [
       "<div>\n",
       "<style scoped>\n",
       "    .dataframe tbody tr th:only-of-type {\n",
       "        vertical-align: middle;\n",
       "    }\n",
       "\n",
       "    .dataframe tbody tr th {\n",
       "        vertical-align: top;\n",
       "    }\n",
       "\n",
       "    .dataframe thead th {\n",
       "        text-align: right;\n",
       "    }\n",
       "</style>\n",
       "<table border=\"1\" class=\"dataframe\">\n",
       "  <thead>\n",
       "    <tr style=\"text-align: right;\">\n",
       "      <th></th>\n",
       "      <th>comp_0</th>\n",
       "      <th>comp_1</th>\n",
       "      <th>comp_2</th>\n",
       "      <th>comp_3</th>\n",
       "      <th>comp_4</th>\n",
       "      <th>peso_0</th>\n",
       "      <th>peso_1</th>\n",
       "      <th>peso_2</th>\n",
       "      <th>peso_3</th>\n",
       "      <th>peso_4</th>\n",
       "      <th>Rentabilidad</th>\n",
       "      <th>Volatilidad</th>\n",
       "      <th>sharpe</th>\n",
       "    </tr>\n",
       "    <tr>\n",
       "      <th>instrument</th>\n",
       "      <th></th>\n",
       "      <th></th>\n",
       "      <th></th>\n",
       "      <th></th>\n",
       "      <th></th>\n",
       "      <th></th>\n",
       "      <th></th>\n",
       "      <th></th>\n",
       "      <th></th>\n",
       "      <th></th>\n",
       "      <th></th>\n",
       "      <th></th>\n",
       "      <th></th>\n",
       "    </tr>\n",
       "  </thead>\n",
       "  <tbody>\n",
       "    <tr>\n",
       "      <th>portfolio_15</th>\n",
       "      <td>Rend PELLEGRINI RENTA PESOS</td>\n",
       "      <td>Rend FIMA PREMIUM</td>\n",
       "      <td>Rend SUPERGESTION MIX VI</td>\n",
       "      <td>Rend HF PESOS</td>\n",
       "      <td>PF DEFLACT</td>\n",
       "      <td>0.109597</td>\n",
       "      <td>0.47369</td>\n",
       "      <td>0.001873</td>\n",
       "      <td>0.243832</td>\n",
       "      <td>0.171008</td>\n",
       "      <td>-0.102052</td>\n",
       "      <td>0.041778</td>\n",
       "      <td>-2.291919</td>\n",
       "    </tr>\n",
       "  </tbody>\n",
       "</table>\n",
       "</div>"
      ],
      "text/plain": [
       "                                   comp_0             comp_1  \\\n",
       "instrument                                                     \n",
       "portfolio_15  Rend PELLEGRINI RENTA PESOS  Rend FIMA PREMIUM   \n",
       "\n",
       "                                comp_2         comp_3      comp_4    peso_0  \\\n",
       "instrument                                                                    \n",
       "portfolio_15  Rend SUPERGESTION MIX VI  Rend HF PESOS  PF DEFLACT  0.109597   \n",
       "\n",
       "               peso_1    peso_2    peso_3    peso_4  Rentabilidad  \\\n",
       "instrument                                                          \n",
       "portfolio_15  0.47369  0.001873  0.243832  0.171008     -0.102052   \n",
       "\n",
       "              Volatilidad    sharpe  \n",
       "instrument                           \n",
       "portfolio_15     0.041778 -2.291919  "
      ]
     },
     "metadata": {},
     "output_type": "display_data"
    },
    {
     "data": {
      "text/html": [
       "<div>\n",
       "<style scoped>\n",
       "    .dataframe tbody tr th:only-of-type {\n",
       "        vertical-align: middle;\n",
       "    }\n",
       "\n",
       "    .dataframe tbody tr th {\n",
       "        vertical-align: top;\n",
       "    }\n",
       "\n",
       "    .dataframe thead th {\n",
       "        text-align: right;\n",
       "    }\n",
       "</style>\n",
       "<table border=\"1\" class=\"dataframe\">\n",
       "  <thead>\n",
       "    <tr style=\"text-align: right;\">\n",
       "      <th></th>\n",
       "      <th>comp_0</th>\n",
       "      <th>comp_1</th>\n",
       "      <th>comp_2</th>\n",
       "      <th>comp_3</th>\n",
       "      <th>comp_4</th>\n",
       "      <th>peso_0</th>\n",
       "      <th>peso_1</th>\n",
       "      <th>peso_2</th>\n",
       "      <th>peso_3</th>\n",
       "      <th>peso_4</th>\n",
       "      <th>Rentabilidad</th>\n",
       "      <th>Volatilidad</th>\n",
       "      <th>sharpe</th>\n",
       "    </tr>\n",
       "    <tr>\n",
       "      <th>instrument</th>\n",
       "      <th></th>\n",
       "      <th></th>\n",
       "      <th></th>\n",
       "      <th></th>\n",
       "      <th></th>\n",
       "      <th></th>\n",
       "      <th></th>\n",
       "      <th></th>\n",
       "      <th></th>\n",
       "      <th></th>\n",
       "      <th></th>\n",
       "      <th></th>\n",
       "      <th></th>\n",
       "    </tr>\n",
       "  </thead>\n",
       "  <tbody>\n",
       "    <tr>\n",
       "      <th>portfolio_26</th>\n",
       "      <td>Rend FIMA AHORRO PESOS</td>\n",
       "      <td>PF DEFLACT</td>\n",
       "      <td>Rend PELLEGRINI RENTA PESOS</td>\n",
       "      <td>Rendimiento Deflact Dólar MEP</td>\n",
       "      <td>Rend SUPERGESTION MIX VI</td>\n",
       "      <td>0.434438</td>\n",
       "      <td>0.112273</td>\n",
       "      <td>0.367241</td>\n",
       "      <td>0.052348</td>\n",
       "      <td>0.033699</td>\n",
       "      <td>-0.078695</td>\n",
       "      <td>0.048818</td>\n",
       "      <td>-1.482956</td>\n",
       "    </tr>\n",
       "  </tbody>\n",
       "</table>\n",
       "</div>"
      ],
      "text/plain": [
       "                              comp_0      comp_1                       comp_2  \\\n",
       "instrument                                                                      \n",
       "portfolio_26  Rend FIMA AHORRO PESOS  PF DEFLACT  Rend PELLEGRINI RENTA PESOS   \n",
       "\n",
       "                                     comp_3                    comp_4  \\\n",
       "instrument                                                              \n",
       "portfolio_26  Rendimiento Deflact Dólar MEP  Rend SUPERGESTION MIX VI   \n",
       "\n",
       "                peso_0    peso_1    peso_2    peso_3    peso_4  Rentabilidad  \\\n",
       "instrument                                                                     \n",
       "portfolio_26  0.434438  0.112273  0.367241  0.052348  0.033699     -0.078695   \n",
       "\n",
       "              Volatilidad    sharpe  \n",
       "instrument                           \n",
       "portfolio_26     0.048818 -1.482956  "
      ]
     },
     "metadata": {},
     "output_type": "display_data"
    },
    {
     "data": {
      "text/html": [
       "<div>\n",
       "<style scoped>\n",
       "    .dataframe tbody tr th:only-of-type {\n",
       "        vertical-align: middle;\n",
       "    }\n",
       "\n",
       "    .dataframe tbody tr th {\n",
       "        vertical-align: top;\n",
       "    }\n",
       "\n",
       "    .dataframe thead th {\n",
       "        text-align: right;\n",
       "    }\n",
       "</style>\n",
       "<table border=\"1\" class=\"dataframe\">\n",
       "  <thead>\n",
       "    <tr style=\"text-align: right;\">\n",
       "      <th></th>\n",
       "      <th>comp_0</th>\n",
       "      <th>comp_1</th>\n",
       "      <th>comp_2</th>\n",
       "      <th>comp_3</th>\n",
       "      <th>comp_4</th>\n",
       "      <th>peso_0</th>\n",
       "      <th>peso_1</th>\n",
       "      <th>peso_2</th>\n",
       "      <th>peso_3</th>\n",
       "      <th>peso_4</th>\n",
       "      <th>Rentabilidad</th>\n",
       "      <th>Volatilidad</th>\n",
       "      <th>sharpe</th>\n",
       "    </tr>\n",
       "    <tr>\n",
       "      <th>instrument</th>\n",
       "      <th></th>\n",
       "      <th></th>\n",
       "      <th></th>\n",
       "      <th></th>\n",
       "      <th></th>\n",
       "      <th></th>\n",
       "      <th></th>\n",
       "      <th></th>\n",
       "      <th></th>\n",
       "      <th></th>\n",
       "      <th></th>\n",
       "      <th></th>\n",
       "      <th></th>\n",
       "    </tr>\n",
       "  </thead>\n",
       "  <tbody>\n",
       "    <tr>\n",
       "      <th>portfolio_62</th>\n",
       "      <td>Rend SUPERGESTION MIX VI</td>\n",
       "      <td>PF DEFLACT</td>\n",
       "      <td>Rend PELLEGRINI RENTA FIJA</td>\n",
       "      <td>Rend FIMA AHORRO PESOS</td>\n",
       "      <td>Rendimiento Deflact Dólar MEP</td>\n",
       "      <td>0.006735</td>\n",
       "      <td>0.384396</td>\n",
       "      <td>0.007108</td>\n",
       "      <td>0.154871</td>\n",
       "      <td>0.44689</td>\n",
       "      <td>0.050791</td>\n",
       "      <td>0.163344</td>\n",
       "      <td>0.349511</td>\n",
       "    </tr>\n",
       "  </tbody>\n",
       "</table>\n",
       "</div>"
      ],
      "text/plain": [
       "                                comp_0      comp_1  \\\n",
       "instrument                                           \n",
       "portfolio_62  Rend SUPERGESTION MIX VI  PF DEFLACT   \n",
       "\n",
       "                                  comp_2                  comp_3  \\\n",
       "instrument                                                         \n",
       "portfolio_62  Rend PELLEGRINI RENTA FIJA  Rend FIMA AHORRO PESOS   \n",
       "\n",
       "                                     comp_4    peso_0    peso_1    peso_2  \\\n",
       "instrument                                                                  \n",
       "portfolio_62  Rendimiento Deflact Dólar MEP  0.006735  0.384396  0.007108   \n",
       "\n",
       "                peso_3   peso_4  Rentabilidad  Volatilidad    sharpe  \n",
       "instrument                                                            \n",
       "portfolio_62  0.154871  0.44689      0.050791     0.163344  0.349511  "
      ]
     },
     "metadata": {},
     "output_type": "display_data"
    }
   ],
   "source": [
    "# Min Volatility Portfolio Short-Term Funds\n",
    "rango_c = (0.0418, 0.0486, 0.1623)\n",
    "for i, k in zip(rango_c, range(len(rango_c))):\n",
    "    display(short[short['Volatilidad']==closest(short['Volatilidad'], i)])\n"
   ]
  },
  {
   "cell_type": "code",
   "execution_count": 10,
   "metadata": {},
   "outputs": [
    {
     "name": "stderr",
     "output_type": "stream",
     "text": [
      "100%|██████████| 10000/10000 [00:01<00:00, 6817.60it/s]\n"
     ]
    },
    {
     "data": {
      "text/html": [
       "<table border=\"1\" class=\"dataframe\">\n",
       "  <thead>\n",
       "    <tr style=\"text-align: right;\">\n",
       "      <th></th>\n",
       "      <th>comp_0</th>\n",
       "      <th>comp_1</th>\n",
       "      <th>comp_2</th>\n",
       "      <th>comp_3</th>\n",
       "      <th>comp_4</th>\n",
       "      <th>peso_0</th>\n",
       "      <th>peso_1</th>\n",
       "      <th>peso_2</th>\n",
       "      <th>peso_3</th>\n",
       "      <th>peso_4</th>\n",
       "      <th>Rentabilidad</th>\n",
       "      <th>Volatilidad</th>\n",
       "      <th>sharpe</th>\n",
       "    </tr>\n",
       "    <tr>\n",
       "      <th>instrument</th>\n",
       "      <th></th>\n",
       "      <th></th>\n",
       "      <th></th>\n",
       "      <th></th>\n",
       "      <th></th>\n",
       "      <th></th>\n",
       "      <th></th>\n",
       "      <th></th>\n",
       "      <th></th>\n",
       "      <th></th>\n",
       "      <th></th>\n",
       "      <th></th>\n",
       "      <th></th>\n",
       "    </tr>\n",
       "  </thead>\n",
       "  <tbody>\n",
       "    <tr>\n",
       "      <th>portfolio_1</th>\n",
       "      <td>PF DEFLACT</td>\n",
       "      <td>UVA DEFLACT</td>\n",
       "      <td>Rend SUPER BONO</td>\n",
       "      <td>Rend LOMBARD ABIERTO PLUS</td>\n",
       "      <td>Rend ST RENTA PLUS</td>\n",
       "      <td>0.197246</td>\n",
       "      <td>0.248750</td>\n",
       "      <td>0.319873</td>\n",
       "      <td>0.171658</td>\n",
       "      <td>0.062473</td>\n",
       "      <td>-0.029018</td>\n",
       "      <td>0.132591</td>\n",
       "      <td>0.392048</td>\n",
       "    </tr>\n",
       "    <tr>\n",
       "      <th>portfolio_2</th>\n",
       "      <td>Rend MEGAINVER RF COB</td>\n",
       "      <td>Rend ST RENTA PLUS</td>\n",
       "      <td>Rend LOMBARD ABIERTO PLUS</td>\n",
       "      <td>Rend MAF RENTA ARGENTINA</td>\n",
       "      <td>Rend SBS RENTA PESOS</td>\n",
       "      <td>0.138108</td>\n",
       "      <td>0.205629</td>\n",
       "      <td>0.264824</td>\n",
       "      <td>0.178695</td>\n",
       "      <td>0.212744</td>\n",
       "      <td>0.026004</td>\n",
       "      <td>0.151876</td>\n",
       "      <td>0.704547</td>\n",
       "    </tr>\n",
       "    <tr>\n",
       "      <th>portfolio_3</th>\n",
       "      <td>Rend MEGAINVER RF COB</td>\n",
       "      <td>Rend ST RENTA PLUS</td>\n",
       "      <td>Rend SUPER BONO</td>\n",
       "      <td>Rendimiento Deflact Dólar MEP</td>\n",
       "      <td>Rend GOAL RENTA GLOBAL</td>\n",
       "      <td>0.276462</td>\n",
       "      <td>0.253732</td>\n",
       "      <td>0.150875</td>\n",
       "      <td>0.171924</td>\n",
       "      <td>0.147006</td>\n",
       "      <td>0.057412</td>\n",
       "      <td>0.209269</td>\n",
       "      <td>0.661408</td>\n",
       "    </tr>\n",
       "    <tr>\n",
       "      <th>portfolio_4</th>\n",
       "      <td>Rend MAF RENTA ARGENTINA</td>\n",
       "      <td>PF DEFLACT</td>\n",
       "      <td>Rendimiento Deflact Dólar MEP</td>\n",
       "      <td>Rend LOMBARD ABIERTO PLUS</td>\n",
       "      <td>Rend MEGAINVER RF COB</td>\n",
       "      <td>0.047103</td>\n",
       "      <td>0.153464</td>\n",
       "      <td>0.190334</td>\n",
       "      <td>0.367920</td>\n",
       "      <td>0.241179</td>\n",
       "      <td>0.030440</td>\n",
       "      <td>0.129279</td>\n",
       "      <td>0.862007</td>\n",
       "    </tr>\n",
       "    <tr>\n",
       "      <th>portfolio_5</th>\n",
       "      <td>PF DEFLACT</td>\n",
       "      <td>Rend MAF RENTA ARGENTINA</td>\n",
       "      <td>Rend SBS RENTA PESOS</td>\n",
       "      <td>UVA DEFLACT</td>\n",
       "      <td>Rend MEGAINVER RF COB</td>\n",
       "      <td>0.021038</td>\n",
       "      <td>0.228112</td>\n",
       "      <td>0.292126</td>\n",
       "      <td>0.184486</td>\n",
       "      <td>0.274238</td>\n",
       "      <td>0.037845</td>\n",
       "      <td>0.163600</td>\n",
       "      <td>0.726434</td>\n",
       "    </tr>\n",
       "  </tbody>\n",
       "</table>"
      ],
      "text/plain": [
       "<IPython.core.display.HTML object>"
      ]
     },
     "metadata": {},
     "output_type": "display_data"
    },
    {
     "data": {
      "application/vnd.plotly.v1+json": {
       "config": {
        "plotlyServerURL": "https://plot.ly"
       },
       "data": [
        {
         "marker": {
          "color": [
           0.39204830045586264,
           0.7045467574627678,
           0.6614078646693405,
           0.8620074451847265,
           0.7264337415829195,
           0.5936402630787945,
           0.9447748724157045,
           0.36901877618388573,
           0.573916134483325,
           0.8756502062580787,
           0.7249449502085126,
           0.8138927588180801,
           0.6415642084327993,
           0.8909736963115263,
           0.6875096256069133,
           0.4532535815021334,
           0.6212436067680286,
           0.9362646470030583,
           0.8847448740793268,
           0.824044228626078,
           0.9886595629138338,
           0.8840534324255745,
           0.5942626586913228,
           0.8376277287019612,
           0.9545704266539682,
           0.941673909832216,
           0.9064369814915255,
           0.9823706952730226,
           0.8741437620402851,
           0.9033394463238207,
           1.0303294308839142,
           1.2341006601238909,
           0.8007743268880858,
           0.9805987370745789,
           0.6220297154443829,
           0.928142833414993,
           0.6598063981560861,
           0.9628528290492443,
           0.8886972076286584,
           0.7671924920320702,
           1.0304659563623442,
           0.8294462901100255,
           1.0882313518434155,
           0.9470056568399347,
           0.9373746967565234,
           0.9126851789307441,
           0.9934139362224642,
           0.9632841250161318,
           1.09800728939854,
           0.8543284492051327,
           1.0132706968416505,
           0.9753866508836242,
           1.0168944436347878,
           0.9707991343037227,
           0.9352331007781723,
           1.0322201432425446,
           0.9645373692845067,
           1.1356752241785892,
           1.0161142167287505,
           0.9480054402133895,
           1.2110570185296832,
           0.8778203590237743,
           1.0379348816049316,
           1.0402763165799915,
           0.9365791198657768,
           1.1113345614708172,
           1.0527276304806263,
           0.9962065239166987,
           1.0212860704938211,
           1.0897706248384853,
           1.3511500402694463,
           1.1226954964444624,
           0.955824492008373,
           1.0568283783909007,
           1.1485897303297632,
           1.1767439150794905,
           0.9095649785018676,
           0.9600145492693131,
           1.062384485659994,
           1.3839122304438647,
           1.0468291621297705,
           1.1072620574958965,
           1.0998080470553477,
           1.3878675258276565,
           1.10671218062085,
           1.1151052054513184,
           0.940794036967937,
           0.9588908546136943,
           1.1408443981599574,
           0.9825651381560027,
           0.9371760693701406,
           1.2803413219882134,
           0.9363496361876157,
           1.2617826567716468,
           1.1632391734859444,
           0.9174904127225983,
           0.9873228089892081,
           1.1754842388560989,
           1.0614442999003706,
           0.9767639041547117,
           1.0797205854972198,
           1.0212009299028462,
           1.132007496405733,
           1.2854411468331928,
           1.2624021341147553,
           1.1207593920646965,
           0.990049111649332,
           1.097808700053584,
           1.3951847827074677,
           1.251038530180702,
           1.4484127395111641,
           1.1109672925635319,
           1.314320064220576,
           0.9641270302430508,
           1.2186770168864234,
           1.1879075529838274,
           0.7100386796645659,
           0.9734870748194534,
           1.1826694304877439,
           0.9444318339641702,
           1.099409511836123,
           1.077575397465369,
           1.1306071839531473,
           1.1117925462756126,
           1.2016580165793593,
           1.233252553574518,
           0.7849049852266923,
           0.9807781242864938,
           0.9074259474747046,
           1.0688777191759722,
           0.965190790245059,
           1.1166924417594204,
           1.0465477925968099,
           1.0979873631497248,
           1.1490129416620367,
           0.784395682856804,
           0.9613054179486147,
           1.2817339711266729,
           1.270462523758837,
           0.9729673335402078,
           1.2676977697640726,
           1.2555196799906985,
           0.9760006584718715,
           1.1996224600894807,
           1.2339965541329445,
           0.9429785272643626,
           1.0278328733777056,
           0.9864784414576981,
           1.3949828320134345,
           1.452111063589939,
           0.9530841977783084,
           1.2339870802732695,
           1.1659894848903896,
           1.2331151820120563,
           1.3607465563819534,
           0.9462358634153188,
           1.0929337631027252,
           0.8414005555272441,
           1.623016381611354,
           1.2108677338211435
          ],
          "colorbar": {
           "title": {
            "text": "Sharpe<br>Ratio"
           }
          },
          "colorscale": [
           [
            0,
            "rgb(103,0,31)"
           ],
           [
            0.1,
            "rgb(178,24,43)"
           ],
           [
            0.2,
            "rgb(214,96,77)"
           ],
           [
            0.3,
            "rgb(244,165,130)"
           ],
           [
            0.4,
            "rgb(253,219,199)"
           ],
           [
            0.5,
            "rgb(247,247,247)"
           ],
           [
            0.6,
            "rgb(209,229,240)"
           ],
           [
            0.7,
            "rgb(146,197,222)"
           ],
           [
            0.8,
            "rgb(67,147,195)"
           ],
           [
            0.9,
            "rgb(33,102,172)"
           ],
           [
            1,
            "rgb(5,48,97)"
           ]
          ],
          "line": {
           "width": 1
          },
          "showscale": true,
          "size": 7
         },
         "mode": "markers",
         "text": [
          "['PF DEFLACT' 'UVA DEFLACT' 'Rend SUPER BONO' 'Rend LOMBARD ABIERTO PLUS'\n 'Rend ST RENTA PLUS']<br>[0.2  0.25 0.32 0.17 0.06]",
          "['Rend MEGAINVER RF COB' 'Rend ST RENTA PLUS' 'Rend LOMBARD ABIERTO PLUS'\n 'Rend MAF RENTA ARGENTINA' 'Rend SBS RENTA PESOS']<br>[0.14 0.21 0.26 0.18 0.21]",
          "['Rend MEGAINVER RF COB' 'Rend ST RENTA PLUS' 'Rend SUPER BONO'\n 'Rendimiento Deflact Dólar MEP' 'Rend GOAL RENTA GLOBAL']<br>[0.28 0.25 0.15 0.17 0.15]",
          "['Rend MAF RENTA ARGENTINA' 'PF DEFLACT' 'Rendimiento Deflact Dólar MEP'\n 'Rend LOMBARD ABIERTO PLUS' 'Rend MEGAINVER RF COB']<br>[0.05 0.15 0.19 0.37 0.24]",
          "['PF DEFLACT' 'Rend MAF RENTA ARGENTINA' 'Rend SBS RENTA PESOS'\n 'UVA DEFLACT' 'Rend MEGAINVER RF COB']<br>[0.02 0.23 0.29 0.18 0.27]",
          "['PF DEFLACT' 'Rend SBS RENTA PESOS' 'Rend GOAL RENTA GLOBAL'\n 'Rend RAICES INVERSION' 'Rend LOMBARD ABIERTO PLUS']<br>[0.28 0.25 0.   0.07 0.4 ]",
          "['Rend LOMBARD ABIERTO PLUS' 'Rend ST RENTA PLUS'\n 'Rendimiento Deflact Dólar MEP' 'Rend MAF RENTA ARGENTINA'\n 'Rend SBS RENTA PESOS']<br>[0.21 0.26 0.35 0.09 0.08]",
          "['PF DEFLACT' 'UVA DEFLACT' 'Rend RAICES INVERSION'\n 'Rend LOMBARD ABIERTO PLUS' 'Rend MAF RENTA ARGENTINA']<br>[0.17 0.1  0.31 0.13 0.28]",
          "['Rend SUPER BONO' 'PF DEFLACT' 'UVA DEFLACT' 'Rend ST RENTA PLUS'\n 'Rend SUPERFONDO RENTA $']<br>[0.18 0.22 0.2  0.21 0.19]",
          "['Rend SUPERFONDO RENTA $' 'PF DEFLACT' 'Rend MEGAINVER RF COB'\n 'Rendimiento Deflact Dólar MEP' 'Rend LOMBARD ABIERTO PLUS']<br>[0.2  0.09 0.3  0.21 0.21]",
          "['Rend LOMBARD ABIERTO PLUS' 'Rend ST RENTA PLUS' 'UVA DEFLACT'\n 'Rend MEGAINVER RF COB' 'Rend SUPER BONO']<br>[0.36 0.16 0.22 0.12 0.15]",
          "['PF DEFLACT' 'Rend MEGAINVER RF COB' 'Rend SUPER BONO'\n 'Rend ST RENTA PLUS' 'UVA DEFLACT']<br>[0.07 0.09 0.15 0.34 0.36]",
          "['Rend LOMBARD ABIERTO PLUS' 'UVA DEFLACT' 'Rend GOAL RENTA GLOBAL'\n 'Rend MAF RENTA ARGENTINA' 'Rend SBS RENTA PESOS']<br>[0.3  0.36 0.29 0.02 0.03]",
          "['Rend GOAL RENTA GLOBAL' 'Rendimiento Deflact Dólar MEP'\n 'Rend SUPERFONDO RENTA $' 'Rend SBS RENTA PESOS'\n 'Rend LOMBARD ABIERTO PLUS']<br>[0.04 0.27 0.25 0.12 0.32]",
          "['Rend MEGAINVER RF COB' 'UVA DEFLACT' 'Rend RAICES INVERSION'\n 'Rend SBS RENTA PESOS' 'Rend MAF RENTA ARGENTINA']<br>[0.15 0.32 0.3  0.09 0.15]",
          "['Rend SBS RENTA PESOS' 'UVA DEFLACT' 'Rend RAICES INVERSION'\n 'Rend GOAL RENTA GLOBAL' 'PF DEFLACT']<br>[0.04 0.08 0.02 0.27 0.59]",
          "['UVA DEFLACT' 'Rend LOMBARD ABIERTO PLUS' 'Rend MEGAINVER RF COB'\n 'Rend SUPERFONDO RENTA $' 'PF DEFLACT']<br>[0.31 0.17 0.04 0.34 0.14]",
          "['Rend LOMBARD ABIERTO PLUS' 'Rendimiento Deflact Dólar MEP' 'PF DEFLACT'\n 'Rend ST RENTA PLUS' 'Rend MEGAINVER RF COB']<br>[0.04 0.26 0.36 0.2  0.15]",
          "['PF DEFLACT' 'Rend LOMBARD ABIERTO PLUS' 'Rend MAF RENTA ARGENTINA'\n 'Rendimiento Deflact Dólar MEP' 'UVA DEFLACT']<br>[0.16 0.22 0.22 0.21 0.19]",
          "['Rend LOMBARD ABIERTO PLUS' 'Rend SUPER BONO' 'Rend MEGAINVER RF COB'\n 'Rend MAF RENTA ARGENTINA' 'UVA DEFLACT']<br>[0.22 0.02 0.15 0.22 0.39]",
          "['Rend SUPERFONDO RENTA $' 'Rend MEGAINVER RF COB'\n 'Rend LOMBARD ABIERTO PLUS' 'Rendimiento Deflact Dólar MEP' 'UVA DEFLACT']<br>[0.17 0.27 0.13 0.18 0.24]",
          "['Rendimiento Deflact Dólar MEP' 'Rend LOMBARD ABIERTO PLUS'\n 'Rend SBS RENTA PESOS' 'Rend RAICES INVERSION' 'Rend GOAL RENTA GLOBAL']<br>[0.26 0.32 0.18 0.18 0.05]",
          "['PF DEFLACT' 'Rend LOMBARD ABIERTO PLUS' 'Rendimiento Deflact Dólar MEP'\n 'Rend ST RENTA PLUS' 'Rend SUPER BONO']<br>[0.38 0.34 0.   0.17 0.12]",
          "['Rend GOAL RENTA GLOBAL' 'Rend SBS RENTA PESOS' 'Rend SUPERFONDO RENTA $'\n 'Rend LOMBARD ABIERTO PLUS' 'Rendimiento Deflact Dólar MEP']<br>[0.14 0.1  0.03 0.59 0.14]",
          "['Rendimiento Deflact Dólar MEP' 'PF DEFLACT' 'UVA DEFLACT'\n 'Rend LOMBARD ABIERTO PLUS' 'Rend SBS RENTA PESOS']<br>[0.32 0.39 0.02 0.2  0.07]",
          "['PF DEFLACT' 'Rend SBS RENTA PESOS' 'Rend ST RENTA PLUS'\n 'Rendimiento Deflact Dólar MEP' 'Rend RAICES INVERSION']<br>[0.07 0.14 0.3  0.36 0.13]",
          "['Rend RAICES INVERSION' 'Rend ST RENTA PLUS' 'Rend MAF RENTA ARGENTINA'\n 'UVA DEFLACT' 'Rendimiento Deflact Dólar MEP']<br>[0.1  0.41 0.12 0.11 0.26]",
          "['Rend MAF RENTA ARGENTINA' 'PF DEFLACT' 'Rend SUPER BONO'\n 'Rend MEGAINVER RF COB' 'UVA DEFLACT']<br>[0.09 0.5  0.03 0.04 0.33]",
          "['Rend MEGAINVER RF COB' 'PF DEFLACT' 'Rend SUPERFONDO RENTA $'\n 'Rend LOMBARD ABIERTO PLUS' 'Rendimiento Deflact Dólar MEP']<br>[0.27 0.2  0.2  0.23 0.11]",
          "['Rend ST RENTA PLUS' 'UVA DEFLACT' 'Rend MAF RENTA ARGENTINA'\n 'Rend SBS RENTA PESOS' 'Rend MEGAINVER RF COB']<br>[0.3  0.42 0.04 0.19 0.05]",
          "['Rendimiento Deflact Dólar MEP' 'Rend SBS RENTA PESOS'\n 'Rend ST RENTA PLUS' 'PF DEFLACT' 'Rend LOMBARD ABIERTO PLUS']<br>[0.21 0.02 0.25 0.11 0.41]",
          "['Rend ST RENTA PLUS' 'Rendimiento Deflact Dólar MEP'\n 'Rend LOMBARD ABIERTO PLUS' 'Rend RAICES INVERSION' 'UVA DEFLACT']<br>[0.07 0.1  0.36 0.13 0.33]",
          "['Rend GOAL RENTA GLOBAL' 'Rend SUPER BONO'\n 'Rendimiento Deflact Dólar MEP' 'UVA DEFLACT' 'Rend ST RENTA PLUS']<br>[0.05 0.13 0.5  0.   0.32]",
          "['Rend SBS RENTA PESOS' 'Rendimiento Deflact Dólar MEP'\n 'Rend LOMBARD ABIERTO PLUS' 'Rend ST RENTA PLUS' 'PF DEFLACT']<br>[0.23 0.26 0.21 0.26 0.04]",
          "['Rend RAICES INVERSION' 'Rend LOMBARD ABIERTO PLUS' 'UVA DEFLACT'\n 'Rend MAF RENTA ARGENTINA' 'PF DEFLACT']<br>[0.18 0.35 0.18 0.03 0.27]",
          "['Rend ST RENTA PLUS' 'Rend MEGAINVER RF COB'\n 'Rendimiento Deflact Dólar MEP' 'Rend RAICES INVERSION'\n 'Rend SBS RENTA PESOS']<br>[0.   0.09 0.45 0.07 0.39]",
          "['UVA DEFLACT' 'Rend ST RENTA PLUS' 'Rend MAF RENTA ARGENTINA'\n 'PF DEFLACT' 'Rend RAICES INVERSION']<br>[0.38 0.02 0.12 0.17 0.31]",
          "['Rend LOMBARD ABIERTO PLUS' 'Rendimiento Deflact Dólar MEP'\n 'Rend ST RENTA PLUS' 'Rend SBS RENTA PESOS' 'Rend SUPERFONDO RENTA $']<br>[0.04 0.41 0.43 0.03 0.08]",
          "['Rend SUPERFONDO RENTA $' 'Rend ST RENTA PLUS' 'PF DEFLACT'\n 'Rendimiento Deflact Dólar MEP' 'Rend SBS RENTA PESOS']<br>[0.31 0.05 0.26 0.38 0.01]",
          "['Rend SBS RENTA PESOS' 'UVA DEFLACT' 'Rendimiento Deflact Dólar MEP'\n 'Rend LOMBARD ABIERTO PLUS' 'Rend RAICES INVERSION']<br>[0.22 0.07 0.15 0.23 0.33]",
          "['Rend MEGAINVER RF COB' 'Rend LOMBARD ABIERTO PLUS'\n 'Rendimiento Deflact Dólar MEP' 'UVA DEFLACT' 'Rend SBS RENTA PESOS']<br>[0.01 0.31 0.39 0.21 0.08]",
          "['Rend GOAL RENTA GLOBAL' 'Rendimiento Deflact Dólar MEP' 'UVA DEFLACT'\n 'Rend MEGAINVER RF COB' 'Rend RAICES INVERSION']<br>[0.11 0.56 0.21 0.11 0.  ]",
          "['Rend SBS RENTA PESOS' 'UVA DEFLACT' 'Rend MEGAINVER RF COB' 'PF DEFLACT'\n 'Rend ST RENTA PLUS']<br>[0.06 0.33 0.11 0.24 0.26]",
          "['Rendimiento Deflact Dólar MEP' 'UVA DEFLACT' 'Rend ST RENTA PLUS'\n 'Rend MEGAINVER RF COB' 'Rend SUPERFONDO RENTA $']<br>[0.29 0.22 0.06 0.26 0.17]",
          "['Rendimiento Deflact Dólar MEP' 'Rend ST RENTA PLUS'\n 'Rend MEGAINVER RF COB' 'Rend SBS RENTA PESOS' 'Rend SUPERFONDO RENTA $']<br>[0.46 0.25 0.14 0.12 0.04]",
          "['Rendimiento Deflact Dólar MEP' 'Rend SUPER BONO' 'PF DEFLACT'\n 'Rend LOMBARD ABIERTO PLUS' 'UVA DEFLACT']<br>[0.43 0.05 0.09 0.11 0.32]",
          "['Rend SBS RENTA PESOS' 'UVA DEFLACT' 'Rend MEGAINVER RF COB'\n 'Rend LOMBARD ABIERTO PLUS' 'Rendimiento Deflact Dólar MEP']<br>[0.26 0.01 0.05 0.31 0.36]",
          "['Rend GOAL RENTA GLOBAL' 'Rendimiento Deflact Dólar MEP' 'PF DEFLACT'\n 'Rend LOMBARD ABIERTO PLUS' 'Rend SBS RENTA PESOS']<br>[0.05 0.3  0.26 0.23 0.16]",
          "['Rend SUPERFONDO RENTA $' 'Rend SBS RENTA PESOS' 'UVA DEFLACT'\n 'Rendimiento Deflact Dólar MEP' 'Rend GOAL RENTA GLOBAL']<br>[0.06 0.29 0.35 0.3  0.  ]",
          "['Rendimiento Deflact Dólar MEP' 'Rend LOMBARD ABIERTO PLUS'\n 'Rend ST RENTA PLUS' 'Rend RAICES INVERSION' 'Rend MEGAINVER RF COB']<br>[0.07 0.34 0.33 0.15 0.11]",
          "['Rend LOMBARD ABIERTO PLUS' 'UVA DEFLACT' 'Rend MAF RENTA ARGENTINA'\n 'Rendimiento Deflact Dólar MEP' 'Rend SUPERFONDO RENTA $']<br>[0.12 0.35 0.11 0.3  0.13]",
          "['Rendimiento Deflact Dólar MEP' 'Rend SUPERFONDO RENTA $' 'UVA DEFLACT'\n 'Rend GOAL RENTA GLOBAL' 'Rend MEGAINVER RF COB']<br>[0.04 0.29 0.41 0.   0.26]",
          "['Rend ST RENTA PLUS' 'Rend MAF RENTA ARGENTINA' 'UVA DEFLACT'\n 'PF DEFLACT' 'Rendimiento Deflact Dólar MEP']<br>[0.2  0.1  0.23 0.24 0.23]",
          "['PF DEFLACT' 'Rend MEGAINVER RF COB' 'Rend ST RENTA PLUS'\n 'Rend LOMBARD ABIERTO PLUS' 'Rendimiento Deflact Dólar MEP']<br>[0.21 0.2  0.23 0.26 0.09]",
          "['PF DEFLACT' 'UVA DEFLACT' 'Rend ST RENTA PLUS'\n 'Rendimiento Deflact Dólar MEP' 'Rend RAICES INVERSION']<br>[0.12 0.2  0.15 0.25 0.29]",
          "['Rend SUPERFONDO RENTA $' 'Rend SBS RENTA PESOS' 'PF DEFLACT'\n 'Rendimiento Deflact Dólar MEP' 'UVA DEFLACT']<br>[0.11 0.31 0.01 0.31 0.26]",
          "['Rend MEGAINVER RF COB' 'UVA DEFLACT' 'Rend SUPERFONDO RENTA $'\n 'Rendimiento Deflact Dólar MEP' 'Rend LOMBARD ABIERTO PLUS']<br>[0.01 0.31 0.38 0.22 0.09]",
          "['UVA DEFLACT' 'Rend SUPERFONDO RENTA $' 'Rendimiento Deflact Dólar MEP'\n 'Rend ST RENTA PLUS' 'Rend LOMBARD ABIERTO PLUS']<br>[0.25 0.09 0.25 0.19 0.22]",
          "['UVA DEFLACT' 'Rendimiento Deflact Dólar MEP' 'Rend GOAL RENTA GLOBAL'\n 'Rend LOMBARD ABIERTO PLUS' 'PF DEFLACT']<br>[0.12 0.23 0.03 0.32 0.31]",
          "['Rend RAICES INVERSION' 'PF DEFLACT' 'Rend LOMBARD ABIERTO PLUS'\n 'Rend ST RENTA PLUS' 'Rendimiento Deflact Dólar MEP']<br>[0.1  0.3  0.14 0.29 0.17]",
          "['Rend SUPERFONDO RENTA $' 'Rend RAICES INVERSION' 'PF DEFLACT'\n 'Rend LOMBARD ABIERTO PLUS' 'UVA DEFLACT']<br>[0.08 0.   0.21 0.26 0.44]",
          "['UVA DEFLACT' 'Rend LOMBARD ABIERTO PLUS' 'Rend SUPERFONDO RENTA $'\n 'Rend MAF RENTA ARGENTINA' 'Rendimiento Deflact Dólar MEP']<br>[0.08 0.16 0.19 0.1  0.47]",
          "['Rendimiento Deflact Dólar MEP' 'UVA DEFLACT' 'PF DEFLACT'\n 'Rend LOMBARD ABIERTO PLUS' 'Rend MEGAINVER RF COB']<br>[0.24 0.28 0.23 0.15 0.1 ]",
          "['PF DEFLACT' 'Rendimiento Deflact Dólar MEP' 'UVA DEFLACT'\n 'Rend ST RENTA PLUS' 'Rend MAF RENTA ARGENTINA']<br>[0.1  0.24 0.29 0.27 0.1 ]",
          "['Rend ST RENTA PLUS' 'Rend LOMBARD ABIERTO PLUS' 'PF DEFLACT'\n 'UVA DEFLACT' 'Rend SBS RENTA PESOS']<br>[0.31 0.06 0.03 0.44 0.15]",
          "['UVA DEFLACT' 'Rend ST RENTA PLUS' 'Rend LOMBARD ABIERTO PLUS'\n 'Rend SUPERFONDO RENTA $' 'Rendimiento Deflact Dólar MEP']<br>[0.31 0.17 0.09 0.15 0.29]",
          "['Rend ST RENTA PLUS' 'PF DEFLACT' 'Rendimiento Deflact Dólar MEP'\n 'Rend SBS RENTA PESOS' 'UVA DEFLACT']<br>[0.07 0.24 0.34 0.17 0.19]",
          "['UVA DEFLACT' 'Rend MEGAINVER RF COB' 'Rend LOMBARD ABIERTO PLUS'\n 'PF DEFLACT' 'Rend SUPERFONDO RENTA $']<br>[0.26 0.26 0.13 0.18 0.17]",
          "['Rend ST RENTA PLUS' 'Rend LOMBARD ABIERTO PLUS' 'Rend MEGAINVER RF COB'\n 'UVA DEFLACT' 'Rendimiento Deflact Dólar MEP']<br>[0.04 0.18 0.21 0.32 0.25]",
          "['Rend LOMBARD ABIERTO PLUS' 'Rend GOAL RENTA GLOBAL'\n 'Rendimiento Deflact Dólar MEP' 'Rend ST RENTA PLUS' 'UVA DEFLACT']<br>[0.2  0.03 0.31 0.19 0.27]",
          "['PF DEFLACT' 'Rend RAICES INVERSION' 'Rend MEGAINVER RF COB'\n 'UVA DEFLACT' 'Rend LOMBARD ABIERTO PLUS']<br>[0.31 0.1  0.09 0.38 0.12]",
          "['UVA DEFLACT' 'Rendimiento Deflact Dólar MEP' 'Rend SBS RENTA PESOS'\n 'PF DEFLACT' 'Rend LOMBARD ABIERTO PLUS']<br>[0.36 0.35 0.2  0.01 0.08]",
          "['UVA DEFLACT' 'Rendimiento Deflact Dólar MEP' 'Rend ST RENTA PLUS'\n 'Rend SUPER BONO' 'Rend MEGAINVER RF COB']<br>[0.11 0.23 0.49 0.04 0.14]",
          "['Rend LOMBARD ABIERTO PLUS' 'Rendimiento Deflact Dólar MEP'\n 'Rend MAF RENTA ARGENTINA' 'UVA DEFLACT' 'Rend ST RENTA PLUS']<br>[0.3  0.3  0.01 0.12 0.27]",
          "['Rendimiento Deflact Dólar MEP' 'Rend SUPERFONDO RENTA $' 'UVA DEFLACT'\n 'PF DEFLACT' 'Rend LOMBARD ABIERTO PLUS']<br>[0.17 0.15 0.22 0.27 0.19]",
          "['PF DEFLACT' 'Rend ST RENTA PLUS' 'Rend SBS RENTA PESOS' 'UVA DEFLACT'\n 'Rendimiento Deflact Dólar MEP']<br>[0.15 0.12 0.2  0.42 0.1 ]",
          "['Rend GOAL RENTA GLOBAL' 'Rend SBS RENTA PESOS'\n 'Rend LOMBARD ABIERTO PLUS' 'Rendimiento Deflact Dólar MEP'\n 'Rend MEGAINVER RF COB']<br>[0.02 0.32 0.09 0.25 0.33]",
          "['Rendimiento Deflact Dólar MEP' 'UVA DEFLACT' 'Rend SBS RENTA PESOS'\n 'PF DEFLACT' 'Rend SUPER BONO']<br>[0.29 0.16 0.48 0.06 0.01]",
          "['PF DEFLACT' 'Rend ST RENTA PLUS' 'Rend RAICES INVERSION' 'UVA DEFLACT'\n 'Rendimiento Deflact Dólar MEP']<br>[0.22 0.26 0.11 0.2  0.21]",
          "['Rend SBS RENTA PESOS' 'Rend MEGAINVER RF COB' 'PF DEFLACT'\n 'Rend SUPERFONDO RENTA $' 'UVA DEFLACT']<br>[0.05 0.16 0.29 0.04 0.47]",
          "['UVA DEFLACT' 'Rend LOMBARD ABIERTO PLUS' 'Rendimiento Deflact Dólar MEP'\n 'PF DEFLACT' 'Rend RAICES INVERSION']<br>[0.2  0.14 0.18 0.39 0.09]",
          "['UVA DEFLACT' 'Rend MEGAINVER RF COB' 'Rend SUPERFONDO RENTA $'\n 'Rend SBS RENTA PESOS' 'Rend ST RENTA PLUS']<br>[0.53 0.17 0.17 0.   0.13]",
          "['Rend LOMBARD ABIERTO PLUS' 'Rend ST RENTA PLUS' 'PF DEFLACT'\n 'Rendimiento Deflact Dólar MEP' 'UVA DEFLACT']<br>[0.23 0.29 0.21 0.11 0.15]",
          "['PF DEFLACT' 'Rend RAICES INVERSION' 'UVA DEFLACT'\n 'Rend LOMBARD ABIERTO PLUS' 'Rend MEGAINVER RF COB']<br>[0.26 0.11 0.46 0.06 0.12]",
          "['Rend GOAL RENTA GLOBAL' 'Rend LOMBARD ABIERTO PLUS'\n 'Rendimiento Deflact Dólar MEP' 'UVA DEFLACT' 'Rend SBS RENTA PESOS']<br>[0.02 0.44 0.28 0.27 0.  ]",
          "['UVA DEFLACT' 'PF DEFLACT' 'Rend ST RENTA PLUS'\n 'Rend LOMBARD ABIERTO PLUS' 'Rend GOAL RENTA GLOBAL']<br>[0.28 0.35 0.14 0.21 0.02]",
          "['Rend SUPERFONDO RENTA $' 'Rend LOMBARD ABIERTO PLUS'\n 'Rend SBS RENTA PESOS' 'Rendimiento Deflact Dólar MEP'\n 'Rend MAF RENTA ARGENTINA']<br>[0.01 0.21 0.32 0.38 0.07]",
          "['Rend MEGAINVER RF COB' 'Rend ST RENTA PLUS' 'UVA DEFLACT'\n 'Rend GOAL RENTA GLOBAL' 'Rendimiento Deflact Dólar MEP']<br>[0.05 0.25 0.23 0.1  0.37]",
          "['Rend MAF RENTA ARGENTINA' 'PF DEFLACT' 'Rend LOMBARD ABIERTO PLUS'\n 'Rendimiento Deflact Dólar MEP' 'UVA DEFLACT']<br>[0.04 0.12 0.04 0.27 0.53]",
          "['Rend SBS RENTA PESOS' 'Rendimiento Deflact Dólar MEP'\n 'Rend ST RENTA PLUS' 'PF DEFLACT' 'Rend LOMBARD ABIERTO PLUS']<br>[0.12 0.37 0.29 0.21 0.  ]",
          "['PF DEFLACT' 'Rend GOAL RENTA GLOBAL' 'Rend SBS RENTA PESOS'\n 'Rendimiento Deflact Dólar MEP' 'Rend MEGAINVER RF COB']<br>[0.09 0.01 0.36 0.44 0.09]",
          "['Rendimiento Deflact Dólar MEP' 'PF DEFLACT' 'Rend LOMBARD ABIERTO PLUS'\n 'UVA DEFLACT' 'Rend MEGAINVER RF COB']<br>[0.07 0.25 0.25 0.31 0.12]",
          "['Rend MAF RENTA ARGENTINA' 'Rend ST RENTA PLUS' 'Rend SBS RENTA PESOS'\n 'Rendimiento Deflact Dólar MEP' 'Rend MEGAINVER RF COB']<br>[0.01 0.21 0.28 0.26 0.24]",
          "['Rendimiento Deflact Dólar MEP' 'UVA DEFLACT' 'Rend LOMBARD ABIERTO PLUS'\n 'Rend ST RENTA PLUS' 'PF DEFLACT']<br>[0.18 0.3  0.17 0.15 0.21]",
          "['Rendimiento Deflact Dólar MEP' 'Rend ST RENTA PLUS'\n 'Rend LOMBARD ABIERTO PLUS' 'Rend SBS RENTA PESOS' 'UVA DEFLACT']<br>[0.11 0.09 0.27 0.19 0.35]",
          "['Rendimiento Deflact Dólar MEP' 'Rend SUPERFONDO RENTA $'\n 'Rend MEGAINVER RF COB' 'Rend SBS RENTA PESOS' 'PF DEFLACT']<br>[0.31 0.06 0.27 0.28 0.08]",
          "['Rend SBS RENTA PESOS' 'Rend LOMBARD ABIERTO PLUS' 'Rend ST RENTA PLUS'\n 'PF DEFLACT' 'Rendimiento Deflact Dólar MEP']<br>[0.29 0.17 0.06 0.11 0.36]",
          "['Rend ST RENTA PLUS' 'Rend MEGAINVER RF COB' 'Rend LOMBARD ABIERTO PLUS'\n 'PF DEFLACT' 'UVA DEFLACT']<br>[0.21 0.19 0.2  0.06 0.34]",
          "['Rend LOMBARD ABIERTO PLUS' 'PF DEFLACT' 'Rend RAICES INVERSION'\n 'Rendimiento Deflact Dólar MEP' 'UVA DEFLACT']<br>[0.19 0.03 0.02 0.36 0.41]",
          "['Rend ST RENTA PLUS' 'Rendimiento Deflact Dólar MEP'\n 'Rend SBS RENTA PESOS' 'Rend MEGAINVER RF COB' 'UVA DEFLACT']<br>[0.18 0.36 0.09 0.2  0.17]",
          "['Rend MEGAINVER RF COB' 'Rend ST RENTA PLUS' 'Rend GOAL RENTA GLOBAL'\n 'Rendimiento Deflact Dólar MEP' 'UVA DEFLACT']<br>[0.19 0.18 0.01 0.23 0.39]",
          "['Rend LOMBARD ABIERTO PLUS' 'Rend SBS RENTA PESOS' 'UVA DEFLACT'\n 'Rend ST RENTA PLUS' 'Rendimiento Deflact Dólar MEP']<br>[0.07 0.2  0.1  0.32 0.31]",
          "['PF DEFLACT' 'UVA DEFLACT' 'Rend LOMBARD ABIERTO PLUS'\n 'Rendimiento Deflact Dólar MEP' 'Rend MAF RENTA ARGENTINA']<br>[0.27 0.3  0.18 0.15 0.09]",
          "['Rend SUPERFONDO RENTA $' 'Rend RAICES INVERSION' 'PF DEFLACT'\n 'UVA DEFLACT' 'Rendimiento Deflact Dólar MEP']<br>[0.11 0.   0.18 0.5  0.22]",
          "['Rend ST RENTA PLUS' 'Rendimiento Deflact Dólar MEP' 'PF DEFLACT'\n 'Rend RAICES INVERSION' 'UVA DEFLACT']<br>[0.24 0.2  0.08 0.03 0.44]",
          "['Rendimiento Deflact Dólar MEP' 'Rend ST RENTA PLUS'\n 'Rend RAICES INVERSION' 'Rend MAF RENTA ARGENTINA' 'UVA DEFLACT']<br>[0.28 0.25 0.04 0.04 0.4 ]",
          "['Rend MEGAINVER RF COB' 'UVA DEFLACT' 'Rend ST RENTA PLUS'\n 'Rend SBS RENTA PESOS' 'Rendimiento Deflact Dólar MEP']<br>[0.05 0.05 0.34 0.19 0.36]",
          "['Rendimiento Deflact Dólar MEP' 'UVA DEFLACT' 'PF DEFLACT'\n 'Rend RAICES INVERSION' 'Rend SBS RENTA PESOS']<br>[0.28 0.33 0.06 0.08 0.26]",
          "['UVA DEFLACT' 'Rend MEGAINVER RF COB' 'PF DEFLACT'\n 'Rend LOMBARD ABIERTO PLUS' 'Rend SUPER BONO']<br>[0.44 0.06 0.36 0.11 0.03]",
          "['Rend SUPERFONDO RENTA $' 'Rend LOMBARD ABIERTO PLUS'\n 'Rend MEGAINVER RF COB' 'UVA DEFLACT' 'Rendimiento Deflact Dólar MEP']<br>[0.15 0.33 0.01 0.34 0.18]",
          "['UVA DEFLACT' 'Rend SBS RENTA PESOS' 'Rend LOMBARD ABIERTO PLUS'\n 'Rendimiento Deflact Dólar MEP' 'Rend MEGAINVER RF COB']<br>[0.38 0.04 0.45 0.08 0.05]",
          "['UVA DEFLACT' 'Rendimiento Deflact Dólar MEP' 'Rend ST RENTA PLUS'\n 'Rend MAF RENTA ARGENTINA' 'Rend SUPERFONDO RENTA $']<br>[0.35 0.23 0.26 0.   0.15]",
          "['Rend SBS RENTA PESOS' 'Rend RAICES INVERSION' 'UVA DEFLACT'\n 'Rend LOMBARD ABIERTO PLUS' 'Rendimiento Deflact Dólar MEP']<br>[0.01 0.23 0.51 0.13 0.12]",
          "['Rend ST RENTA PLUS' 'Rend SBS RENTA PESOS' 'UVA DEFLACT'\n 'Rendimiento Deflact Dólar MEP' 'Rend GOAL RENTA GLOBAL']<br>[0.15 0.05 0.27 0.43 0.1 ]",
          "['Rend ST RENTA PLUS' 'Rend SUPERFONDO RENTA $' 'PF DEFLACT' 'UVA DEFLACT'\n 'Rendimiento Deflact Dólar MEP']<br>[0.18 0.08 0.31 0.33 0.1 ]",
          "['PF DEFLACT' 'Rendimiento Deflact Dólar MEP' 'UVA DEFLACT'\n 'Rend RAICES INVERSION' 'Rend LOMBARD ABIERTO PLUS']<br>[0.36 0.01 0.32 0.03 0.3 ]",
          "['Rend MAF RENTA ARGENTINA' 'Rend LOMBARD ABIERTO PLUS' 'Rend SUPER BONO'\n 'Rendimiento Deflact Dólar MEP' 'PF DEFLACT']<br>[0.01 0.04 0.16 0.76 0.02]",
          "['Rend ST RENTA PLUS' 'PF DEFLACT' 'Rend GOAL RENTA GLOBAL'\n 'Rend SBS RENTA PESOS' 'Rendimiento Deflact Dólar MEP']<br>[0.39 0.01 0.01 0.17 0.42]",
          "['UVA DEFLACT' 'Rend RAICES INVERSION' 'Rend LOMBARD ABIERTO PLUS'\n 'Rendimiento Deflact Dólar MEP' 'Rend SBS RENTA PESOS']<br>[0.31 0.06 0.33 0.24 0.07]",
          "['Rendimiento Deflact Dólar MEP' 'Rend MEGAINVER RF COB'\n 'Rend SBS RENTA PESOS' 'Rend ST RENTA PLUS' 'UVA DEFLACT']<br>[0.43 0.17 0.11 0.25 0.04]",
          "['PF DEFLACT' 'Rend MEGAINVER RF COB' 'UVA DEFLACT'\n 'Rendimiento Deflact Dólar MEP' 'Rend SBS RENTA PESOS']<br>[0.17 0.07 0.31 0.28 0.17]",
          "['Rendimiento Deflact Dólar MEP' 'Rend ST RENTA PLUS'\n 'Rend SBS RENTA PESOS' 'Rend LOMBARD ABIERTO PLUS' 'UVA DEFLACT']<br>[0.37 0.11 0.   0.21 0.31]",
          "['Rend ST RENTA PLUS' 'Rend SBS RENTA PESOS' 'PF DEFLACT'\n 'Rendimiento Deflact Dólar MEP' 'UVA DEFLACT']<br>[0.14 0.05 0.14 0.32 0.35]",
          "['UVA DEFLACT' 'Rend LOMBARD ABIERTO PLUS' 'Rendimiento Deflact Dólar MEP'\n 'Rend SBS RENTA PESOS' 'Rend ST RENTA PLUS']<br>[0.23 0.25 0.21 0.25 0.05]",
          "['UVA DEFLACT' 'Rendimiento Deflact Dólar MEP' 'PF DEFLACT'\n 'Rend GOAL RENTA GLOBAL' 'Rend ST RENTA PLUS']<br>[0.34 0.14 0.23 0.02 0.28]",
          "['Rend ST RENTA PLUS' 'Rendimiento Deflact Dólar MEP'\n 'Rend GOAL RENTA GLOBAL' 'PF DEFLACT' 'UVA DEFLACT']<br>[0.31 0.19 0.   0.09 0.41]",
          "['Rend RAICES INVERSION' 'Rend SBS RENTA PESOS' 'PF DEFLACT'\n 'Rend MEGAINVER RF COB' 'Rendimiento Deflact Dólar MEP']<br>[0.05 0.   0.11 0.24 0.6 ]",
          "['UVA DEFLACT' 'PF DEFLACT' 'Rend MEGAINVER RF COB' 'Rend SBS RENTA PESOS'\n 'Rendimiento Deflact Dólar MEP']<br>[0.16 0.02 0.22 0.27 0.33]",
          "['Rend ST RENTA PLUS' 'Rend LOMBARD ABIERTO PLUS'\n 'Rend SUPERFONDO RENTA $' 'Rend MEGAINVER RF COB'\n 'Rendimiento Deflact Dólar MEP']<br>[0.28 0.04 0.03 0.09 0.55]",
          "['UVA DEFLACT' 'Rend SUPERFONDO RENTA $' 'Rend RAICES INVERSION'\n 'Rendimiento Deflact Dólar MEP' 'Rend ST RENTA PLUS']<br>[0.27 0.06 0.06 0.29 0.31]",
          "['Rend LOMBARD ABIERTO PLUS' 'Rend ST RENTA PLUS' 'Rend SUPER BONO'\n 'Rendimiento Deflact Dólar MEP' 'Rend MEGAINVER RF COB']<br>[0.25 0.33 0.01 0.41 0.  ]",
          "['UVA DEFLACT' 'Rend ST RENTA PLUS' 'Rend SBS RENTA PESOS'\n 'Rendimiento Deflact Dólar MEP' 'Rend MEGAINVER RF COB']<br>[0.31 0.29 0.13 0.19 0.08]",
          "['Rend SUPERFONDO RENTA $' 'Rend ST RENTA PLUS'\n 'Rendimiento Deflact Dólar MEP' 'UVA DEFLACT' 'Rend SBS RENTA PESOS']<br>[0.14 0.09 0.34 0.25 0.18]",
          "['Rend LOMBARD ABIERTO PLUS' 'Rendimiento Deflact Dólar MEP' 'UVA DEFLACT'\n 'Rend SBS RENTA PESOS' 'Rend ST RENTA PLUS']<br>[0.3  0.3  0.18 0.   0.23]",
          "['Rend GOAL RENTA GLOBAL' 'Rend ST RENTA PLUS' 'UVA DEFLACT'\n 'Rendimiento Deflact Dólar MEP' 'Rend LOMBARD ABIERTO PLUS']<br>[0.   0.39 0.35 0.25 0.02]",
          "['Rend MAF RENTA ARGENTINA' 'Rend RAICES INVERSION' 'Rend ST RENTA PLUS'\n 'Rend GOAL RENTA GLOBAL' 'Rendimiento Deflact Dólar MEP']<br>[0.13 0.   0.08 0.1  0.69]",
          "['PF DEFLACT' 'Rendimiento Deflact Dólar MEP' 'Rend ST RENTA PLUS'\n 'Rend MEGAINVER RF COB' 'Rend SBS RENTA PESOS']<br>[0.   0.4  0.19 0.06 0.35]",
          "['Rendimiento Deflact Dólar MEP' 'Rend RAICES INVERSION'\n 'Rend SUPERFONDO RENTA $' 'UVA DEFLACT' 'PF DEFLACT']<br>[0.19 0.11 0.08 0.51 0.11]",
          "['Rend MEGAINVER RF COB' 'UVA DEFLACT' 'Rend MAF RENTA ARGENTINA'\n 'PF DEFLACT' 'Rend LOMBARD ABIERTO PLUS']<br>[0.01 0.49 0.11 0.34 0.05]",
          "['Rend SUPERFONDO RENTA $' 'Rendimiento Deflact Dólar MEP'\n 'Rend SBS RENTA PESOS' 'UVA DEFLACT' 'Rend MEGAINVER RF COB']<br>[0.05 0.35 0.24 0.15 0.2 ]",
          "['Rend MAF RENTA ARGENTINA' 'PF DEFLACT' 'Rend MEGAINVER RF COB'\n 'UVA DEFLACT' 'Rend ST RENTA PLUS']<br>[0.   0.11 0.05 0.55 0.29]",
          "['Rend MEGAINVER RF COB' 'Rend SUPERFONDO RENTA $' 'Rend ST RENTA PLUS'\n 'Rend LOMBARD ABIERTO PLUS' 'UVA DEFLACT']<br>[0.27 0.   0.04 0.13 0.56]",
          "['Rend LOMBARD ABIERTO PLUS' 'Rend MEGAINVER RF COB'\n 'Rend SBS RENTA PESOS' 'Rend ST RENTA PLUS'\n 'Rendimiento Deflact Dólar MEP']<br>[0.13 0.12 0.25 0.18 0.32]",
          "['Rend LOMBARD ABIERTO PLUS' 'Rend SUPERFONDO RENTA $'\n 'Rendimiento Deflact Dólar MEP' 'UVA DEFLACT' 'PF DEFLACT']<br>[0.17 0.08 0.17 0.25 0.33]",
          "['UVA DEFLACT' 'Rend ST RENTA PLUS' 'Rend SBS RENTA PESOS'\n 'Rend LOMBARD ABIERTO PLUS' 'Rendimiento Deflact Dólar MEP']<br>[0.43 0.16 0.05 0.11 0.26]",
          "['Rend ST RENTA PLUS' 'Rend LOMBARD ABIERTO PLUS' 'UVA DEFLACT'\n 'Rend MEGAINVER RF COB' 'Rendimiento Deflact Dólar MEP']<br>[0.29 0.02 0.11 0.   0.57]",
          "['Rend SBS RENTA PESOS' 'PF DEFLACT' 'Rend MEGAINVER RF COB' 'UVA DEFLACT'\n 'Rendimiento Deflact Dólar MEP']<br>[0.33 0.   0.01 0.22 0.43]",
          "['Rend SBS RENTA PESOS' 'Rendimiento Deflact Dólar MEP'\n 'Rend ST RENTA PLUS' 'Rend LOMBARD ABIERTO PLUS' 'PF DEFLACT']<br>[0.22 0.3  0.28 0.15 0.05]",
          "['Rend SBS RENTA PESOS' 'Rend MEGAINVER RF COB' 'UVA DEFLACT'\n 'Rendimiento Deflact Dólar MEP' 'Rend LOMBARD ABIERTO PLUS']<br>[0.11 0.13 0.53 0.09 0.15]",
          "['Rend ST RENTA PLUS' 'PF DEFLACT' 'UVA DEFLACT' 'Rend MEGAINVER RF COB'\n 'Rend LOMBARD ABIERTO PLUS']<br>[0.13 0.06 0.48 0.09 0.23]",
          "['Rendimiento Deflact Dólar MEP' 'Rend ST RENTA PLUS'\n 'Rend MEGAINVER RF COB' 'Rend RAICES INVERSION' 'Rend SBS RENTA PESOS']<br>[0.38 0.26 0.   0.03 0.34]",
          "['Rend SBS RENTA PESOS' 'Rend ST RENTA PLUS' 'PF DEFLACT' 'UVA DEFLACT'\n 'Rendimiento Deflact Dólar MEP']<br>[0.14 0.18 0.06 0.43 0.19]",
          "['Rend SBS RENTA PESOS' 'PF DEFLACT' 'Rend LOMBARD ABIERTO PLUS'\n 'UVA DEFLACT' 'Rendimiento Deflact Dólar MEP']<br>[0.01 0.43 0.32 0.15 0.09]",
          "['Rend SBS RENTA PESOS' 'UVA DEFLACT' 'PF DEFLACT' 'Rend MEGAINVER RF COB'\n 'Rendimiento Deflact Dólar MEP']<br>[0.2  0.4  0.18 0.04 0.18]",
          "['Rend LOMBARD ABIERTO PLUS' 'Rend SUPERFONDO RENTA $'\n 'Rendimiento Deflact Dólar MEP' 'PF DEFLACT' 'UVA DEFLACT']<br>[0.22 0.04 0.08 0.39 0.27]",
          "['Rend SUPERFONDO RENTA $' 'Rendimiento Deflact Dólar MEP'\n 'Rend ST RENTA PLUS' 'Rend MEGAINVER RF COB' 'Rend SBS RENTA PESOS']<br>[0.   0.34 0.31 0.22 0.13]",
          "['PF DEFLACT' 'UVA DEFLACT' 'Rend ST RENTA PLUS' 'Rend SBS RENTA PESOS'\n 'Rendimiento Deflact Dólar MEP']<br>[0.02 0.26 0.27 0.16 0.29]",
          "['Rendimiento Deflact Dólar MEP' 'Rend RAICES INVERSION' 'PF DEFLACT'\n 'Rend MEGAINVER RF COB' 'Rend ST RENTA PLUS']<br>[0.67 0.04 0.13 0.03 0.14]",
          "['Rend LOMBARD ABIERTO PLUS' 'Rend RAICES INVERSION' 'UVA DEFLACT'\n 'Rendimiento Deflact Dólar MEP' 'Rend MEGAINVER RF COB']<br>[0.19 0.09 0.65 0.   0.07]",
          "['PF DEFLACT' 'UVA DEFLACT' 'Rend SBS RENTA PESOS' 'Rend MEGAINVER RF COB'\n 'Rend RAICES INVERSION']<br>[0.29 0.49 0.01 0.02 0.19]"
         ],
         "type": "scatter",
         "x": [
          0.13259149938911108,
          0.15187625226189247,
          0.20926904886926628,
          0.12927930206485527,
          0.16360010016791804,
          0.09185806273316495,
          0.17262065460696008,
          0.08756177643552092,
          0.11235358555726317,
          0.1397407147518243,
          0.1040808167855091,
          0.11305945685559808,
          0.09292032702825803,
          0.13455269739658912,
          0.08834176985177801,
          0.08223975736895636,
          0.08581122992253197,
          0.13764656435850686,
          0.1210525351721,
          0.09967132689060601,
          0.12338851433235733,
          0.12203510664547591,
          0.08309642455862908,
          0.10151318874516975,
          0.121762524183605,
          0.16772051717653932,
          0.15969302067148167,
          0.051211311603336626,
          0.10428427164244287,
          0.12061652272616415,
          0.11011166744643552,
          0.05777463282162082,
          0.23984111442064895,
          0.15240785588508043,
          0.045162073513298914,
          0.20841981697817671,
          0.05020173480159224,
          0.19041964707768483,
          0.14978260002045893,
          0.0977292526327247,
          0.1459783010066162,
          0.2349537888016112,
          0.08092710558583542,
          0.1604556337674874,
          0.21500227483351697,
          0.16767874926866688,
          0.16115153523375036,
          0.12763096091672285,
          0.13898218772014226,
          0.10404565748763585,
          0.1280144425362402,
          0.09492258207885475,
          0.12081775658256784,
          0.10534279468818955,
          0.10061987832646746,
          0.1506492456920666,
          0.10855148124156486,
          0.11135216450671183,
          0.09112716762132185,
          0.1003656052415403,
          0.04083684473341123,
          0.1864629088056405,
          0.10913590281494626,
          0.1308015266897388,
          0.1050906940464988,
          0.12191299680971411,
          0.13838107700548613,
          0.07338656121111883,
          0.13392846176912515,
          0.12956281258491156,
          0.03537514935128864,
          0.13949223476899142,
          0.16820621060792823,
          0.13444313008310066,
          0.07307653904512874,
          0.09087504087418598,
          0.18547774988551002,
          0.16939819100070622,
          0.10285144432525041,
          0.051134736191545425,
          0.07027317362325013,
          0.08013726719327643,
          0.0867523172348119,
          0.03892409795546465,
          0.10462608741769999,
          0.04941302630758443,
          0.18027563604242267,
          0.17360961105564005,
          0.107299525862219,
          0.16787396992368167,
          0.20390820367075835,
          0.05878204630497241,
          0.19012917655960465,
          0.08043058855765257,
          0.08960387789935689,
          0.18636431660959357,
          0.16269026337301806,
          0.0761982270653545,
          0.12854237390827947,
          0.1843418561950319,
          0.13466808472557085,
          0.16498146460694157,
          0.07561115023564463,
          0.08138194182790977,
          0.09607633337547884,
          0.12760088241313303,
          0.18789165833133814,
          0.124560149841212,
          0.037916337869043956,
          0.07593250644123618,
          0.055324189216890335,
          0.11956146435786097,
          0.050957672336806176,
          0.18003106373047315,
          0.07073084793735922,
          0.03499063000077787,
          0.3163634691959698,
          0.20133336787829728,
          0.0930041677149352,
          0.20978926563804717,
          0.12665450939201342,
          0.1371470026123714,
          0.12609167750187392,
          0.11537499661864012,
          0.08871875668601117,
          0.10189847471772015,
          0.2597037019271666,
          0.17824549660449907,
          0.23126781612820166,
          0.13447439941645228,
          0.17557556095725696,
          0.1296124844820378,
          0.15100337625842392,
          0.12606146917958203,
          0.12795170408008955,
          0.2842395846816669,
          0.2045280299753211,
          0.0708863520662124,
          0.044717407225483306,
          0.18095591280492318,
          0.06970014128033758,
          0.07242574706590908,
          0.17670390911839348,
          0.0694899672895563,
          0.11035348053437354,
          0.22136011088549604,
          0.18050054458141646,
          0.1626090731193485,
          0.0732975483790354,
          0.0523459680045676,
          0.19662445404524578,
          0.10460017496626255,
          0.050352521425789235,
          0.0940193600083124,
          0.0436788539535769,
          0.19820665088885595,
          0.14564971547710306,
          0.24984631534677734,
          0.03761586186070917,
          0.030493403564634446
         ],
         "y": [
          -0.029017728009604456,
          0.026003921066713696,
          0.05741219475400528,
          0.030439720888190434,
          0.037844632888321114,
          -0.026469355473175554,
          0.0820876569326061,
          -0.04868806041927707,
          -0.016518464481633993,
          0.041363985695086286,
          -0.0055471374577677835,
          0.011018273250676414,
          -0.0213856439427988,
          0.038882914148125294,
          -0.020264182883752,
          -0.04372453543065406,
          -0.027690322021725666,
          0.04787361199030116,
          0.02610060998782289,
          0.0011335816837070834,
          0.040989234648415716,
          0.026885554906354022,
          -0.031618897814046164,
          0.004030261721910032,
          0.03523090466040795,
          0.07693803516871311,
          0.06375165962272164,
          -0.030691508214386792,
          0.010159445535156032,
          0.027957662856957652,
          0.03245129165376473,
          -0.009700287496422332,
          0.11105860696028354,
          0.0684509510011543,
          -0.05290784826364438,
          0.1124433594699592,
          -0.04787657417937439,
          0.1023460958953075,
          0.0521113783895421,
          -0.00602285112826819,
          0.0694256695549329,
          0.11388154846879087,
          0.007067413512448497,
          0.07095239284964738,
          0.12053769217403067,
          0.07203790927915663,
          0.07909018094485308,
          0.0419448785116335,
          0.07160345521327247,
          0.007889165207940335,
          0.04871328339449154,
          0.01158621942712005,
          0.04185890536123353,
          0.021266693888429215,
          0.01310304080718458,
          0.07450318596764627,
          0.023701960148675448,
          0.045459894388931096,
          0.011595610550248995,
          0.01414713977928967,
          -0.0315442525709954,
          0.08268093755238463,
          0.032275960367078575,
          0.05506973038784091,
          0.01742574973615347,
          0.05448612684711677,
          0.06467758329934248,
          -0.007891828953671274,
          0.055779272447471794,
          0.060193747226490645,
          -0.03320286552946868,
          0.07560730376412032,
          0.07977561580697642,
          0.06108331515152019,
          0.0029349622752768353,
          0.02593665138129833,
          0.08770406558718868,
          0.08162472798057999,
          0.028267778778868664,
          -0.010234013183999763,
          -0.007435992535773182,
          0.007732955354525652,
          0.01441089659554446,
          -0.026978508475475935,
          0.034790965355870423,
          -0.025899277147309666,
          0.08860224339931336,
          0.08547266831429376,
          0.041412063005132026,
          0.08394711045085891,
          0.11009788882848738,
          -0.0057389171247192484,
          0.09702738530023677,
          0.02048592171598209,
          0.0232307408687834,
          0.08998747376290099,
          0.07962780782864227,
          0.008569814944102432,
          0.055440570080605364,
          0.09905847115618578,
          0.06440390328768257,
          0.08747922507334224,
          0.00459238887860981,
          0.023611696634780514,
          0.040286968291125165,
          0.0620098874002618,
          0.10502196941726114,
          0.05574321617566061,
          -0.028099702389114984,
          0.013994491251180807,
          -0.0008677395351298646,
          0.05182887635258402,
          -0.014025308821757846,
          0.0925728148259585,
          0.005198058766148161,
          -0.03943436633841346,
          0.14363029996200793,
          0.1149954313593925,
          0.02899318606440902,
          0.11713166089253736,
          0.05824517234251713,
          0.06678623585121012,
          0.061560156420322074,
          0.04727306126717811,
          0.025609605192698958,
          0.044666554150976825,
          0.12284273032446,
          0.0938192838222752,
          0.12885841717053914,
          0.0627366893358162,
          0.08846391442805439,
          0.06373728177875179,
          0.07703225009791907,
          0.05741390013926956,
          0.0660181638957341,
          0.14195630312131047,
          0.11561390333763286,
          0.009857445532509841,
          -0.02418820996036083,
          0.09506419197014043,
          0.007358713653324718,
          0.00993195077927744,
          0.09146313165410574,
          0.0023617255114350665,
          0.05517581471599391,
          0.12773783135788103,
          0.10452439338335794,
          0.07941034501765579,
          0.02124882161742853,
          -0.004987840726242421,
          0.10639966004731095,
          0.04807526450269146,
          -0.022289489479811717,
          0.034936700229307185,
          -0.021564149895959964,
          0.10655024143847529,
          0.07818549163123145,
          0.12922082852921346,
          -0.019948839991639267,
          -0.04407652152919751
         ]
        }
       ],
       "layout": {
        "coloraxis": {
         "colorbar": {
          "title": {
           "text": "Sharpe Ratio"
          }
         }
        },
        "height": 500,
        "template": {
         "data": {
          "bar": [
           {
            "error_x": {
             "color": "#2a3f5f"
            },
            "error_y": {
             "color": "#2a3f5f"
            },
            "marker": {
             "line": {
              "color": "white",
              "width": 0.5
             },
             "pattern": {
              "fillmode": "overlay",
              "size": 10,
              "solidity": 0.2
             }
            },
            "type": "bar"
           }
          ],
          "barpolar": [
           {
            "marker": {
             "line": {
              "color": "white",
              "width": 0.5
             },
             "pattern": {
              "fillmode": "overlay",
              "size": 10,
              "solidity": 0.2
             }
            },
            "type": "barpolar"
           }
          ],
          "carpet": [
           {
            "aaxis": {
             "endlinecolor": "#2a3f5f",
             "gridcolor": "#C8D4E3",
             "linecolor": "#C8D4E3",
             "minorgridcolor": "#C8D4E3",
             "startlinecolor": "#2a3f5f"
            },
            "baxis": {
             "endlinecolor": "#2a3f5f",
             "gridcolor": "#C8D4E3",
             "linecolor": "#C8D4E3",
             "minorgridcolor": "#C8D4E3",
             "startlinecolor": "#2a3f5f"
            },
            "type": "carpet"
           }
          ],
          "choropleth": [
           {
            "colorbar": {
             "outlinewidth": 0,
             "ticks": ""
            },
            "type": "choropleth"
           }
          ],
          "contour": [
           {
            "colorbar": {
             "outlinewidth": 0,
             "ticks": ""
            },
            "colorscale": [
             [
              0,
              "#0d0887"
             ],
             [
              0.1111111111111111,
              "#46039f"
             ],
             [
              0.2222222222222222,
              "#7201a8"
             ],
             [
              0.3333333333333333,
              "#9c179e"
             ],
             [
              0.4444444444444444,
              "#bd3786"
             ],
             [
              0.5555555555555556,
              "#d8576b"
             ],
             [
              0.6666666666666666,
              "#ed7953"
             ],
             [
              0.7777777777777778,
              "#fb9f3a"
             ],
             [
              0.8888888888888888,
              "#fdca26"
             ],
             [
              1,
              "#f0f921"
             ]
            ],
            "type": "contour"
           }
          ],
          "contourcarpet": [
           {
            "colorbar": {
             "outlinewidth": 0,
             "ticks": ""
            },
            "type": "contourcarpet"
           }
          ],
          "heatmap": [
           {
            "colorbar": {
             "outlinewidth": 0,
             "ticks": ""
            },
            "colorscale": [
             [
              0,
              "#0d0887"
             ],
             [
              0.1111111111111111,
              "#46039f"
             ],
             [
              0.2222222222222222,
              "#7201a8"
             ],
             [
              0.3333333333333333,
              "#9c179e"
             ],
             [
              0.4444444444444444,
              "#bd3786"
             ],
             [
              0.5555555555555556,
              "#d8576b"
             ],
             [
              0.6666666666666666,
              "#ed7953"
             ],
             [
              0.7777777777777778,
              "#fb9f3a"
             ],
             [
              0.8888888888888888,
              "#fdca26"
             ],
             [
              1,
              "#f0f921"
             ]
            ],
            "type": "heatmap"
           }
          ],
          "heatmapgl": [
           {
            "colorbar": {
             "outlinewidth": 0,
             "ticks": ""
            },
            "colorscale": [
             [
              0,
              "#0d0887"
             ],
             [
              0.1111111111111111,
              "#46039f"
             ],
             [
              0.2222222222222222,
              "#7201a8"
             ],
             [
              0.3333333333333333,
              "#9c179e"
             ],
             [
              0.4444444444444444,
              "#bd3786"
             ],
             [
              0.5555555555555556,
              "#d8576b"
             ],
             [
              0.6666666666666666,
              "#ed7953"
             ],
             [
              0.7777777777777778,
              "#fb9f3a"
             ],
             [
              0.8888888888888888,
              "#fdca26"
             ],
             [
              1,
              "#f0f921"
             ]
            ],
            "type": "heatmapgl"
           }
          ],
          "histogram": [
           {
            "marker": {
             "pattern": {
              "fillmode": "overlay",
              "size": 10,
              "solidity": 0.2
             }
            },
            "type": "histogram"
           }
          ],
          "histogram2d": [
           {
            "colorbar": {
             "outlinewidth": 0,
             "ticks": ""
            },
            "colorscale": [
             [
              0,
              "#0d0887"
             ],
             [
              0.1111111111111111,
              "#46039f"
             ],
             [
              0.2222222222222222,
              "#7201a8"
             ],
             [
              0.3333333333333333,
              "#9c179e"
             ],
             [
              0.4444444444444444,
              "#bd3786"
             ],
             [
              0.5555555555555556,
              "#d8576b"
             ],
             [
              0.6666666666666666,
              "#ed7953"
             ],
             [
              0.7777777777777778,
              "#fb9f3a"
             ],
             [
              0.8888888888888888,
              "#fdca26"
             ],
             [
              1,
              "#f0f921"
             ]
            ],
            "type": "histogram2d"
           }
          ],
          "histogram2dcontour": [
           {
            "colorbar": {
             "outlinewidth": 0,
             "ticks": ""
            },
            "colorscale": [
             [
              0,
              "#0d0887"
             ],
             [
              0.1111111111111111,
              "#46039f"
             ],
             [
              0.2222222222222222,
              "#7201a8"
             ],
             [
              0.3333333333333333,
              "#9c179e"
             ],
             [
              0.4444444444444444,
              "#bd3786"
             ],
             [
              0.5555555555555556,
              "#d8576b"
             ],
             [
              0.6666666666666666,
              "#ed7953"
             ],
             [
              0.7777777777777778,
              "#fb9f3a"
             ],
             [
              0.8888888888888888,
              "#fdca26"
             ],
             [
              1,
              "#f0f921"
             ]
            ],
            "type": "histogram2dcontour"
           }
          ],
          "mesh3d": [
           {
            "colorbar": {
             "outlinewidth": 0,
             "ticks": ""
            },
            "type": "mesh3d"
           }
          ],
          "parcoords": [
           {
            "line": {
             "colorbar": {
              "outlinewidth": 0,
              "ticks": ""
             }
            },
            "type": "parcoords"
           }
          ],
          "pie": [
           {
            "automargin": true,
            "type": "pie"
           }
          ],
          "scatter": [
           {
            "fillpattern": {
             "fillmode": "overlay",
             "size": 10,
             "solidity": 0.2
            },
            "type": "scatter"
           }
          ],
          "scatter3d": [
           {
            "line": {
             "colorbar": {
              "outlinewidth": 0,
              "ticks": ""
             }
            },
            "marker": {
             "colorbar": {
              "outlinewidth": 0,
              "ticks": ""
             }
            },
            "type": "scatter3d"
           }
          ],
          "scattercarpet": [
           {
            "marker": {
             "colorbar": {
              "outlinewidth": 0,
              "ticks": ""
             }
            },
            "type": "scattercarpet"
           }
          ],
          "scattergeo": [
           {
            "marker": {
             "colorbar": {
              "outlinewidth": 0,
              "ticks": ""
             }
            },
            "type": "scattergeo"
           }
          ],
          "scattergl": [
           {
            "marker": {
             "colorbar": {
              "outlinewidth": 0,
              "ticks": ""
             }
            },
            "type": "scattergl"
           }
          ],
          "scattermapbox": [
           {
            "marker": {
             "colorbar": {
              "outlinewidth": 0,
              "ticks": ""
             }
            },
            "type": "scattermapbox"
           }
          ],
          "scatterpolar": [
           {
            "marker": {
             "colorbar": {
              "outlinewidth": 0,
              "ticks": ""
             }
            },
            "type": "scatterpolar"
           }
          ],
          "scatterpolargl": [
           {
            "marker": {
             "colorbar": {
              "outlinewidth": 0,
              "ticks": ""
             }
            },
            "type": "scatterpolargl"
           }
          ],
          "scatterternary": [
           {
            "marker": {
             "colorbar": {
              "outlinewidth": 0,
              "ticks": ""
             }
            },
            "type": "scatterternary"
           }
          ],
          "surface": [
           {
            "colorbar": {
             "outlinewidth": 0,
             "ticks": ""
            },
            "colorscale": [
             [
              0,
              "#0d0887"
             ],
             [
              0.1111111111111111,
              "#46039f"
             ],
             [
              0.2222222222222222,
              "#7201a8"
             ],
             [
              0.3333333333333333,
              "#9c179e"
             ],
             [
              0.4444444444444444,
              "#bd3786"
             ],
             [
              0.5555555555555556,
              "#d8576b"
             ],
             [
              0.6666666666666666,
              "#ed7953"
             ],
             [
              0.7777777777777778,
              "#fb9f3a"
             ],
             [
              0.8888888888888888,
              "#fdca26"
             ],
             [
              1,
              "#f0f921"
             ]
            ],
            "type": "surface"
           }
          ],
          "table": [
           {
            "cells": {
             "fill": {
              "color": "#EBF0F8"
             },
             "line": {
              "color": "white"
             }
            },
            "header": {
             "fill": {
              "color": "#C8D4E3"
             },
             "line": {
              "color": "white"
             }
            },
            "type": "table"
           }
          ]
         },
         "layout": {
          "annotationdefaults": {
           "arrowcolor": "#2a3f5f",
           "arrowhead": 0,
           "arrowwidth": 1
          },
          "autotypenumbers": "strict",
          "coloraxis": {
           "colorbar": {
            "outlinewidth": 0,
            "ticks": ""
           }
          },
          "colorscale": {
           "diverging": [
            [
             0,
             "#8e0152"
            ],
            [
             0.1,
             "#c51b7d"
            ],
            [
             0.2,
             "#de77ae"
            ],
            [
             0.3,
             "#f1b6da"
            ],
            [
             0.4,
             "#fde0ef"
            ],
            [
             0.5,
             "#f7f7f7"
            ],
            [
             0.6,
             "#e6f5d0"
            ],
            [
             0.7,
             "#b8e186"
            ],
            [
             0.8,
             "#7fbc41"
            ],
            [
             0.9,
             "#4d9221"
            ],
            [
             1,
             "#276419"
            ]
           ],
           "sequential": [
            [
             0,
             "#0d0887"
            ],
            [
             0.1111111111111111,
             "#46039f"
            ],
            [
             0.2222222222222222,
             "#7201a8"
            ],
            [
             0.3333333333333333,
             "#9c179e"
            ],
            [
             0.4444444444444444,
             "#bd3786"
            ],
            [
             0.5555555555555556,
             "#d8576b"
            ],
            [
             0.6666666666666666,
             "#ed7953"
            ],
            [
             0.7777777777777778,
             "#fb9f3a"
            ],
            [
             0.8888888888888888,
             "#fdca26"
            ],
            [
             1,
             "#f0f921"
            ]
           ],
           "sequentialminus": [
            [
             0,
             "#0d0887"
            ],
            [
             0.1111111111111111,
             "#46039f"
            ],
            [
             0.2222222222222222,
             "#7201a8"
            ],
            [
             0.3333333333333333,
             "#9c179e"
            ],
            [
             0.4444444444444444,
             "#bd3786"
            ],
            [
             0.5555555555555556,
             "#d8576b"
            ],
            [
             0.6666666666666666,
             "#ed7953"
            ],
            [
             0.7777777777777778,
             "#fb9f3a"
            ],
            [
             0.8888888888888888,
             "#fdca26"
            ],
            [
             1,
             "#f0f921"
            ]
           ]
          },
          "colorway": [
           "#636efa",
           "#EF553B",
           "#00cc96",
           "#ab63fa",
           "#FFA15A",
           "#19d3f3",
           "#FF6692",
           "#B6E880",
           "#FF97FF",
           "#FECB52"
          ],
          "font": {
           "color": "#2a3f5f"
          },
          "geo": {
           "bgcolor": "white",
           "lakecolor": "white",
           "landcolor": "white",
           "showlakes": true,
           "showland": true,
           "subunitcolor": "#C8D4E3"
          },
          "hoverlabel": {
           "align": "left"
          },
          "hovermode": "closest",
          "mapbox": {
           "style": "light"
          },
          "paper_bgcolor": "white",
          "plot_bgcolor": "white",
          "polar": {
           "angularaxis": {
            "gridcolor": "#EBF0F8",
            "linecolor": "#EBF0F8",
            "ticks": ""
           },
           "bgcolor": "white",
           "radialaxis": {
            "gridcolor": "#EBF0F8",
            "linecolor": "#EBF0F8",
            "ticks": ""
           }
          },
          "scene": {
           "xaxis": {
            "backgroundcolor": "white",
            "gridcolor": "#DFE8F3",
            "gridwidth": 2,
            "linecolor": "#EBF0F8",
            "showbackground": true,
            "ticks": "",
            "zerolinecolor": "#EBF0F8"
           },
           "yaxis": {
            "backgroundcolor": "white",
            "gridcolor": "#DFE8F3",
            "gridwidth": 2,
            "linecolor": "#EBF0F8",
            "showbackground": true,
            "ticks": "",
            "zerolinecolor": "#EBF0F8"
           },
           "zaxis": {
            "backgroundcolor": "white",
            "gridcolor": "#DFE8F3",
            "gridwidth": 2,
            "linecolor": "#EBF0F8",
            "showbackground": true,
            "ticks": "",
            "zerolinecolor": "#EBF0F8"
           }
          },
          "shapedefaults": {
           "line": {
            "color": "#2a3f5f"
           }
          },
          "ternary": {
           "aaxis": {
            "gridcolor": "#DFE8F3",
            "linecolor": "#A2B1C6",
            "ticks": ""
           },
           "baxis": {
            "gridcolor": "#DFE8F3",
            "linecolor": "#A2B1C6",
            "ticks": ""
           },
           "bgcolor": "white",
           "caxis": {
            "gridcolor": "#DFE8F3",
            "linecolor": "#A2B1C6",
            "ticks": ""
           }
          },
          "title": {
           "x": 0.05
          },
          "xaxis": {
           "automargin": true,
           "gridcolor": "#EBF0F8",
           "linecolor": "#EBF0F8",
           "ticks": "",
           "title": {
            "standoff": 15
           },
           "zerolinecolor": "#EBF0F8",
           "zerolinewidth": 2
          },
          "yaxis": {
           "automargin": true,
           "gridcolor": "#EBF0F8",
           "linecolor": "#EBF0F8",
           "ticks": "",
           "title": {
            "standoff": 15
           },
           "zerolinecolor": "#EBF0F8",
           "zerolinewidth": 2
          }
         }
        },
        "title": {
         "text": "Frontera de Eficiencia"
        },
        "width": 850,
        "xaxis": {
         "range": [
          0,
          0.26
         ],
         "title": {
          "text": "Volatilidad Anualizada"
         }
        },
        "yaxis": {
         "range": [
          -0.2,
          0.29
         ],
         "title": {
          "text": "Retorno Anualizado"
         }
        }
       }
      }
     },
     "metadata": {},
     "output_type": "display_data"
    }
   ],
   "source": [
    "# Efficiency Frontier for Mid-Term Funds\n",
    "rfr_m = -0.081\n",
    "mid, fig_c = EfficiencyFrontier(rets_m, True, 12, 5, 10000, rfr_m)"
   ]
  },
  {
   "cell_type": "code",
   "execution_count": 23,
   "metadata": {},
   "outputs": [
    {
     "data": {
      "text/html": [
       "<div>\n",
       "<style scoped>\n",
       "    .dataframe tbody tr th:only-of-type {\n",
       "        vertical-align: middle;\n",
       "    }\n",
       "\n",
       "    .dataframe tbody tr th {\n",
       "        vertical-align: top;\n",
       "    }\n",
       "\n",
       "    .dataframe thead th {\n",
       "        text-align: right;\n",
       "    }\n",
       "</style>\n",
       "<table border=\"1\" class=\"dataframe\">\n",
       "  <thead>\n",
       "    <tr style=\"text-align: right;\">\n",
       "      <th></th>\n",
       "      <th>comp_0</th>\n",
       "      <th>comp_1</th>\n",
       "      <th>comp_2</th>\n",
       "      <th>comp_3</th>\n",
       "      <th>comp_4</th>\n",
       "      <th>peso_0</th>\n",
       "      <th>peso_1</th>\n",
       "      <th>peso_2</th>\n",
       "      <th>peso_3</th>\n",
       "      <th>peso_4</th>\n",
       "      <th>Rentabilidad</th>\n",
       "      <th>Volatilidad</th>\n",
       "      <th>sharpe</th>\n",
       "    </tr>\n",
       "    <tr>\n",
       "      <th>instrument</th>\n",
       "      <th></th>\n",
       "      <th></th>\n",
       "      <th></th>\n",
       "      <th></th>\n",
       "      <th></th>\n",
       "      <th></th>\n",
       "      <th></th>\n",
       "      <th></th>\n",
       "      <th></th>\n",
       "      <th></th>\n",
       "      <th></th>\n",
       "      <th></th>\n",
       "      <th></th>\n",
       "    </tr>\n",
       "  </thead>\n",
       "  <tbody>\n",
       "    <tr>\n",
       "      <th>portfolio_112</th>\n",
       "      <td>UVA DEFLACT</td>\n",
       "      <td>Rendimiento Deflact Dólar MEP</td>\n",
       "      <td>Rend ST RENTA PLUS</td>\n",
       "      <td>Rend MAF RENTA ARGENTINA</td>\n",
       "      <td>Rend SUPERFONDO RENTA $</td>\n",
       "      <td>0.354961</td>\n",
       "      <td>0.233865</td>\n",
       "      <td>0.256538</td>\n",
       "      <td>0.002446</td>\n",
       "      <td>0.15219</td>\n",
       "      <td>0.051829</td>\n",
       "      <td>0.119561</td>\n",
       "      <td>1.110967</td>\n",
       "    </tr>\n",
       "  </tbody>\n",
       "</table>\n",
       "</div>"
      ],
      "text/plain": [
       "                    comp_0                         comp_1              comp_2  \\\n",
       "instrument                                                                      \n",
       "portfolio_112  UVA DEFLACT  Rendimiento Deflact Dólar MEP  Rend ST RENTA PLUS   \n",
       "\n",
       "                                 comp_3                   comp_4    peso_0  \\\n",
       "instrument                                                                   \n",
       "portfolio_112  Rend MAF RENTA ARGENTINA  Rend SUPERFONDO RENTA $  0.354961   \n",
       "\n",
       "                 peso_1    peso_2    peso_3   peso_4  Rentabilidad  \\\n",
       "instrument                                                           \n",
       "portfolio_112  0.233865  0.256538  0.002446  0.15219      0.051829   \n",
       "\n",
       "               Volatilidad    sharpe  \n",
       "instrument                            \n",
       "portfolio_112     0.119561  1.110967  "
      ]
     },
     "metadata": {},
     "output_type": "display_data"
    },
    {
     "data": {
      "text/html": [
       "<div>\n",
       "<style scoped>\n",
       "    .dataframe tbody tr th:only-of-type {\n",
       "        vertical-align: middle;\n",
       "    }\n",
       "\n",
       "    .dataframe tbody tr th {\n",
       "        vertical-align: top;\n",
       "    }\n",
       "\n",
       "    .dataframe thead th {\n",
       "        text-align: right;\n",
       "    }\n",
       "</style>\n",
       "<table border=\"1\" class=\"dataframe\">\n",
       "  <thead>\n",
       "    <tr style=\"text-align: right;\">\n",
       "      <th></th>\n",
       "      <th>comp_0</th>\n",
       "      <th>comp_1</th>\n",
       "      <th>comp_2</th>\n",
       "      <th>comp_3</th>\n",
       "      <th>comp_4</th>\n",
       "      <th>peso_0</th>\n",
       "      <th>peso_1</th>\n",
       "      <th>peso_2</th>\n",
       "      <th>peso_3</th>\n",
       "      <th>peso_4</th>\n",
       "      <th>Rentabilidad</th>\n",
       "      <th>Volatilidad</th>\n",
       "      <th>sharpe</th>\n",
       "    </tr>\n",
       "    <tr>\n",
       "      <th>instrument</th>\n",
       "      <th></th>\n",
       "      <th></th>\n",
       "      <th></th>\n",
       "      <th></th>\n",
       "      <th></th>\n",
       "      <th></th>\n",
       "      <th></th>\n",
       "      <th></th>\n",
       "      <th></th>\n",
       "      <th></th>\n",
       "      <th></th>\n",
       "      <th></th>\n",
       "      <th></th>\n",
       "    </tr>\n",
       "  </thead>\n",
       "  <tbody>\n",
       "    <tr>\n",
       "      <th>portfolio_42</th>\n",
       "      <td>Rend GOAL RENTA GLOBAL</td>\n",
       "      <td>Rendimiento Deflact Dólar MEP</td>\n",
       "      <td>UVA DEFLACT</td>\n",
       "      <td>Rend MEGAINVER RF COB</td>\n",
       "      <td>Rend RAICES INVERSION</td>\n",
       "      <td>0.110936</td>\n",
       "      <td>0.55918</td>\n",
       "      <td>0.211884</td>\n",
       "      <td>0.114112</td>\n",
       "      <td>0.003888</td>\n",
       "      <td>0.113882</td>\n",
       "      <td>0.234954</td>\n",
       "      <td>0.829446</td>\n",
       "    </tr>\n",
       "  </tbody>\n",
       "</table>\n",
       "</div>"
      ],
      "text/plain": [
       "                              comp_0                         comp_1  \\\n",
       "instrument                                                            \n",
       "portfolio_42  Rend GOAL RENTA GLOBAL  Rendimiento Deflact Dólar MEP   \n",
       "\n",
       "                   comp_2                 comp_3                 comp_4  \\\n",
       "instrument                                                                \n",
       "portfolio_42  UVA DEFLACT  Rend MEGAINVER RF COB  Rend RAICES INVERSION   \n",
       "\n",
       "                peso_0   peso_1    peso_2    peso_3    peso_4  Rentabilidad  \\\n",
       "instrument                                                                    \n",
       "portfolio_42  0.110936  0.55918  0.211884  0.114112  0.003888      0.113882   \n",
       "\n",
       "              Volatilidad    sharpe  \n",
       "instrument                           \n",
       "portfolio_42     0.234954  0.829446  "
      ]
     },
     "metadata": {},
     "output_type": "display_data"
    },
    {
     "data": {
      "text/html": [
       "<div>\n",
       "<style scoped>\n",
       "    .dataframe tbody tr th:only-of-type {\n",
       "        vertical-align: middle;\n",
       "    }\n",
       "\n",
       "    .dataframe tbody tr th {\n",
       "        vertical-align: top;\n",
       "    }\n",
       "\n",
       "    .dataframe thead th {\n",
       "        text-align: right;\n",
       "    }\n",
       "</style>\n",
       "<table border=\"1\" class=\"dataframe\">\n",
       "  <thead>\n",
       "    <tr style=\"text-align: right;\">\n",
       "      <th></th>\n",
       "      <th>comp_0</th>\n",
       "      <th>comp_1</th>\n",
       "      <th>comp_2</th>\n",
       "      <th>comp_3</th>\n",
       "      <th>comp_4</th>\n",
       "      <th>peso_0</th>\n",
       "      <th>peso_1</th>\n",
       "      <th>peso_2</th>\n",
       "      <th>peso_3</th>\n",
       "      <th>peso_4</th>\n",
       "      <th>Rentabilidad</th>\n",
       "      <th>Volatilidad</th>\n",
       "      <th>sharpe</th>\n",
       "    </tr>\n",
       "    <tr>\n",
       "      <th>instrument</th>\n",
       "      <th></th>\n",
       "      <th></th>\n",
       "      <th></th>\n",
       "      <th></th>\n",
       "      <th></th>\n",
       "      <th></th>\n",
       "      <th></th>\n",
       "      <th></th>\n",
       "      <th></th>\n",
       "      <th></th>\n",
       "      <th></th>\n",
       "      <th></th>\n",
       "      <th></th>\n",
       "    </tr>\n",
       "  </thead>\n",
       "  <tbody>\n",
       "    <tr>\n",
       "      <th>portfolio_136</th>\n",
       "      <td>Rend MAF RENTA ARGENTINA</td>\n",
       "      <td>Rend RAICES INVERSION</td>\n",
       "      <td>Rend ST RENTA PLUS</td>\n",
       "      <td>Rend GOAL RENTA GLOBAL</td>\n",
       "      <td>Rendimiento Deflact Dólar MEP</td>\n",
       "      <td>0.126944</td>\n",
       "      <td>0.003761</td>\n",
       "      <td>0.080106</td>\n",
       "      <td>0.098218</td>\n",
       "      <td>0.690971</td>\n",
       "      <td>0.141956</td>\n",
       "      <td>0.28424</td>\n",
       "      <td>0.784396</td>\n",
       "    </tr>\n",
       "  </tbody>\n",
       "</table>\n",
       "</div>"
      ],
      "text/plain": [
       "                                 comp_0                 comp_1  \\\n",
       "instrument                                                       \n",
       "portfolio_136  Rend MAF RENTA ARGENTINA  Rend RAICES INVERSION   \n",
       "\n",
       "                           comp_2                  comp_3  \\\n",
       "instrument                                                  \n",
       "portfolio_136  Rend ST RENTA PLUS  Rend GOAL RENTA GLOBAL   \n",
       "\n",
       "                                      comp_4    peso_0    peso_1    peso_2  \\\n",
       "instrument                                                                   \n",
       "portfolio_136  Rendimiento Deflact Dólar MEP  0.126944  0.003761  0.080106   \n",
       "\n",
       "                 peso_3    peso_4  Rentabilidad  Volatilidad    sharpe  \n",
       "instrument                                                              \n",
       "portfolio_136  0.098218  0.690971      0.141956      0.28424  0.784396  "
      ]
     },
     "metadata": {},
     "output_type": "display_data"
    }
   ],
   "source": [
    "# Min Volatility Portfolio Mid-Term Funds\n",
    "\n",
    "rango_m = (0.1177,0.2366, 0.3049)\n",
    "mid_clean = mid[mid['sharpe']>0.75]\n",
    "for i in rango_m:\n",
    "    display(mid_clean[mid_clean['Volatilidad']==closest(mid_clean['Volatilidad'], i)])"
   ]
  },
  {
   "cell_type": "code",
   "execution_count": 12,
   "metadata": {},
   "outputs": [
    {
     "name": "stderr",
     "output_type": "stream",
     "text": [
      "100%|██████████| 10000/10000 [00:01<00:00, 7160.25it/s]\n"
     ]
    },
    {
     "data": {
      "text/html": [
       "<table border=\"1\" class=\"dataframe\">\n",
       "  <thead>\n",
       "    <tr style=\"text-align: right;\">\n",
       "      <th></th>\n",
       "      <th>comp_0</th>\n",
       "      <th>comp_1</th>\n",
       "      <th>comp_2</th>\n",
       "      <th>comp_3</th>\n",
       "      <th>comp_4</th>\n",
       "      <th>peso_0</th>\n",
       "      <th>peso_1</th>\n",
       "      <th>peso_2</th>\n",
       "      <th>peso_3</th>\n",
       "      <th>peso_4</th>\n",
       "      <th>Rentabilidad</th>\n",
       "      <th>Volatilidad</th>\n",
       "      <th>sharpe</th>\n",
       "    </tr>\n",
       "    <tr>\n",
       "      <th>instrument</th>\n",
       "      <th></th>\n",
       "      <th></th>\n",
       "      <th></th>\n",
       "      <th></th>\n",
       "      <th></th>\n",
       "      <th></th>\n",
       "      <th></th>\n",
       "      <th></th>\n",
       "      <th></th>\n",
       "      <th></th>\n",
       "      <th></th>\n",
       "      <th></th>\n",
       "      <th></th>\n",
       "    </tr>\n",
       "  </thead>\n",
       "  <tbody>\n",
       "    <tr>\n",
       "      <th>portfolio_1</th>\n",
       "      <td>REND S&amp;P GENERAL BYMA DEFLACT</td>\n",
       "      <td>Rend Schroder Infraestructura</td>\n",
       "      <td>Rendimiento Deflact Dólar MEP</td>\n",
       "      <td>PF DEFLACT</td>\n",
       "      <td>REND S&amp;P MERV DEFLACT</td>\n",
       "      <td>0.352505</td>\n",
       "      <td>0.257625</td>\n",
       "      <td>0.154225</td>\n",
       "      <td>0.210523</td>\n",
       "      <td>0.025122</td>\n",
       "      <td>0.055393</td>\n",
       "      <td>0.237970</td>\n",
       "      <td>0.573153</td>\n",
       "    </tr>\n",
       "    <tr>\n",
       "      <th>portfolio_2</th>\n",
       "      <td>Rend Schroder Infraestructura</td>\n",
       "      <td>Rend Superfondo Renta Fija</td>\n",
       "      <td>Rendimiento Deflact Dólar MEP</td>\n",
       "      <td>REND S&amp;P MERV DEFLACT</td>\n",
       "      <td>REND S&amp;P GENERAL BYMA DEFLACT</td>\n",
       "      <td>0.053455</td>\n",
       "      <td>0.303267</td>\n",
       "      <td>0.305645</td>\n",
       "      <td>0.020338</td>\n",
       "      <td>0.317296</td>\n",
       "      <td>0.067180</td>\n",
       "      <td>0.276233</td>\n",
       "      <td>0.536433</td>\n",
       "    </tr>\n",
       "    <tr>\n",
       "      <th>portfolio_3</th>\n",
       "      <td>UVA DEFLACT</td>\n",
       "      <td>REND S&amp;P GENERAL BYMA DEFLACT</td>\n",
       "      <td>Rend Schroder Infraestructura</td>\n",
       "      <td>Rend Optimum Global Inv</td>\n",
       "      <td>REND S&amp;P MERV DEFLACT</td>\n",
       "      <td>0.178575</td>\n",
       "      <td>0.117691</td>\n",
       "      <td>0.387300</td>\n",
       "      <td>0.203828</td>\n",
       "      <td>0.112605</td>\n",
       "      <td>0.093373</td>\n",
       "      <td>0.217532</td>\n",
       "      <td>0.801598</td>\n",
       "    </tr>\n",
       "    <tr>\n",
       "      <th>portfolio_4</th>\n",
       "      <td>Rend Alpha Renta Cobertura</td>\n",
       "      <td>Rend Superfondo Renta Fija</td>\n",
       "      <td>Rendimiento Deflact Dólar MEP</td>\n",
       "      <td>Rend Optimum Global Inv</td>\n",
       "      <td>Rend Schroder Infraestructura</td>\n",
       "      <td>0.225382</td>\n",
       "      <td>0.180853</td>\n",
       "      <td>0.133457</td>\n",
       "      <td>0.244894</td>\n",
       "      <td>0.215414</td>\n",
       "      <td>0.112819</td>\n",
       "      <td>0.255041</td>\n",
       "      <td>0.759953</td>\n",
       "    </tr>\n",
       "    <tr>\n",
       "      <th>portfolio_5</th>\n",
       "      <td>REND S&amp;P GENERAL BYMA DEFLACT</td>\n",
       "      <td>Rend Optimum Global Inv</td>\n",
       "      <td>Rend Fima Acciones</td>\n",
       "      <td>PF DEFLACT</td>\n",
       "      <td>Rend Pionero Acciones</td>\n",
       "      <td>0.041482</td>\n",
       "      <td>0.604823</td>\n",
       "      <td>0.048493</td>\n",
       "      <td>0.182416</td>\n",
       "      <td>0.122786</td>\n",
       "      <td>0.120892</td>\n",
       "      <td>0.230525</td>\n",
       "      <td>0.875792</td>\n",
       "    </tr>\n",
       "  </tbody>\n",
       "</table>"
      ],
      "text/plain": [
       "<IPython.core.display.HTML object>"
      ]
     },
     "metadata": {},
     "output_type": "display_data"
    },
    {
     "data": {
      "application/vnd.plotly.v1+json": {
       "config": {
        "plotlyServerURL": "https://plot.ly"
       },
       "data": [
        {
         "marker": {
          "color": [
           0.5731534073550614,
           0.5364330966986433,
           0.8015983992221346,
           0.7599531464832098,
           0.8757917369403363,
           0.7517060027868356,
           0.7855485534211615,
           0.8019494700243335,
           0.7476573335348196,
           0.880600001466808,
           0.8965190692500876,
           0.7628978844974637,
           0.9187256260235666,
           0.5912092003701717,
           1.0933609774560094,
           0.8188878749134315,
           0.7958159940587775,
           0.8384830985694185,
           0.9194783739216734,
           0.8586641789775132,
           0.9214559409766426,
           0.8733802804927681,
           0.801224272809738,
           0.9098744249124374,
           1.0619588770182014,
           0.736389160852888,
           0.9116378517724215,
           1.065861062273996,
           0.8169154361125706,
           0.9339701847737787,
           0.8790583706613384,
           0.6526335716986941,
           0.8681098753935861,
           0.8527848194098941,
           1.1217510594697413,
           0.9106277672523724,
           0.909028534925279,
           1.0079544984721764,
           0.8324712311466774,
           0.8927450905188563,
           1.0171604738965239,
           0.9827579100325329,
           0.9250761114831605,
           0.8896200428002663,
           1.0679860402356003,
           0.985388360089699,
           0.9647776479813793,
           0.9064829262952537,
           0.9400108499649955,
           0.8576126951226081,
           0.9784251329303063,
           1.0185254971313757,
           0.881501830124127,
           0.8794264674820288,
           1.0087627102343517,
           0.9539277734521662,
           0.8693432796510068,
           0.99381338502367,
           1.0567810961349204,
           0.9016728239446157,
           0.9718397329365942,
           1.1454178576065037,
           1.1441395480196834,
           0.9783679472767648,
           0.9724417832313544,
           1.12348178817393,
           0.904002786103147,
           0.9138572002631684,
           0.9100774557046961,
           0.8843835019713261,
           0.8849880417256224,
           0.9074849490475946,
           1.0413500229483894,
           0.925058217376515,
           0.988652617244125,
           0.9541493888515747,
           0.9106797386797625,
           0.9027159583597827,
           1.0704880596779425,
           1.2591083888119021,
           0.9351124930211567,
           1.00115618066818,
           0.9264458156146288,
           1.0432322923090014,
           0.9584659201954564,
           0.8936282739462288,
           0.9361525310097455,
           1.0221511372544265,
           1.0337798908000402,
           1.1348656030479012,
           0.9702914964874555,
           1.0693707287808938,
           1.028233834914573,
           0.9628024933439768,
           1.0477887446047254,
           1.085028125794059,
           1.1879830287952884,
           0.9575243033591965
          ],
          "colorbar": {
           "title": {
            "text": "Sharpe<br>Ratio"
           }
          },
          "colorscale": [
           [
            0,
            "rgb(103,0,31)"
           ],
           [
            0.1,
            "rgb(178,24,43)"
           ],
           [
            0.2,
            "rgb(214,96,77)"
           ],
           [
            0.3,
            "rgb(244,165,130)"
           ],
           [
            0.4,
            "rgb(253,219,199)"
           ],
           [
            0.5,
            "rgb(247,247,247)"
           ],
           [
            0.6,
            "rgb(209,229,240)"
           ],
           [
            0.7,
            "rgb(146,197,222)"
           ],
           [
            0.8,
            "rgb(67,147,195)"
           ],
           [
            0.9,
            "rgb(33,102,172)"
           ],
           [
            1,
            "rgb(5,48,97)"
           ]
          ],
          "line": {
           "width": 1
          },
          "showscale": true,
          "size": 7
         },
         "mode": "markers",
         "text": [
          "['REND S&P GENERAL BYMA DEFLACT' 'Rend Schroder Infraestructura'\n 'Rendimiento Deflact Dólar MEP' 'PF DEFLACT' 'REND S&P MERV DEFLACT']<br>[0.35 0.26 0.15 0.21 0.03]",
          "['Rend Schroder Infraestructura' 'Rend Superfondo Renta Fija'\n 'Rendimiento Deflact Dólar MEP' 'REND S&P MERV DEFLACT'\n 'REND S&P GENERAL BYMA DEFLACT']<br>[0.05 0.3  0.31 0.02 0.32]",
          "['UVA DEFLACT' 'REND S&P GENERAL BYMA DEFLACT'\n 'Rend Schroder Infraestructura' 'Rend Optimum Global Inv'\n 'REND S&P MERV DEFLACT']<br>[0.18 0.12 0.39 0.2  0.11]",
          "['Rend Alpha Renta Cobertura' 'Rend Superfondo Renta Fija'\n 'Rendimiento Deflact Dólar MEP' 'Rend Optimum Global Inv'\n 'Rend Schroder Infraestructura']<br>[0.23 0.18 0.13 0.24 0.22]",
          "['REND S&P GENERAL BYMA DEFLACT' 'Rend Optimum Global Inv'\n 'Rend Fima Acciones' 'PF DEFLACT' 'Rend Pionero Acciones']<br>[0.04 0.6  0.05 0.18 0.12]",
          "['Rend Superfondo Renta Fija' 'Rend Superfondo RV' 'PF DEFLACT'\n 'Rendimiento Deflact Dólar MEP' 'Rend Alpha Renta Cobertura']<br>[0.09 0.03 0.42 0.3  0.16]",
          "['REND S&P MERV DEFLACT' 'Rendimiento Deflact Dólar MEP'\n 'Rend Alpha Renta Cobertura' 'PF DEFLACT' 'Rend Schroder Infraestructura']<br>[0.23 0.38 0.16 0.11 0.12]",
          "['PF DEFLACT' 'Rend Pionero Acciones' 'Rend Optimum Global Inv'\n 'UVA DEFLACT' 'REND S&P MERV DEFLACT']<br>[0.31 0.08 0.32 0.12 0.17]",
          "['Rend Schroder Infraestructura' 'UVA DEFLACT' 'Rend Consultatio Acciones'\n 'Rend Galileo Acciones' 'Rendimiento Deflact Dólar MEP']<br>[0.08 0.23 0.18 0.16 0.36]",
          "['Rend Optimum Global Inv' 'Rend Superfondo RV'\n 'Rend Alpha Renta Cobertura' 'UVA DEFLACT'\n 'Rend Schroder Infraestructura']<br>[0.13 0.01 0.35 0.35 0.17]",
          "['Rendimiento Deflact Dólar MEP' 'Rend Consultatio Acciones'\n 'Rend Alpha Renta Cobertura' 'Rend Optimum Global Inv' 'PF DEFLACT']<br>[0.28 0.04 0.09 0.59 0.01]",
          "['Rend Optimum Global Inv' 'UVA DEFLACT' 'Rend Pionero Acciones'\n 'Rend Superfondo Renta Fija' 'Rend Schroder Infraestructura']<br>[0.34 0.29 0.28 0.06 0.03]",
          "['UVA DEFLACT' 'REND S&P GENERAL BYMA DEFLACT'\n 'Rend Alpha Renta Cobertura' 'Rend Superfondo RV'\n 'Rendimiento Deflact Dólar MEP']<br>[0.38 0.2  0.05 0.01 0.37]",
          "['Rend Pionero Acciones' 'PF DEFLACT' 'REND S&P GENERAL BYMA DEFLACT'\n 'UVA DEFLACT' 'Rend Schroder Infraestructura']<br>[0.06 0.41 0.14 0.06 0.33]",
          "['Rend Schroder Infraestructura' 'UVA DEFLACT'\n 'Rendimiento Deflact Dólar MEP' 'PF DEFLACT' 'Rend Alpha Renta Cobertura']<br>[0.15 0.29 0.22 0.31 0.03]",
          "['Rend Pionero Acciones' 'Rendimiento Deflact Dólar MEP'\n 'Rend Fima Acciones' 'UVA DEFLACT' 'Rend Superfondo RV']<br>[0.05 0.56 0.16 0.2  0.03]",
          "['Rendimiento Deflact Dólar MEP' 'Rend Optimum Global Inv' 'PF DEFLACT'\n 'Rend Alpha Renta Cobertura' 'REND S&P GENERAL BYMA DEFLACT']<br>[0.03 0.53 0.08 0.02 0.34]",
          "['UVA DEFLACT' 'Rendimiento Deflact Dólar MEP' 'Rend Consultatio Acciones'\n 'PF DEFLACT' 'Rend Alpha Renta Cobertura']<br>[0.16 0.32 0.12 0.23 0.17]",
          "['UVA DEFLACT' 'Rend Fima Acciones' 'REND S&P MERV DEFLACT'\n 'Rendimiento Deflact Dólar MEP' 'PF DEFLACT']<br>[0.39 0.08 0.12 0.38 0.03]",
          "['Rend Optimum Global Inv' 'Rendimiento Deflact Dólar MEP'\n 'Rend Consultatio Acciones' 'REND S&P MERV DEFLACT'\n 'Rend Pionero Acciones']<br>[0.4  0.31 0.05 0.17 0.07]",
          "['Rendimiento Deflact Dólar MEP' 'Rend Alpha Renta Cobertura'\n 'Rend Optimum Global Inv' 'UVA DEFLACT' 'PF DEFLACT']<br>[0.27 0.1  0.2  0.12 0.31]",
          "['REND S&P MERV DEFLACT' 'Rend Schroder Infraestructura'\n 'Rend Galileo Acciones' 'Rend Optimum Global Inv'\n 'Rendimiento Deflact Dólar MEP']<br>[0.09 0.18 0.12 0.09 0.52]",
          "['Rend Optimum Global Inv' 'Rendimiento Deflact Dólar MEP'\n 'Rend Schroder Infraestructura' 'Rend Superfondo Renta Fija'\n 'REND S&P GENERAL BYMA DEFLACT']<br>[0.2  0.27 0.2  0.03 0.3 ]",
          "['UVA DEFLACT' 'Rend Consultatio Acciones' 'Rend Optimum Global Inv'\n 'Rendimiento Deflact Dólar MEP' 'Rend Schroder Infraestructura']<br>[0.16 0.15 0.11 0.27 0.32]",
          "['UVA DEFLACT' 'Rend Fima Acciones' 'Rend Optimum Global Inv' 'PF DEFLACT'\n 'Rendimiento Deflact Dólar MEP']<br>[0.4  0.05 0.28 0.04 0.23]",
          "['Rend Optimum Global Inv' 'Rend Superfondo Renta Fija'\n 'Rend Pionero Acciones' 'UVA DEFLACT' 'PF DEFLACT']<br>[0.12 0.18 0.08 0.34 0.28]",
          "['Rendimiento Deflact Dólar MEP' 'Rend Alpha Renta Cobertura'\n 'Rend Superfondo Renta Fija' 'UVA DEFLACT' 'Rend Optimum Global Inv']<br>[0.37 0.07 0.07 0.29 0.19]",
          "['Rend Pionero Acciones' 'Rend Optimum Global Inv' 'UVA DEFLACT'\n 'Rend Schroder Infraestructura' 'Rend Fima Acciones']<br>[0.01 0.36 0.32 0.26 0.05]",
          "['PF DEFLACT' 'Rend Optimum Global Inv' 'REND S&P GENERAL BYMA DEFLACT'\n 'Rend Superfondo Renta Fija' 'Rendimiento Deflact Dólar MEP']<br>[0.1  0.38 0.11 0.18 0.24]",
          "['Rend Superfondo Renta Fija' 'Rend Alpha Renta Cobertura' 'UVA DEFLACT'\n 'PF DEFLACT' 'Rend Optimum Global Inv']<br>[0.05 0.17 0.29 0.22 0.28]",
          "['PF DEFLACT' 'Rend Alpha Renta Cobertura' 'Rend Fima Acciones'\n 'Rend Optimum Global Inv' 'Rendimiento Deflact Dólar MEP']<br>[0.1  0.07 0.12 0.36 0.35]",
          "['UVA DEFLACT' 'Rend Alpha Renta Cobertura' 'Rend Superfondo Renta Fija'\n 'Rend Galileo Acciones' 'PF DEFLACT']<br>[0.34 0.02 0.18 0.03 0.43]",
          "['REND S&P GENERAL BYMA DEFLACT' 'Rend Alpha Renta Cobertura'\n 'Rendimiento Deflact Dólar MEP' 'PF DEFLACT' 'Rend Optimum Global Inv']<br>[0.07 0.19 0.32 0.03 0.38]",
          "['Rend Schroder Infraestructura' 'Rend Alpha Renta Cobertura'\n 'UVA DEFLACT' 'Rend Consultatio Acciones' 'PF DEFLACT']<br>[0.18 0.14 0.31 0.07 0.3 ]",
          "['Rend Pionero Acciones' 'Rend Optimum Global Inv'\n 'Rend Alpha Renta Cobertura' 'UVA DEFLACT'\n 'Rend Schroder Infraestructura']<br>[0.01 0.26 0.01 0.39 0.34]",
          "['Rend Fima Acciones' 'Rend Alpha Renta Cobertura'\n 'Rend Schroder Infraestructura' 'Rendimiento Deflact Dólar MEP'\n 'Rend Optimum Global Inv']<br>[0.05 0.15 0.24 0.17 0.4 ]",
          "['Rend Optimum Global Inv' 'Rendimiento Deflact Dólar MEP'\n 'Rend Superfondo RV' 'REND S&P MERV DEFLACT' 'Rend Superfondo Renta Fija']<br>[0.7  0.1  0.02 0.15 0.03]",
          "['PF DEFLACT' 'UVA DEFLACT' 'Rendimiento Deflact Dólar MEP'\n 'Rend Pionero Acciones' 'Rend Schroder Infraestructura']<br>[0.38 0.28 0.15 0.1  0.1 ]",
          "['Rend Fima Acciones' 'Rend Schroder Infraestructura'\n 'Rend Optimum Global Inv' 'Rendimiento Deflact Dólar MEP' 'PF DEFLACT']<br>[0.23 0.26 0.28 0.21 0.02]",
          "['Rend Optimum Global Inv' 'Rend Schroder Infraestructura'\n 'Rendimiento Deflact Dólar MEP' 'Rend Alpha Renta Cobertura'\n 'REND S&P MERV DEFLACT']<br>[0.28 0.33 0.14 0.13 0.12]",
          "['REND S&P MERV DEFLACT' 'Rend Schroder Infraestructura' 'UVA DEFLACT'\n 'Rendimiento Deflact Dólar MEP' 'PF DEFLACT']<br>[0.08 0.28 0.3  0.32 0.03]",
          "['Rend Optimum Global Inv' 'UVA DEFLACT' 'Rend Schroder Infraestructura'\n 'Rendimiento Deflact Dólar MEP' 'Rend Superfondo RV']<br>[0.11 0.19 0.32 0.31 0.08]",
          "['UVA DEFLACT' 'Rend Pionero Acciones' 'Rend Optimum Global Inv'\n 'Rendimiento Deflact Dólar MEP' 'REND S&P MERV DEFLACT']<br>[0.14 0.03 0.33 0.31 0.19]",
          "['Rend Schroder Infraestructura' 'Rendimiento Deflact Dólar MEP'\n 'Rend Fima Acciones' 'Rend Superfondo RV' 'Rend Optimum Global Inv']<br>[0.08 0.39 0.08 0.1  0.35]",
          "['Rend Schroder Infraestructura' 'Rend Alpha Renta Cobertura' 'PF DEFLACT'\n 'Rendimiento Deflact Dólar MEP' 'UVA DEFLACT']<br>[0.15 0.15 0.33 0.04 0.33]",
          "['Rend Schroder Infraestructura' 'Rend Fima Acciones' 'UVA DEFLACT'\n 'Rend Alpha Renta Cobertura' 'Rend Optimum Global Inv']<br>[0.22 0.06 0.48 0.15 0.08]",
          "['REND S&P MERV DEFLACT' 'UVA DEFLACT' 'Rendimiento Deflact Dólar MEP'\n 'Rend Optimum Global Inv' 'Rend Galileo Acciones']<br>[0.12 0.3  0.46 0.1  0.02]",
          "['PF DEFLACT' 'Rend Schroder Infraestructura' 'Rend Consultatio Acciones'\n 'UVA DEFLACT' 'Rendimiento Deflact Dólar MEP']<br>[0.29 0.24 0.09 0.33 0.05]",
          "['REND S&P MERV DEFLACT' 'PF DEFLACT' 'Rendimiento Deflact Dólar MEP'\n 'UVA DEFLACT' 'Rend Optimum Global Inv']<br>[0.09 0.16 0.39 0.12 0.25]",
          "['REND S&P GENERAL BYMA DEFLACT' 'Rend Schroder Infraestructura'\n 'Rend Galileo Acciones' 'REND S&P MERV DEFLACT' 'Rend Optimum Global Inv']<br>[0.04 0.39 0.11 0.07 0.39]",
          "['Rend Optimum Global Inv' 'Rendimiento Deflact Dólar MEP'\n 'REND S&P MERV DEFLACT' 'PF DEFLACT' 'Rend Schroder Infraestructura']<br>[0.26 0.16 0.04 0.26 0.28]",
          "['Rend Optimum Global Inv' 'PF DEFLACT' 'UVA DEFLACT'\n 'Rend Schroder Infraestructura' 'Rendimiento Deflact Dólar MEP']<br>[0.23 0.09 0.19 0.23 0.27]",
          "['Rend Superfondo Renta Fija' 'Rend Alpha Renta Cobertura'\n 'Rend Schroder Infraestructura' 'REND S&P MERV DEFLACT'\n 'Rendimiento Deflact Dólar MEP']<br>[0.05 0.03 0.44 0.04 0.44]",
          "['Rendimiento Deflact Dólar MEP' 'Rend Optimum Global Inv'\n 'REND S&P MERV DEFLACT' 'Rend Pionero Acciones'\n 'Rend Schroder Infraestructura']<br>[0.26 0.23 0.18 0.04 0.29]",
          "['Rend Pionero Acciones' 'UVA DEFLACT' 'Rend Superfondo RV'\n 'Rend Optimum Global Inv' 'Rendimiento Deflact Dólar MEP']<br>[0.03 0.35 0.08 0.21 0.34]",
          "['PF DEFLACT' 'Rendimiento Deflact Dólar MEP' 'UVA DEFLACT'\n 'Rend Alpha Renta Cobertura' 'Rend Consultatio Acciones']<br>[0.16 0.34 0.32 0.08 0.09]",
          "['PF DEFLACT' 'UVA DEFLACT' 'REND S&P MERV DEFLACT'\n 'Rend Pionero Acciones' 'Rend Optimum Global Inv']<br>[0.45 0.32 0.02 0.12 0.09]",
          "['Rendimiento Deflact Dólar MEP' 'UVA DEFLACT' 'PF DEFLACT'\n 'Rend Schroder Infraestructura' 'Rend Superfondo RV']<br>[0.15 0.23 0.28 0.26 0.07]",
          "['Rend Optimum Global Inv' 'Rend Fima Acciones'\n 'Rend Schroder Infraestructura' 'UVA DEFLACT' 'Rend Consultatio Acciones']<br>[0.28 0.07 0.18 0.43 0.04]",
          "['REND S&P GENERAL BYMA DEFLACT' 'Rendimiento Deflact Dólar MEP'\n 'Rend Schroder Infraestructura' 'Rend Galileo Acciones'\n 'Rend Optimum Global Inv']<br>[0.02 0.31 0.13 0.2  0.34]",
          "['UVA DEFLACT' 'Rend Schroder Infraestructura' 'Rend Consultatio Acciones'\n 'Rendimiento Deflact Dólar MEP' 'PF DEFLACT']<br>[0.31 0.24 0.08 0.08 0.29]",
          "['Rend Schroder Infraestructura' 'Rend Optimum Global Inv' 'UVA DEFLACT'\n 'Rend Consultatio Acciones' 'Rend Pionero Acciones']<br>[0.2  0.22 0.5  0.03 0.04]",
          "['UVA DEFLACT' 'PF DEFLACT' 'Rend Optimum Global Inv' 'Rend Superfondo RV'\n 'Rend Schroder Infraestructura']<br>[0.36 0.21 0.36 0.02 0.06]",
          "['Rend Optimum Global Inv' 'Rendimiento Deflact Dólar MEP' 'UVA DEFLACT'\n 'Rend Schroder Infraestructura' 'Rend Galileo Acciones']<br>[0.21 0.18 0.24 0.2  0.16]",
          "['UVA DEFLACT' 'Rend Optimum Global Inv' 'Rendimiento Deflact Dólar MEP'\n 'Rend Schroder Infraestructura' 'Rend Pionero Acciones']<br>[0.09 0.21 0.15 0.5  0.04]",
          "['Rendimiento Deflact Dólar MEP' 'Rend Pionero Acciones' 'UVA DEFLACT'\n 'Rend Optimum Global Inv' 'Rend Galileo Acciones']<br>[0.19 0.04 0.49 0.22 0.05]",
          "['Rend Optimum Global Inv' 'Rend Consultatio Acciones'\n 'Rend Alpha Renta Cobertura' 'Rend Schroder Infraestructura'\n 'Rendimiento Deflact Dólar MEP']<br>[0.62 0.03 0.15 0.1  0.1 ]",
          "['UVA DEFLACT' 'Rendimiento Deflact Dólar MEP' 'Rend Optimum Global Inv'\n 'Rend Superfondo Renta Fija' 'REND S&P MERV DEFLACT']<br>[0.04 0.19 0.54 0.   0.23]",
          "['Rend Alpha Renta Cobertura' 'Rend Schroder Infraestructura'\n 'Rend Superfondo RV' 'Rend Optimum Global Inv'\n 'Rendimiento Deflact Dólar MEP']<br>[0.1  0.09 0.01 0.57 0.24]",
          "['Rend Optimum Global Inv' 'Rend Galileo Acciones'\n 'Rend Schroder Infraestructura' 'Rendimiento Deflact Dólar MEP'\n 'REND S&P MERV DEFLACT']<br>[0.26 0.01 0.24 0.27 0.23]",
          "['UVA DEFLACT' 'Rend Superfondo Renta Fija'\n 'REND S&P GENERAL BYMA DEFLACT' 'Rendimiento Deflact Dólar MEP'\n 'Rend Optimum Global Inv']<br>[0.12 0.1  0.11 0.36 0.31]",
          "['Rend Galileo Acciones' 'Rend Schroder Infraestructura'\n 'Rend Alpha Renta Cobertura' 'Rend Optimum Global Inv'\n 'Rend Consultatio Acciones']<br>[0.13 0.41 0.02 0.42 0.02]",
          "['UVA DEFLACT' 'PF DEFLACT' 'Rend Galileo Acciones'\n 'Rend Alpha Renta Cobertura' 'Rendimiento Deflact Dólar MEP']<br>[0.35 0.28 0.03 0.1  0.24]",
          "['Rend Schroder Infraestructura' 'REND S&P MERV DEFLACT'\n 'Rendimiento Deflact Dólar MEP' 'Rend Superfondo RV'\n 'Rend Optimum Global Inv']<br>[0.06 0.13 0.16 0.05 0.6 ]",
          "['Rend Schroder Infraestructura' 'PF DEFLACT' 'UVA DEFLACT'\n 'Rend Optimum Global Inv' 'Rend Superfondo Renta Fija']<br>[0.29 0.01 0.2  0.43 0.06]",
          "['Rend Optimum Global Inv' 'Rendimiento Deflact Dólar MEP'\n 'Rend Galileo Acciones' 'Rend Schroder Infraestructura' 'UVA DEFLACT']<br>[0.35 0.38 0.06 0.03 0.18]",
          "['UVA DEFLACT' 'Rend Galileo Acciones' 'Rendimiento Deflact Dólar MEP'\n 'Rend Optimum Global Inv' 'Rend Superfondo RV']<br>[0.17 0.09 0.52 0.17 0.05]",
          "['Rendimiento Deflact Dólar MEP' 'Rend Optimum Global Inv'\n 'Rend Fima Acciones' 'Rend Superfondo RV' 'Rend Pionero Acciones']<br>[0.42 0.49 0.01 0.07 0.02]",
          "['Rend Superfondo Renta Fija' 'Rendimiento Deflact Dólar MEP'\n 'Rend Schroder Infraestructura' 'Rend Optimum Global Inv' 'UVA DEFLACT']<br>[0.   0.05 0.36 0.32 0.27]",
          "['Rend Superfondo RV' 'REND S&P MERV DEFLACT' 'UVA DEFLACT' 'PF DEFLACT'\n 'Rendimiento Deflact Dólar MEP']<br>[0.04 0.03 0.49 0.26 0.18]",
          "['PF DEFLACT' 'UVA DEFLACT' 'Rendimiento Deflact Dólar MEP'\n 'Rend Optimum Global Inv' 'Rend Consultatio Acciones']<br>[0.   0.07 0.22 0.6  0.1 ]",
          "['Rend Optimum Global Inv' 'UVA DEFLACT' 'REND S&P GENERAL BYMA DEFLACT'\n 'Rend Schroder Infraestructura' 'PF DEFLACT']<br>[0.23 0.18 0.1  0.13 0.36]",
          "['Rendimiento Deflact Dólar MEP' 'Rend Alpha Renta Cobertura'\n 'REND S&P GENERAL BYMA DEFLACT' 'Rend Optimum Global Inv'\n 'Rend Schroder Infraestructura']<br>[0.34 0.01 0.12 0.44 0.09]",
          "['PF DEFLACT' 'UVA DEFLACT' 'Rend Alpha Renta Cobertura'\n 'Rend Optimum Global Inv' 'Rendimiento Deflact Dólar MEP']<br>[0.08 0.36 0.03 0.37 0.16]",
          "['Rendimiento Deflact Dólar MEP' 'PF DEFLACT' 'Rend Optimum Global Inv'\n 'Rend Schroder Infraestructura' 'Rend Galileo Acciones']<br>[0.19 0.06 0.49 0.2  0.06]",
          "['Rend Alpha Renta Cobertura' 'Rend Optimum Global Inv'\n 'REND S&P GENERAL BYMA DEFLACT' 'Rendimiento Deflact Dólar MEP'\n 'Rend Schroder Infraestructura']<br>[0.01 0.27 0.14 0.1  0.47]",
          "['Rend Schroder Infraestructura' 'UVA DEFLACT' 'Rend Optimum Global Inv'\n 'Rend Alpha Renta Cobertura' 'Rendimiento Deflact Dólar MEP']<br>[0.23 0.01 0.37 0.03 0.37]",
          "['Rend Optimum Global Inv' 'Rendimiento Deflact Dólar MEP' 'UVA DEFLACT'\n 'REND S&P MERV DEFLACT' 'Rend Schroder Infraestructura']<br>[0.24 0.27 0.22 0.04 0.22]",
          "['Rend Galileo Acciones' 'Rend Optimum Global Inv' 'UVA DEFLACT'\n 'Rend Schroder Infraestructura' 'REND S&P MERV DEFLACT']<br>[0.04 0.28 0.35 0.25 0.07]",
          "['UVA DEFLACT' 'Rend Superfondo RV' 'Rendimiento Deflact Dólar MEP'\n 'Rend Schroder Infraestructura' 'REND S&P MERV DEFLACT']<br>[0.56 0.02 0.27 0.06 0.09]",
          "['Rendimiento Deflact Dólar MEP' 'Rend Pionero Acciones' 'UVA DEFLACT'\n 'Rend Schroder Infraestructura' 'Rend Optimum Global Inv']<br>[0.22 0.02 0.01 0.4  0.35]",
          "['Rend Schroder Infraestructura' 'Rend Optimum Global Inv'\n 'Rend Pionero Acciones' 'UVA DEFLACT' 'Rend Galileo Acciones']<br>[0.24 0.33 0.06 0.35 0.02]",
          "['Rend Optimum Global Inv' 'UVA DEFLACT' 'Rend Fima Acciones'\n 'Rend Superfondo RV' 'Rendimiento Deflact Dólar MEP']<br>[0.37 0.36 0.04 0.09 0.15]",
          "['Rendimiento Deflact Dólar MEP' 'Rend Superfondo RV' 'PF DEFLACT'\n 'Rend Schroder Infraestructura' 'Rend Optimum Global Inv']<br>[0.29 0.01 0.08 0.36 0.26]",
          "['Rendimiento Deflact Dólar MEP' 'UVA DEFLACT' 'Rend Galileo Acciones'\n 'Rend Schroder Infraestructura' 'Rend Optimum Global Inv']<br>[0.28 0.32 0.03 0.15 0.21]",
          "['Rend Galileo Acciones' 'UVA DEFLACT' 'Rend Optimum Global Inv'\n 'PF DEFLACT' 'Rend Alpha Renta Cobertura']<br>[0.07 0.41 0.16 0.24 0.12]",
          "['Rendimiento Deflact Dólar MEP' 'Rend Galileo Acciones'\n 'REND S&P MERV DEFLACT' 'Rend Schroder Infraestructura' 'UVA DEFLACT']<br>[0.24 0.05 0.01 0.15 0.55]",
          "['Rend Schroder Infraestructura' 'UVA DEFLACT' 'Rend Fima Acciones'\n 'Rend Optimum Global Inv' 'Rendimiento Deflact Dólar MEP']<br>[0.09 0.16 0.13 0.41 0.21]"
         ],
         "type": "scatter",
         "x": [
          0.23797005630222973,
          0.27623278379338906,
          0.21753200832866673,
          0.2550410955298556,
          0.2305248800793898,
          0.16288108658602998,
          0.22630086475067762,
          0.16661561201496264,
          0.21649560852070895,
          0.16136143534461475,
          0.30260088821456416,
          0.19741617114816576,
          0.17155096256158656,
          0.160008331928084,
          0.11158928227999247,
          0.22678259868604772,
          0.25989929883097934,
          0.16064010283277647,
          0.16577027923604148,
          0.2715203818541776,
          0.17770929138912325,
          0.2676918996265404,
          0.261202456552277,
          0.20906414252445013,
          0.1715430784702875,
          0.11002553595007696,
          0.21587653920866096,
          0.1755266690345186,
          0.2499174477307113,
          0.14248854185786503,
          0.25841168406539317,
          0.07544122920400306,
          0.2763560894295817,
          0.10002336387666712,
          0.15403443925291443,
          0.2604130735816233,
          0.28571373832586766,
          0.09328735432828063,
          0.25159751351947285,
          0.2445319235748702,
          0.1706916324370278,
          0.20420564937917113,
          0.2356293939731184,
          0.2753455936924753,
          0.08425821887314515,
          0.12773091173625917,
          0.2031304901845492,
          0.10389988026195289,
          0.21830653033576325,
          0.2559422540252722,
          0.19245025088758116,
          0.20005377118753903,
          0.2506143115247787,
          0.2515636209212194,
          0.18926694782153658,
          0.14493804537416505,
          0.08082116783341854,
          0.12281593202269137,
          0.14818434717201,
          0.2690451720177115,
          0.10577890376695687,
          0.1285159791185015,
          0.13177467976715745,
          0.19557320350127144,
          0.22145716825045816,
          0.1475493111597193,
          0.2846575428275104,
          0.26756859920458875,
          0.29621951821235115,
          0.25539882943609155,
          0.24864463346023585,
          0.2518426540150647,
          0.11062392200302688,
          0.2770604708630546,
          0.20874406772435208,
          0.2514339857035904,
          0.24634346961779083,
          0.3027529472041139,
          0.18761645998652512,
          0.07765068449795173,
          0.2734507726557607,
          0.12609714374575276,
          0.2822201210780203,
          0.18040616821503194,
          0.26007379193097546,
          0.24626144176336487,
          0.2818171502489453,
          0.20866624582729204,
          0.16729951581177677,
          0.12162766615139438,
          0.2568189074673885,
          0.1667134881766559,
          0.18362325772256996,
          0.24102738375457786,
          0.19195092689504265,
          0.09891103137628891,
          0.12053049192184785,
          0.22994181695215152
         ],
         "y": [
          0.05539334861809875,
          0.06718040761997449,
          0.09337330965583529,
          0.11281928303043866,
          0.12089178513269151,
          0.041438690527161065,
          0.09677031694285274,
          0.05261730175317927,
          0.08086452938859141,
          0.06109488020115399,
          0.1902874666563709,
          0.06960837933452485,
          0.07660826547433905,
          0.01359839797176754,
          0.041007366747267106,
          0.10470952030536318,
          0.1258320188543551,
          0.053694011177736437,
          0.07142218679649714,
          0.15214482576047828,
          0.08275128231725694,
          0.15279682638146974,
          0.1282817483072153,
          0.10922211644924593,
          0.1011716949725517,
          0.00002161209066642647,
          0.1158012244522486,
          0.10608704191454812,
          0.12316142080507458,
          0.05208004976713649,
          0.14615895395437706,
          -0.03176452113125166,
          0.15890745035897286,
          0.004298406300333686,
          0.09178829542678428,
          0.15613937575896136,
          0.17872194095838803,
          0.013029408445758322,
          0.1284476918329984,
          0.13730467424659754,
          0.0926207817398185,
          0.11968471720071042,
          0.136975123527786,
          0.1639529588455646,
          0.008986601531634818,
          0.044864553648554496,
          0.11497575655355403,
          0.013183467501581525,
          0.12421050713382989,
          0.1384993262703689,
          0.10729816230715239,
          0.12275986675179469,
          0.13991697426439048,
          0.14023170649373617,
          0.10992543924223686,
          0.057260426912286305,
          -0.010738660890471468,
          0.04105611713830786,
          0.07559841683447432,
          0.1615907200218748,
          0.02180014158720506,
          0.06620449747011613,
          0.06976862254923408,
          0.11034255365187993,
          0.13435420360284162,
          0.08476896394555308,
          0.17633121180134526,
          0.1635194909474433,
          0.18858270546476744,
          0.14487051117606806,
          0.13904752725155928,
          0.147543418046872,
          0.03419822371649288,
          0.17529706528207512,
          0.12537536888986556,
          0.15890558379559636,
          0.14334000653699575,
          0.19229991688161036,
          0.11984118021461962,
          0.016770628248357344,
          0.17470723373668992,
          0.04524293482566431,
          0.1804616502549858,
          0.10720554041365105,
          0.16827186630184407,
          0.13906618714250546,
          0.1828238384875039,
          0.13228844047897828,
          0.0919508751867982,
          0.05703105469421097,
          0.16818920205280574,
          0.09727852434907544,
          0.10780764646758506,
          0.15106176604308308,
          0.12012402071707015,
          0.02632125099457212,
          0.06218817885550287,
          0.13917487809025675
         ]
        }
       ],
       "layout": {
        "coloraxis": {
         "colorbar": {
          "title": {
           "text": "Sharpe Ratio"
          }
         }
        },
        "height": 500,
        "template": {
         "data": {
          "bar": [
           {
            "error_x": {
             "color": "#2a3f5f"
            },
            "error_y": {
             "color": "#2a3f5f"
            },
            "marker": {
             "line": {
              "color": "white",
              "width": 0.5
             },
             "pattern": {
              "fillmode": "overlay",
              "size": 10,
              "solidity": 0.2
             }
            },
            "type": "bar"
           }
          ],
          "barpolar": [
           {
            "marker": {
             "line": {
              "color": "white",
              "width": 0.5
             },
             "pattern": {
              "fillmode": "overlay",
              "size": 10,
              "solidity": 0.2
             }
            },
            "type": "barpolar"
           }
          ],
          "carpet": [
           {
            "aaxis": {
             "endlinecolor": "#2a3f5f",
             "gridcolor": "#C8D4E3",
             "linecolor": "#C8D4E3",
             "minorgridcolor": "#C8D4E3",
             "startlinecolor": "#2a3f5f"
            },
            "baxis": {
             "endlinecolor": "#2a3f5f",
             "gridcolor": "#C8D4E3",
             "linecolor": "#C8D4E3",
             "minorgridcolor": "#C8D4E3",
             "startlinecolor": "#2a3f5f"
            },
            "type": "carpet"
           }
          ],
          "choropleth": [
           {
            "colorbar": {
             "outlinewidth": 0,
             "ticks": ""
            },
            "type": "choropleth"
           }
          ],
          "contour": [
           {
            "colorbar": {
             "outlinewidth": 0,
             "ticks": ""
            },
            "colorscale": [
             [
              0,
              "#0d0887"
             ],
             [
              0.1111111111111111,
              "#46039f"
             ],
             [
              0.2222222222222222,
              "#7201a8"
             ],
             [
              0.3333333333333333,
              "#9c179e"
             ],
             [
              0.4444444444444444,
              "#bd3786"
             ],
             [
              0.5555555555555556,
              "#d8576b"
             ],
             [
              0.6666666666666666,
              "#ed7953"
             ],
             [
              0.7777777777777778,
              "#fb9f3a"
             ],
             [
              0.8888888888888888,
              "#fdca26"
             ],
             [
              1,
              "#f0f921"
             ]
            ],
            "type": "contour"
           }
          ],
          "contourcarpet": [
           {
            "colorbar": {
             "outlinewidth": 0,
             "ticks": ""
            },
            "type": "contourcarpet"
           }
          ],
          "heatmap": [
           {
            "colorbar": {
             "outlinewidth": 0,
             "ticks": ""
            },
            "colorscale": [
             [
              0,
              "#0d0887"
             ],
             [
              0.1111111111111111,
              "#46039f"
             ],
             [
              0.2222222222222222,
              "#7201a8"
             ],
             [
              0.3333333333333333,
              "#9c179e"
             ],
             [
              0.4444444444444444,
              "#bd3786"
             ],
             [
              0.5555555555555556,
              "#d8576b"
             ],
             [
              0.6666666666666666,
              "#ed7953"
             ],
             [
              0.7777777777777778,
              "#fb9f3a"
             ],
             [
              0.8888888888888888,
              "#fdca26"
             ],
             [
              1,
              "#f0f921"
             ]
            ],
            "type": "heatmap"
           }
          ],
          "heatmapgl": [
           {
            "colorbar": {
             "outlinewidth": 0,
             "ticks": ""
            },
            "colorscale": [
             [
              0,
              "#0d0887"
             ],
             [
              0.1111111111111111,
              "#46039f"
             ],
             [
              0.2222222222222222,
              "#7201a8"
             ],
             [
              0.3333333333333333,
              "#9c179e"
             ],
             [
              0.4444444444444444,
              "#bd3786"
             ],
             [
              0.5555555555555556,
              "#d8576b"
             ],
             [
              0.6666666666666666,
              "#ed7953"
             ],
             [
              0.7777777777777778,
              "#fb9f3a"
             ],
             [
              0.8888888888888888,
              "#fdca26"
             ],
             [
              1,
              "#f0f921"
             ]
            ],
            "type": "heatmapgl"
           }
          ],
          "histogram": [
           {
            "marker": {
             "pattern": {
              "fillmode": "overlay",
              "size": 10,
              "solidity": 0.2
             }
            },
            "type": "histogram"
           }
          ],
          "histogram2d": [
           {
            "colorbar": {
             "outlinewidth": 0,
             "ticks": ""
            },
            "colorscale": [
             [
              0,
              "#0d0887"
             ],
             [
              0.1111111111111111,
              "#46039f"
             ],
             [
              0.2222222222222222,
              "#7201a8"
             ],
             [
              0.3333333333333333,
              "#9c179e"
             ],
             [
              0.4444444444444444,
              "#bd3786"
             ],
             [
              0.5555555555555556,
              "#d8576b"
             ],
             [
              0.6666666666666666,
              "#ed7953"
             ],
             [
              0.7777777777777778,
              "#fb9f3a"
             ],
             [
              0.8888888888888888,
              "#fdca26"
             ],
             [
              1,
              "#f0f921"
             ]
            ],
            "type": "histogram2d"
           }
          ],
          "histogram2dcontour": [
           {
            "colorbar": {
             "outlinewidth": 0,
             "ticks": ""
            },
            "colorscale": [
             [
              0,
              "#0d0887"
             ],
             [
              0.1111111111111111,
              "#46039f"
             ],
             [
              0.2222222222222222,
              "#7201a8"
             ],
             [
              0.3333333333333333,
              "#9c179e"
             ],
             [
              0.4444444444444444,
              "#bd3786"
             ],
             [
              0.5555555555555556,
              "#d8576b"
             ],
             [
              0.6666666666666666,
              "#ed7953"
             ],
             [
              0.7777777777777778,
              "#fb9f3a"
             ],
             [
              0.8888888888888888,
              "#fdca26"
             ],
             [
              1,
              "#f0f921"
             ]
            ],
            "type": "histogram2dcontour"
           }
          ],
          "mesh3d": [
           {
            "colorbar": {
             "outlinewidth": 0,
             "ticks": ""
            },
            "type": "mesh3d"
           }
          ],
          "parcoords": [
           {
            "line": {
             "colorbar": {
              "outlinewidth": 0,
              "ticks": ""
             }
            },
            "type": "parcoords"
           }
          ],
          "pie": [
           {
            "automargin": true,
            "type": "pie"
           }
          ],
          "scatter": [
           {
            "fillpattern": {
             "fillmode": "overlay",
             "size": 10,
             "solidity": 0.2
            },
            "type": "scatter"
           }
          ],
          "scatter3d": [
           {
            "line": {
             "colorbar": {
              "outlinewidth": 0,
              "ticks": ""
             }
            },
            "marker": {
             "colorbar": {
              "outlinewidth": 0,
              "ticks": ""
             }
            },
            "type": "scatter3d"
           }
          ],
          "scattercarpet": [
           {
            "marker": {
             "colorbar": {
              "outlinewidth": 0,
              "ticks": ""
             }
            },
            "type": "scattercarpet"
           }
          ],
          "scattergeo": [
           {
            "marker": {
             "colorbar": {
              "outlinewidth": 0,
              "ticks": ""
             }
            },
            "type": "scattergeo"
           }
          ],
          "scattergl": [
           {
            "marker": {
             "colorbar": {
              "outlinewidth": 0,
              "ticks": ""
             }
            },
            "type": "scattergl"
           }
          ],
          "scattermapbox": [
           {
            "marker": {
             "colorbar": {
              "outlinewidth": 0,
              "ticks": ""
             }
            },
            "type": "scattermapbox"
           }
          ],
          "scatterpolar": [
           {
            "marker": {
             "colorbar": {
              "outlinewidth": 0,
              "ticks": ""
             }
            },
            "type": "scatterpolar"
           }
          ],
          "scatterpolargl": [
           {
            "marker": {
             "colorbar": {
              "outlinewidth": 0,
              "ticks": ""
             }
            },
            "type": "scatterpolargl"
           }
          ],
          "scatterternary": [
           {
            "marker": {
             "colorbar": {
              "outlinewidth": 0,
              "ticks": ""
             }
            },
            "type": "scatterternary"
           }
          ],
          "surface": [
           {
            "colorbar": {
             "outlinewidth": 0,
             "ticks": ""
            },
            "colorscale": [
             [
              0,
              "#0d0887"
             ],
             [
              0.1111111111111111,
              "#46039f"
             ],
             [
              0.2222222222222222,
              "#7201a8"
             ],
             [
              0.3333333333333333,
              "#9c179e"
             ],
             [
              0.4444444444444444,
              "#bd3786"
             ],
             [
              0.5555555555555556,
              "#d8576b"
             ],
             [
              0.6666666666666666,
              "#ed7953"
             ],
             [
              0.7777777777777778,
              "#fb9f3a"
             ],
             [
              0.8888888888888888,
              "#fdca26"
             ],
             [
              1,
              "#f0f921"
             ]
            ],
            "type": "surface"
           }
          ],
          "table": [
           {
            "cells": {
             "fill": {
              "color": "#EBF0F8"
             },
             "line": {
              "color": "white"
             }
            },
            "header": {
             "fill": {
              "color": "#C8D4E3"
             },
             "line": {
              "color": "white"
             }
            },
            "type": "table"
           }
          ]
         },
         "layout": {
          "annotationdefaults": {
           "arrowcolor": "#2a3f5f",
           "arrowhead": 0,
           "arrowwidth": 1
          },
          "autotypenumbers": "strict",
          "coloraxis": {
           "colorbar": {
            "outlinewidth": 0,
            "ticks": ""
           }
          },
          "colorscale": {
           "diverging": [
            [
             0,
             "#8e0152"
            ],
            [
             0.1,
             "#c51b7d"
            ],
            [
             0.2,
             "#de77ae"
            ],
            [
             0.3,
             "#f1b6da"
            ],
            [
             0.4,
             "#fde0ef"
            ],
            [
             0.5,
             "#f7f7f7"
            ],
            [
             0.6,
             "#e6f5d0"
            ],
            [
             0.7,
             "#b8e186"
            ],
            [
             0.8,
             "#7fbc41"
            ],
            [
             0.9,
             "#4d9221"
            ],
            [
             1,
             "#276419"
            ]
           ],
           "sequential": [
            [
             0,
             "#0d0887"
            ],
            [
             0.1111111111111111,
             "#46039f"
            ],
            [
             0.2222222222222222,
             "#7201a8"
            ],
            [
             0.3333333333333333,
             "#9c179e"
            ],
            [
             0.4444444444444444,
             "#bd3786"
            ],
            [
             0.5555555555555556,
             "#d8576b"
            ],
            [
             0.6666666666666666,
             "#ed7953"
            ],
            [
             0.7777777777777778,
             "#fb9f3a"
            ],
            [
             0.8888888888888888,
             "#fdca26"
            ],
            [
             1,
             "#f0f921"
            ]
           ],
           "sequentialminus": [
            [
             0,
             "#0d0887"
            ],
            [
             0.1111111111111111,
             "#46039f"
            ],
            [
             0.2222222222222222,
             "#7201a8"
            ],
            [
             0.3333333333333333,
             "#9c179e"
            ],
            [
             0.4444444444444444,
             "#bd3786"
            ],
            [
             0.5555555555555556,
             "#d8576b"
            ],
            [
             0.6666666666666666,
             "#ed7953"
            ],
            [
             0.7777777777777778,
             "#fb9f3a"
            ],
            [
             0.8888888888888888,
             "#fdca26"
            ],
            [
             1,
             "#f0f921"
            ]
           ]
          },
          "colorway": [
           "#636efa",
           "#EF553B",
           "#00cc96",
           "#ab63fa",
           "#FFA15A",
           "#19d3f3",
           "#FF6692",
           "#B6E880",
           "#FF97FF",
           "#FECB52"
          ],
          "font": {
           "color": "#2a3f5f"
          },
          "geo": {
           "bgcolor": "white",
           "lakecolor": "white",
           "landcolor": "white",
           "showlakes": true,
           "showland": true,
           "subunitcolor": "#C8D4E3"
          },
          "hoverlabel": {
           "align": "left"
          },
          "hovermode": "closest",
          "mapbox": {
           "style": "light"
          },
          "paper_bgcolor": "white",
          "plot_bgcolor": "white",
          "polar": {
           "angularaxis": {
            "gridcolor": "#EBF0F8",
            "linecolor": "#EBF0F8",
            "ticks": ""
           },
           "bgcolor": "white",
           "radialaxis": {
            "gridcolor": "#EBF0F8",
            "linecolor": "#EBF0F8",
            "ticks": ""
           }
          },
          "scene": {
           "xaxis": {
            "backgroundcolor": "white",
            "gridcolor": "#DFE8F3",
            "gridwidth": 2,
            "linecolor": "#EBF0F8",
            "showbackground": true,
            "ticks": "",
            "zerolinecolor": "#EBF0F8"
           },
           "yaxis": {
            "backgroundcolor": "white",
            "gridcolor": "#DFE8F3",
            "gridwidth": 2,
            "linecolor": "#EBF0F8",
            "showbackground": true,
            "ticks": "",
            "zerolinecolor": "#EBF0F8"
           },
           "zaxis": {
            "backgroundcolor": "white",
            "gridcolor": "#DFE8F3",
            "gridwidth": 2,
            "linecolor": "#EBF0F8",
            "showbackground": true,
            "ticks": "",
            "zerolinecolor": "#EBF0F8"
           }
          },
          "shapedefaults": {
           "line": {
            "color": "#2a3f5f"
           }
          },
          "ternary": {
           "aaxis": {
            "gridcolor": "#DFE8F3",
            "linecolor": "#A2B1C6",
            "ticks": ""
           },
           "baxis": {
            "gridcolor": "#DFE8F3",
            "linecolor": "#A2B1C6",
            "ticks": ""
           },
           "bgcolor": "white",
           "caxis": {
            "gridcolor": "#DFE8F3",
            "linecolor": "#A2B1C6",
            "ticks": ""
           }
          },
          "title": {
           "x": 0.05
          },
          "xaxis": {
           "automargin": true,
           "gridcolor": "#EBF0F8",
           "linecolor": "#EBF0F8",
           "ticks": "",
           "title": {
            "standoff": 15
           },
           "zerolinecolor": "#EBF0F8",
           "zerolinewidth": 2
          },
          "yaxis": {
           "automargin": true,
           "gridcolor": "#EBF0F8",
           "linecolor": "#EBF0F8",
           "ticks": "",
           "title": {
            "standoff": 15
           },
           "zerolinecolor": "#EBF0F8",
           "zerolinewidth": 2
          }
         }
        },
        "title": {
         "text": "Frontera de Eficiencia"
        },
        "width": 850,
        "xaxis": {
         "range": [
          0,
          0.26
         ],
         "title": {
          "text": "Volatilidad Anualizada"
         }
        },
        "yaxis": {
         "range": [
          -0.2,
          0.29
         ],
         "title": {
          "text": "Retorno Anualizado"
         }
        }
       }
      }
     },
     "metadata": {},
     "output_type": "display_data"
    }
   ],
   "source": [
    "# Efficiency Frontier for Long-Term Funds\n",
    "rfr_l = -0.081\n",
    "large, fig_c = EfficiencyFrontier(rets_l, True, 12, 5, 10000, rfr_l)"
   ]
  },
  {
   "cell_type": "code",
   "execution_count": 26,
   "metadata": {},
   "outputs": [
    {
     "data": {
      "text/html": [
       "<div>\n",
       "<style scoped>\n",
       "    .dataframe tbody tr th:only-of-type {\n",
       "        vertical-align: middle;\n",
       "    }\n",
       "\n",
       "    .dataframe tbody tr th {\n",
       "        vertical-align: top;\n",
       "    }\n",
       "\n",
       "    .dataframe thead th {\n",
       "        text-align: right;\n",
       "    }\n",
       "</style>\n",
       "<table border=\"1\" class=\"dataframe\">\n",
       "  <thead>\n",
       "    <tr style=\"text-align: right;\">\n",
       "      <th></th>\n",
       "      <th>comp_0</th>\n",
       "      <th>comp_1</th>\n",
       "      <th>comp_2</th>\n",
       "      <th>comp_3</th>\n",
       "      <th>comp_4</th>\n",
       "      <th>peso_0</th>\n",
       "      <th>peso_1</th>\n",
       "      <th>peso_2</th>\n",
       "      <th>peso_3</th>\n",
       "      <th>peso_4</th>\n",
       "      <th>Rentabilidad</th>\n",
       "      <th>Volatilidad</th>\n",
       "      <th>sharpe</th>\n",
       "    </tr>\n",
       "    <tr>\n",
       "      <th>instrument</th>\n",
       "      <th></th>\n",
       "      <th></th>\n",
       "      <th></th>\n",
       "      <th></th>\n",
       "      <th></th>\n",
       "      <th></th>\n",
       "      <th></th>\n",
       "      <th></th>\n",
       "      <th></th>\n",
       "      <th></th>\n",
       "      <th></th>\n",
       "      <th></th>\n",
       "      <th></th>\n",
       "    </tr>\n",
       "  </thead>\n",
       "  <tbody>\n",
       "    <tr>\n",
       "      <th>portfolio_74</th>\n",
       "      <td>Rend Schroder Infraestructura</td>\n",
       "      <td>REND S&amp;P MERV DEFLACT</td>\n",
       "      <td>Rendimiento Deflact Dólar MEP</td>\n",
       "      <td>Rend Superfondo RV</td>\n",
       "      <td>Rend Optimum Global Inv</td>\n",
       "      <td>0.062483</td>\n",
       "      <td>0.126419</td>\n",
       "      <td>0.155889</td>\n",
       "      <td>0.054277</td>\n",
       "      <td>0.600932</td>\n",
       "      <td>0.175297</td>\n",
       "      <td>0.27706</td>\n",
       "      <td>0.925058</td>\n",
       "    </tr>\n",
       "  </tbody>\n",
       "</table>\n",
       "</div>"
      ],
      "text/plain": [
       "                                     comp_0                 comp_1  \\\n",
       "instrument                                                           \n",
       "portfolio_74  Rend Schroder Infraestructura  REND S&P MERV DEFLACT   \n",
       "\n",
       "                                     comp_2              comp_3  \\\n",
       "instrument                                                        \n",
       "portfolio_74  Rendimiento Deflact Dólar MEP  Rend Superfondo RV   \n",
       "\n",
       "                               comp_4    peso_0    peso_1    peso_2    peso_3  \\\n",
       "instrument                                                                      \n",
       "portfolio_74  Rend Optimum Global Inv  0.062483  0.126419  0.155889  0.054277   \n",
       "\n",
       "                peso_4  Rentabilidad  Volatilidad    sharpe  \n",
       "instrument                                                   \n",
       "portfolio_74  0.600932      0.175297      0.27706  0.925058  "
      ]
     },
     "metadata": {},
     "output_type": "display_data"
    },
    {
     "data": {
      "text/html": [
       "<div>\n",
       "<style scoped>\n",
       "    .dataframe tbody tr th:only-of-type {\n",
       "        vertical-align: middle;\n",
       "    }\n",
       "\n",
       "    .dataframe tbody tr th {\n",
       "        vertical-align: top;\n",
       "    }\n",
       "\n",
       "    .dataframe thead th {\n",
       "        text-align: right;\n",
       "    }\n",
       "</style>\n",
       "<table border=\"1\" class=\"dataframe\">\n",
       "  <thead>\n",
       "    <tr style=\"text-align: right;\">\n",
       "      <th></th>\n",
       "      <th>comp_0</th>\n",
       "      <th>comp_1</th>\n",
       "      <th>comp_2</th>\n",
       "      <th>comp_3</th>\n",
       "      <th>comp_4</th>\n",
       "      <th>peso_0</th>\n",
       "      <th>peso_1</th>\n",
       "      <th>peso_2</th>\n",
       "      <th>peso_3</th>\n",
       "      <th>peso_4</th>\n",
       "      <th>Rentabilidad</th>\n",
       "      <th>Volatilidad</th>\n",
       "      <th>sharpe</th>\n",
       "    </tr>\n",
       "    <tr>\n",
       "      <th>instrument</th>\n",
       "      <th></th>\n",
       "      <th></th>\n",
       "      <th></th>\n",
       "      <th></th>\n",
       "      <th></th>\n",
       "      <th></th>\n",
       "      <th></th>\n",
       "      <th></th>\n",
       "      <th></th>\n",
       "      <th></th>\n",
       "      <th></th>\n",
       "      <th></th>\n",
       "      <th></th>\n",
       "    </tr>\n",
       "  </thead>\n",
       "  <tbody>\n",
       "    <tr>\n",
       "      <th>portfolio_78</th>\n",
       "      <td>Rendimiento Deflact Dólar MEP</td>\n",
       "      <td>Rend Optimum Global Inv</td>\n",
       "      <td>Rend Fima Acciones</td>\n",
       "      <td>Rend Superfondo RV</td>\n",
       "      <td>Rend Pionero Acciones</td>\n",
       "      <td>0.421116</td>\n",
       "      <td>0.487603</td>\n",
       "      <td>0.007473</td>\n",
       "      <td>0.067656</td>\n",
       "      <td>0.016152</td>\n",
       "      <td>0.1923</td>\n",
       "      <td>0.302753</td>\n",
       "      <td>0.902716</td>\n",
       "    </tr>\n",
       "  </tbody>\n",
       "</table>\n",
       "</div>"
      ],
      "text/plain": [
       "                                     comp_0                   comp_1  \\\n",
       "instrument                                                             \n",
       "portfolio_78  Rendimiento Deflact Dólar MEP  Rend Optimum Global Inv   \n",
       "\n",
       "                          comp_2              comp_3                 comp_4  \\\n",
       "instrument                                                                    \n",
       "portfolio_78  Rend Fima Acciones  Rend Superfondo RV  Rend Pionero Acciones   \n",
       "\n",
       "                peso_0    peso_1    peso_2    peso_3    peso_4  Rentabilidad  \\\n",
       "instrument                                                                     \n",
       "portfolio_78  0.421116  0.487603  0.007473  0.067656  0.016152        0.1923   \n",
       "\n",
       "              Volatilidad    sharpe  \n",
       "instrument                           \n",
       "portfolio_78     0.302753  0.902716  "
      ]
     },
     "metadata": {},
     "output_type": "display_data"
    },
    {
     "data": {
      "text/html": [
       "<div>\n",
       "<style scoped>\n",
       "    .dataframe tbody tr th:only-of-type {\n",
       "        vertical-align: middle;\n",
       "    }\n",
       "\n",
       "    .dataframe tbody tr th {\n",
       "        vertical-align: top;\n",
       "    }\n",
       "\n",
       "    .dataframe thead th {\n",
       "        text-align: right;\n",
       "    }\n",
       "</style>\n",
       "<table border=\"1\" class=\"dataframe\">\n",
       "  <thead>\n",
       "    <tr style=\"text-align: right;\">\n",
       "      <th></th>\n",
       "      <th>comp_0</th>\n",
       "      <th>comp_1</th>\n",
       "      <th>comp_2</th>\n",
       "      <th>comp_3</th>\n",
       "      <th>comp_4</th>\n",
       "      <th>peso_0</th>\n",
       "      <th>peso_1</th>\n",
       "      <th>peso_2</th>\n",
       "      <th>peso_3</th>\n",
       "      <th>peso_4</th>\n",
       "      <th>Rentabilidad</th>\n",
       "      <th>Volatilidad</th>\n",
       "      <th>sharpe</th>\n",
       "    </tr>\n",
       "    <tr>\n",
       "      <th>instrument</th>\n",
       "      <th></th>\n",
       "      <th></th>\n",
       "      <th></th>\n",
       "      <th></th>\n",
       "      <th></th>\n",
       "      <th></th>\n",
       "      <th></th>\n",
       "      <th></th>\n",
       "      <th></th>\n",
       "      <th></th>\n",
       "      <th></th>\n",
       "      <th></th>\n",
       "      <th></th>\n",
       "    </tr>\n",
       "  </thead>\n",
       "  <tbody>\n",
       "    <tr>\n",
       "      <th>portfolio_78</th>\n",
       "      <td>Rendimiento Deflact Dólar MEP</td>\n",
       "      <td>Rend Optimum Global Inv</td>\n",
       "      <td>Rend Fima Acciones</td>\n",
       "      <td>Rend Superfondo RV</td>\n",
       "      <td>Rend Pionero Acciones</td>\n",
       "      <td>0.421116</td>\n",
       "      <td>0.487603</td>\n",
       "      <td>0.007473</td>\n",
       "      <td>0.067656</td>\n",
       "      <td>0.016152</td>\n",
       "      <td>0.1923</td>\n",
       "      <td>0.302753</td>\n",
       "      <td>0.902716</td>\n",
       "    </tr>\n",
       "  </tbody>\n",
       "</table>\n",
       "</div>"
      ],
      "text/plain": [
       "                                     comp_0                   comp_1  \\\n",
       "instrument                                                             \n",
       "portfolio_78  Rendimiento Deflact Dólar MEP  Rend Optimum Global Inv   \n",
       "\n",
       "                          comp_2              comp_3                 comp_4  \\\n",
       "instrument                                                                    \n",
       "portfolio_78  Rend Fima Acciones  Rend Superfondo RV  Rend Pionero Acciones   \n",
       "\n",
       "                peso_0    peso_1    peso_2    peso_3    peso_4  Rentabilidad  \\\n",
       "instrument                                                                     \n",
       "portfolio_78  0.421116  0.487603  0.007473  0.067656  0.016152        0.1923   \n",
       "\n",
       "              Volatilidad    sharpe  \n",
       "instrument                           \n",
       "portfolio_78     0.302753  0.902716  "
      ]
     },
     "metadata": {},
     "output_type": "display_data"
    }
   ],
   "source": [
    "# Min Volatility Portfolio Long-Term Funds\n",
    "\n",
    "rango_l = (0.2784, 0.4106, 0.4862)\n",
    "large_clean = large[large['sharpe']>0.7]\n",
    "for i in rango_l:\n",
    "    display(large_clean[large_clean['Volatilidad']==closest(large_clean['Volatilidad'], i)])"
   ]
  }
 ],
 "metadata": {
  "kernelspec": {
   "display_name": ".venv",
   "language": "python",
   "name": "python3"
  },
  "language_info": {
   "codemirror_mode": {
    "name": "ipython",
    "version": 3
   },
   "file_extension": ".py",
   "mimetype": "text/x-python",
   "name": "python",
   "nbconvert_exporter": "python",
   "pygments_lexer": "ipython3",
   "version": "3.10.10"
  },
  "orig_nbformat": 4
 },
 "nbformat": 4,
 "nbformat_minor": 2
}
